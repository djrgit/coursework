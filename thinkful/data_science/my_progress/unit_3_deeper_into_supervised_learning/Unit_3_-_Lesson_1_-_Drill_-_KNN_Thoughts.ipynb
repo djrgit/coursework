{
 "cells": [
  {
   "cell_type": "markdown",
   "metadata": {},
   "source": [
    "# DRILL - KNN Thoughts"
   ]
  },
  {
   "cell_type": "markdown",
   "metadata": {},
   "source": [
    "Let's say we work at a credit card company and we're trying to figure out if people are going to pay their bills on time. We have everyone's purchases, split into four main categories: groceries, dining out, utilities, and entertainment. What are some ways you might use KNN to create this model? What aspects of KNN would be useful? Write up your thoughts in submit a link below."
   ]
  },
  {
   "cell_type": "markdown",
   "metadata": {},
   "source": [
    "### Purchases / Expenses - (Essential / Non-Essential)\n",
    "   - Groceries \n",
    "       - Essential - Variable Expense\n",
    "   - Dining out \n",
    "       - Non-Essential - Variable Expense\n",
    "   - Utilities \n",
    "       - Essential - Variable Expense\n",
    "   - Entertainment \n",
    "       - Non-Essential - Variable Expense"
   ]
  },
  {
   "cell_type": "markdown",
   "metadata": {},
   "source": [
    "### Thoughts\n",
    "One way of analyzing this data may be to scale each of the variables and then divide up the variables into essential and non-essential categories.  Two additional variables could then be created based on the scaled sums of the essential / non-essential variables.  We could then plot these derived variables in a scatter plot with a different hue depending on whether the customer paid on-time or not.\n",
    "\n",
    "This would form the basis of our KNN model which could then be tweaked / tuned by varying 'k' or possibly using weighting."
   ]
  },
  {
   "cell_type": "code",
   "execution_count": null,
   "metadata": {},
   "outputs": [],
   "source": []
  }
 ],
 "metadata": {
  "kernelspec": {
   "display_name": "Python 3",
   "language": "python",
   "name": "python3"
  },
  "language_info": {
   "codemirror_mode": {
    "name": "ipython",
    "version": 3
   },
   "file_extension": ".py",
   "mimetype": "text/x-python",
   "name": "python",
   "nbconvert_exporter": "python",
   "pygments_lexer": "ipython3",
   "version": "3.6.6"
  }
 },
 "nbformat": 4,
 "nbformat_minor": 2
}
