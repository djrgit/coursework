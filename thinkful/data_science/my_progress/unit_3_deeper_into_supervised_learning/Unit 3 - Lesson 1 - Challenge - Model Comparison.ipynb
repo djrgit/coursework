{
 "cells": [
  {
   "cell_type": "markdown",
   "metadata": {},
   "source": [
    "# Challenge - Model Comparison"
   ]
  },
  {
   "cell_type": "code",
   "execution_count": 1,
   "metadata": {},
   "outputs": [],
   "source": [
    "import matplotlib.pyplot as plt\n",
    "import numpy as np\n",
    "import pandas as pd\n",
    "import seaborn as sns\n",
    "from sklearn.model_selection import cross_val_score\n",
    "from sklearn import linear_model\n",
    "from sklearn import neighbors\n",
    "from sklearn import preprocessing as preproc\n",
    "import statsmodels.formula.api as smf\n",
    "import warnings\n",
    "%matplotlib inline"
   ]
  },
  {
   "cell_type": "code",
   "execution_count": 2,
   "metadata": {},
   "outputs": [],
   "source": [
    "# Suppress annoying harmless error.\n",
    "warnings.filterwarnings(action=\"ignore\", module=\"scipy\")"
   ]
  },
  {
   "cell_type": "code",
   "execution_count": 3,
   "metadata": {},
   "outputs": [],
   "source": [
    "data = 'https://raw.githubusercontent.com/djrgit/coursework/master/thinkful/data_science/my_progress/unit_3_deeper_into_supervised_learning/cnt_km_year_powerPS_minPrice_maxPrice_avgPrice_sdPrice.csv'"
   ]
  },
  {
   "cell_type": "code",
   "execution_count": 4,
   "metadata": {},
   "outputs": [],
   "source": [
    "cars = pd.read_csv(data)"
   ]
  },
  {
   "cell_type": "code",
   "execution_count": 5,
   "metadata": {},
   "outputs": [
    {
     "data": {
      "text/html": [
       "<div>\n",
       "<style scoped>\n",
       "    .dataframe tbody tr th:only-of-type {\n",
       "        vertical-align: middle;\n",
       "    }\n",
       "\n",
       "    .dataframe tbody tr th {\n",
       "        vertical-align: top;\n",
       "    }\n",
       "\n",
       "    .dataframe thead th {\n",
       "        text-align: right;\n",
       "    }\n",
       "</style>\n",
       "<table border=\"1\" class=\"dataframe\">\n",
       "  <thead>\n",
       "    <tr style=\"text-align: right;\">\n",
       "      <th></th>\n",
       "      <th>count</th>\n",
       "      <th>km</th>\n",
       "      <th>year</th>\n",
       "      <th>powerPS</th>\n",
       "      <th>minPrice</th>\n",
       "      <th>maxPrice</th>\n",
       "      <th>avgPrice</th>\n",
       "      <th>sdPrice</th>\n",
       "    </tr>\n",
       "  </thead>\n",
       "  <tbody>\n",
       "    <tr>\n",
       "      <th>0</th>\n",
       "      <td>19</td>\n",
       "      <td>125000</td>\n",
       "      <td>1991</td>\n",
       "      <td>40</td>\n",
       "      <td>300</td>\n",
       "      <td>1499</td>\n",
       "      <td>648.3158</td>\n",
       "      <td>352.035293</td>\n",
       "    </tr>\n",
       "    <tr>\n",
       "      <th>1</th>\n",
       "      <td>69</td>\n",
       "      <td>150000</td>\n",
       "      <td>1991</td>\n",
       "      <td>40</td>\n",
       "      <td>110</td>\n",
       "      <td>1600</td>\n",
       "      <td>516.4348</td>\n",
       "      <td>346.767661</td>\n",
       "    </tr>\n",
       "    <tr>\n",
       "      <th>2</th>\n",
       "      <td>11</td>\n",
       "      <td>90000</td>\n",
       "      <td>1991</td>\n",
       "      <td>60</td>\n",
       "      <td>330</td>\n",
       "      <td>10000</td>\n",
       "      <td>2342.4545</td>\n",
       "      <td>3017.432333</td>\n",
       "    </tr>\n",
       "    <tr>\n",
       "      <th>3</th>\n",
       "      <td>26</td>\n",
       "      <td>100000</td>\n",
       "      <td>1991</td>\n",
       "      <td>60</td>\n",
       "      <td>200</td>\n",
       "      <td>8750</td>\n",
       "      <td>1392.3846</td>\n",
       "      <td>1598.662833</td>\n",
       "    </tr>\n",
       "    <tr>\n",
       "      <th>4</th>\n",
       "      <td>42</td>\n",
       "      <td>125000</td>\n",
       "      <td>1991</td>\n",
       "      <td>60</td>\n",
       "      <td>150</td>\n",
       "      <td>4600</td>\n",
       "      <td>1140.6429</td>\n",
       "      <td>1010.314138</td>\n",
       "    </tr>\n",
       "  </tbody>\n",
       "</table>\n",
       "</div>"
      ],
      "text/plain": [
       "   count      km  year  powerPS  minPrice  maxPrice   avgPrice      sdPrice\n",
       "0     19  125000  1991       40       300      1499   648.3158   352.035293\n",
       "1     69  150000  1991       40       110      1600   516.4348   346.767661\n",
       "2     11   90000  1991       60       330     10000  2342.4545  3017.432333\n",
       "3     26  100000  1991       60       200      8750  1392.3846  1598.662833\n",
       "4     42  125000  1991       60       150      4600  1140.6429  1010.314138"
      ]
     },
     "execution_count": 5,
     "metadata": {},
     "output_type": "execute_result"
    }
   ],
   "source": [
    "cars.head()"
   ]
  },
  {
   "cell_type": "code",
   "execution_count": 6,
   "metadata": {},
   "outputs": [
    {
     "name": "stdout",
     "output_type": "stream",
     "text": [
      "<class 'pandas.core.frame.DataFrame'>\n",
      "RangeIndex: 1770 entries, 0 to 1769\n",
      "Data columns (total 8 columns):\n",
      "count       1770 non-null int64\n",
      "km          1770 non-null int64\n",
      "year        1770 non-null int64\n",
      "powerPS     1770 non-null int64\n",
      "minPrice    1770 non-null int64\n",
      "maxPrice    1770 non-null int64\n",
      "avgPrice    1770 non-null float64\n",
      "sdPrice     1770 non-null float64\n",
      "dtypes: float64(2), int64(6)\n",
      "memory usage: 110.7 KB\n"
     ]
    }
   ],
   "source": [
    "cars.info()"
   ]
  },
  {
   "cell_type": "code",
   "execution_count": 7,
   "metadata": {},
   "outputs": [
    {
     "data": {
      "text/html": [
       "<div>\n",
       "<style scoped>\n",
       "    .dataframe tbody tr th:only-of-type {\n",
       "        vertical-align: middle;\n",
       "    }\n",
       "\n",
       "    .dataframe tbody tr th {\n",
       "        vertical-align: top;\n",
       "    }\n",
       "\n",
       "    .dataframe thead th {\n",
       "        text-align: right;\n",
       "    }\n",
       "</style>\n",
       "<table border=\"1\" class=\"dataframe\">\n",
       "  <thead>\n",
       "    <tr style=\"text-align: right;\">\n",
       "      <th></th>\n",
       "      <th>count</th>\n",
       "      <th>km</th>\n",
       "      <th>year</th>\n",
       "      <th>powerPS</th>\n",
       "      <th>minPrice</th>\n",
       "      <th>maxPrice</th>\n",
       "      <th>avgPrice</th>\n",
       "      <th>sdPrice</th>\n",
       "    </tr>\n",
       "  </thead>\n",
       "  <tbody>\n",
       "    <tr>\n",
       "      <th>count</th>\n",
       "      <td>1770.000000</td>\n",
       "      <td>1770.000000</td>\n",
       "      <td>1770.000000</td>\n",
       "      <td>1770.000000</td>\n",
       "      <td>1770.000000</td>\n",
       "      <td>1770.000000</td>\n",
       "      <td>1770.000000</td>\n",
       "      <td>1770.000000</td>\n",
       "    </tr>\n",
       "    <tr>\n",
       "      <th>mean</th>\n",
       "      <td>160.992655</td>\n",
       "      <td>88652.542373</td>\n",
       "      <td>2005.472316</td>\n",
       "      <td>152.011299</td>\n",
       "      <td>4161.532203</td>\n",
       "      <td>21440.299435</td>\n",
       "      <td>10464.486905</td>\n",
       "      <td>3432.732575</td>\n",
       "    </tr>\n",
       "    <tr>\n",
       "      <th>std</th>\n",
       "      <td>378.592089</td>\n",
       "      <td>43909.507345</td>\n",
       "      <td>6.160430</td>\n",
       "      <td>80.359001</td>\n",
       "      <td>5492.165063</td>\n",
       "      <td>16356.444254</td>\n",
       "      <td>9219.917411</td>\n",
       "      <td>2878.065884</td>\n",
       "    </tr>\n",
       "    <tr>\n",
       "      <th>min</th>\n",
       "      <td>11.000000</td>\n",
       "      <td>5000.000000</td>\n",
       "      <td>1991.000000</td>\n",
       "      <td>40.000000</td>\n",
       "      <td>101.000000</td>\n",
       "      <td>950.000000</td>\n",
       "      <td>412.204500</td>\n",
       "      <td>193.395447</td>\n",
       "    </tr>\n",
       "    <tr>\n",
       "      <th>25%</th>\n",
       "      <td>20.000000</td>\n",
       "      <td>60000.000000</td>\n",
       "      <td>2001.000000</td>\n",
       "      <td>80.000000</td>\n",
       "      <td>350.000000</td>\n",
       "      <td>8900.000000</td>\n",
       "      <td>3244.878600</td>\n",
       "      <td>1474.916671</td>\n",
       "    </tr>\n",
       "    <tr>\n",
       "      <th>50%</th>\n",
       "      <td>47.000000</td>\n",
       "      <td>90000.000000</td>\n",
       "      <td>2007.000000</td>\n",
       "      <td>140.000000</td>\n",
       "      <td>1692.500000</td>\n",
       "      <td>17000.000000</td>\n",
       "      <td>7698.028200</td>\n",
       "      <td>2682.633933</td>\n",
       "    </tr>\n",
       "    <tr>\n",
       "      <th>75%</th>\n",
       "      <td>123.750000</td>\n",
       "      <td>125000.000000</td>\n",
       "      <td>2011.000000</td>\n",
       "      <td>200.000000</td>\n",
       "      <td>5999.750000</td>\n",
       "      <td>29800.000000</td>\n",
       "      <td>15409.960200</td>\n",
       "      <td>4468.457934</td>\n",
       "    </tr>\n",
       "    <tr>\n",
       "      <th>max</th>\n",
       "      <td>3623.000000</td>\n",
       "      <td>150000.000000</td>\n",
       "      <td>2015.000000</td>\n",
       "      <td>520.000000</td>\n",
       "      <td>36675.000000</td>\n",
       "      <td>99999.000000</td>\n",
       "      <td>66936.000000</td>\n",
       "      <td>22338.842417</td>\n",
       "    </tr>\n",
       "  </tbody>\n",
       "</table>\n",
       "</div>"
      ],
      "text/plain": [
       "             count             km         year      powerPS      minPrice  \\\n",
       "count  1770.000000    1770.000000  1770.000000  1770.000000   1770.000000   \n",
       "mean    160.992655   88652.542373  2005.472316   152.011299   4161.532203   \n",
       "std     378.592089   43909.507345     6.160430    80.359001   5492.165063   \n",
       "min      11.000000    5000.000000  1991.000000    40.000000    101.000000   \n",
       "25%      20.000000   60000.000000  2001.000000    80.000000    350.000000   \n",
       "50%      47.000000   90000.000000  2007.000000   140.000000   1692.500000   \n",
       "75%     123.750000  125000.000000  2011.000000   200.000000   5999.750000   \n",
       "max    3623.000000  150000.000000  2015.000000   520.000000  36675.000000   \n",
       "\n",
       "           maxPrice      avgPrice       sdPrice  \n",
       "count   1770.000000   1770.000000   1770.000000  \n",
       "mean   21440.299435  10464.486905   3432.732575  \n",
       "std    16356.444254   9219.917411   2878.065884  \n",
       "min      950.000000    412.204500    193.395447  \n",
       "25%     8900.000000   3244.878600   1474.916671  \n",
       "50%    17000.000000   7698.028200   2682.633933  \n",
       "75%    29800.000000  15409.960200   4468.457934  \n",
       "max    99999.000000  66936.000000  22338.842417  "
      ]
     },
     "execution_count": 7,
     "metadata": {},
     "output_type": "execute_result"
    }
   ],
   "source": [
    "cars.describe()"
   ]
  },
  {
   "cell_type": "code",
   "execution_count": 8,
   "metadata": {},
   "outputs": [
    {
     "data": {
      "text/plain": [
       "(array([823., 424., 267., 146.,  65.,  30.,   7.,   4.,   3.,   1.]),\n",
       " array([  412.2045 ,  7064.58405, 13716.9636 , 20369.34315, 27021.7227 ,\n",
       "        33674.10225, 40326.4818 , 46978.86135, 53631.2409 , 60283.62045,\n",
       "        66936.     ]),\n",
       " <a list of 10 Patch objects>)"
      ]
     },
     "execution_count": 8,
     "metadata": {},
     "output_type": "execute_result"
    },
    {
     "data": {
      "image/png": "[encoded data removed]",
      "text/plain": [
       "<Figure size 432x288 with 1 Axes>"
      ]
     },
     "metadata": {},
     "output_type": "display_data"
    }
   ],
   "source": [
    "# View histogram of outcome variable\n",
    "plt.hist(cars['avgPrice'])"
   ]
  },
  {
   "cell_type": "code",
   "execution_count": 9,
   "metadata": {},
   "outputs": [
    {
     "data": {
      "text/plain": [
       "(array([ 21.,  82., 150., 178., 237., 298., 322., 316., 151.,  15.]),\n",
       " array([ 6.02151959,  6.53051685,  7.03951411,  7.54851138,  8.05750864,\n",
       "         8.5665059 ,  9.07550316,  9.58450043, 10.09349769, 10.60249495,\n",
       "        11.11149222]),\n",
       " <a list of 10 Patch objects>)"
      ]
     },
     "execution_count": 9,
     "metadata": {},
     "output_type": "execute_result"
    },
    {
     "data": {
      "image/png": "[encoded data removed]",
      "text/plain": [
       "<Figure size 432x288 with 1 Axes>"
      ]
     },
     "metadata": {},
     "output_type": "display_data"
    }
   ],
   "source": [
    "# View histogram of log of the outcome variable\n",
    "plt.hist(np.log(cars['avgPrice']))"
   ]
  },
  {
   "cell_type": "code",
   "execution_count": 10,
   "metadata": {},
   "outputs": [],
   "source": [
    "# Add the log of the outcome variable as a feature to the DataFrame\n",
    "cars['logAvgPrice'] = np.log(cars['avgPrice'])"
   ]
  },
  {
   "cell_type": "code",
   "execution_count": 11,
   "metadata": {
    "scrolled": true
   },
   "outputs": [
    {
     "data": {
      "text/html": [
       "<div>\n",
       "<style scoped>\n",
       "    .dataframe tbody tr th:only-of-type {\n",
       "        vertical-align: middle;\n",
       "    }\n",
       "\n",
       "    .dataframe tbody tr th {\n",
       "        vertical-align: top;\n",
       "    }\n",
       "\n",
       "    .dataframe thead th {\n",
       "        text-align: right;\n",
       "    }\n",
       "</style>\n",
       "<table border=\"1\" class=\"dataframe\">\n",
       "  <thead>\n",
       "    <tr style=\"text-align: right;\">\n",
       "      <th></th>\n",
       "      <th>count</th>\n",
       "      <th>km</th>\n",
       "      <th>year</th>\n",
       "      <th>powerPS</th>\n",
       "      <th>minPrice</th>\n",
       "      <th>maxPrice</th>\n",
       "      <th>avgPrice</th>\n",
       "      <th>sdPrice</th>\n",
       "      <th>logAvgPrice</th>\n",
       "    </tr>\n",
       "  </thead>\n",
       "  <tbody>\n",
       "    <tr>\n",
       "      <th>0</th>\n",
       "      <td>19</td>\n",
       "      <td>125000</td>\n",
       "      <td>1991</td>\n",
       "      <td>40</td>\n",
       "      <td>300</td>\n",
       "      <td>1499</td>\n",
       "      <td>648.3158</td>\n",
       "      <td>352.035293</td>\n",
       "      <td>6.474378</td>\n",
       "    </tr>\n",
       "    <tr>\n",
       "      <th>1</th>\n",
       "      <td>69</td>\n",
       "      <td>150000</td>\n",
       "      <td>1991</td>\n",
       "      <td>40</td>\n",
       "      <td>110</td>\n",
       "      <td>1600</td>\n",
       "      <td>516.4348</td>\n",
       "      <td>346.767661</td>\n",
       "      <td>6.246949</td>\n",
       "    </tr>\n",
       "    <tr>\n",
       "      <th>2</th>\n",
       "      <td>11</td>\n",
       "      <td>90000</td>\n",
       "      <td>1991</td>\n",
       "      <td>60</td>\n",
       "      <td>330</td>\n",
       "      <td>10000</td>\n",
       "      <td>2342.4545</td>\n",
       "      <td>3017.432333</td>\n",
       "      <td>7.758955</td>\n",
       "    </tr>\n",
       "    <tr>\n",
       "      <th>3</th>\n",
       "      <td>26</td>\n",
       "      <td>100000</td>\n",
       "      <td>1991</td>\n",
       "      <td>60</td>\n",
       "      <td>200</td>\n",
       "      <td>8750</td>\n",
       "      <td>1392.3846</td>\n",
       "      <td>1598.662833</td>\n",
       "      <td>7.238773</td>\n",
       "    </tr>\n",
       "    <tr>\n",
       "      <th>4</th>\n",
       "      <td>42</td>\n",
       "      <td>125000</td>\n",
       "      <td>1991</td>\n",
       "      <td>60</td>\n",
       "      <td>150</td>\n",
       "      <td>4600</td>\n",
       "      <td>1140.6429</td>\n",
       "      <td>1010.314138</td>\n",
       "      <td>7.039347</td>\n",
       "    </tr>\n",
       "  </tbody>\n",
       "</table>\n",
       "</div>"
      ],
      "text/plain": [
       "   count      km  year  powerPS  minPrice  maxPrice   avgPrice      sdPrice  \\\n",
       "0     19  125000  1991       40       300      1499   648.3158   352.035293   \n",
       "1     69  150000  1991       40       110      1600   516.4348   346.767661   \n",
       "2     11   90000  1991       60       330     10000  2342.4545  3017.432333   \n",
       "3     26  100000  1991       60       200      8750  1392.3846  1598.662833   \n",
       "4     42  125000  1991       60       150      4600  1140.6429  1010.314138   \n",
       "\n",
       "   logAvgPrice  \n",
       "0     6.474378  \n",
       "1     6.246949  \n",
       "2     7.758955  \n",
       "3     7.238773  \n",
       "4     7.039347  "
      ]
     },
     "execution_count": 11,
     "metadata": {},
     "output_type": "execute_result"
    }
   ],
   "source": [
    "cars.head()"
   ]
  },
  {
   "cell_type": "code",
   "execution_count": 12,
   "metadata": {},
   "outputs": [],
   "source": [
    "# Add scaled features to the DataFrame\n",
    "cars['minmax_km'] = preproc.minmax_scale(cars[['km']])\n",
    "cars['minmax_year'] = preproc.minmax_scale(cars[['year']])\n",
    "cars['minmax_powerPS'] = preproc.minmax_scale(cars[['powerPS']])"
   ]
  },
  {
   "cell_type": "code",
   "execution_count": 13,
   "metadata": {
    "scrolled": true
   },
   "outputs": [
    {
     "data": {
      "text/html": [
       "<div>\n",
       "<style scoped>\n",
       "    .dataframe tbody tr th:only-of-type {\n",
       "        vertical-align: middle;\n",
       "    }\n",
       "\n",
       "    .dataframe tbody tr th {\n",
       "        vertical-align: top;\n",
       "    }\n",
       "\n",
       "    .dataframe thead th {\n",
       "        text-align: right;\n",
       "    }\n",
       "</style>\n",
       "<table border=\"1\" class=\"dataframe\">\n",
       "  <thead>\n",
       "    <tr style=\"text-align: right;\">\n",
       "      <th></th>\n",
       "      <th>count</th>\n",
       "      <th>km</th>\n",
       "      <th>year</th>\n",
       "      <th>powerPS</th>\n",
       "      <th>minPrice</th>\n",
       "      <th>maxPrice</th>\n",
       "      <th>avgPrice</th>\n",
       "      <th>sdPrice</th>\n",
       "      <th>logAvgPrice</th>\n",
       "      <th>minmax_km</th>\n",
       "      <th>minmax_year</th>\n",
       "      <th>minmax_powerPS</th>\n",
       "    </tr>\n",
       "  </thead>\n",
       "  <tbody>\n",
       "    <tr>\n",
       "      <th>0</th>\n",
       "      <td>19</td>\n",
       "      <td>125000</td>\n",
       "      <td>1991</td>\n",
       "      <td>40</td>\n",
       "      <td>300</td>\n",
       "      <td>1499</td>\n",
       "      <td>648.3158</td>\n",
       "      <td>352.035293</td>\n",
       "      <td>6.474378</td>\n",
       "      <td>0.827586</td>\n",
       "      <td>0.0</td>\n",
       "      <td>0.000000</td>\n",
       "    </tr>\n",
       "    <tr>\n",
       "      <th>1</th>\n",
       "      <td>69</td>\n",
       "      <td>150000</td>\n",
       "      <td>1991</td>\n",
       "      <td>40</td>\n",
       "      <td>110</td>\n",
       "      <td>1600</td>\n",
       "      <td>516.4348</td>\n",
       "      <td>346.767661</td>\n",
       "      <td>6.246949</td>\n",
       "      <td>1.000000</td>\n",
       "      <td>0.0</td>\n",
       "      <td>0.000000</td>\n",
       "    </tr>\n",
       "    <tr>\n",
       "      <th>2</th>\n",
       "      <td>11</td>\n",
       "      <td>90000</td>\n",
       "      <td>1991</td>\n",
       "      <td>60</td>\n",
       "      <td>330</td>\n",
       "      <td>10000</td>\n",
       "      <td>2342.4545</td>\n",
       "      <td>3017.432333</td>\n",
       "      <td>7.758955</td>\n",
       "      <td>0.586207</td>\n",
       "      <td>0.0</td>\n",
       "      <td>0.041667</td>\n",
       "    </tr>\n",
       "    <tr>\n",
       "      <th>3</th>\n",
       "      <td>26</td>\n",
       "      <td>100000</td>\n",
       "      <td>1991</td>\n",
       "      <td>60</td>\n",
       "      <td>200</td>\n",
       "      <td>8750</td>\n",
       "      <td>1392.3846</td>\n",
       "      <td>1598.662833</td>\n",
       "      <td>7.238773</td>\n",
       "      <td>0.655172</td>\n",
       "      <td>0.0</td>\n",
       "      <td>0.041667</td>\n",
       "    </tr>\n",
       "    <tr>\n",
       "      <th>4</th>\n",
       "      <td>42</td>\n",
       "      <td>125000</td>\n",
       "      <td>1991</td>\n",
       "      <td>60</td>\n",
       "      <td>150</td>\n",
       "      <td>4600</td>\n",
       "      <td>1140.6429</td>\n",
       "      <td>1010.314138</td>\n",
       "      <td>7.039347</td>\n",
       "      <td>0.827586</td>\n",
       "      <td>0.0</td>\n",
       "      <td>0.041667</td>\n",
       "    </tr>\n",
       "  </tbody>\n",
       "</table>\n",
       "</div>"
      ],
      "text/plain": [
       "   count      km  year  powerPS  minPrice  maxPrice   avgPrice      sdPrice  \\\n",
       "0     19  125000  1991       40       300      1499   648.3158   352.035293   \n",
       "1     69  150000  1991       40       110      1600   516.4348   346.767661   \n",
       "2     11   90000  1991       60       330     10000  2342.4545  3017.432333   \n",
       "3     26  100000  1991       60       200      8750  1392.3846  1598.662833   \n",
       "4     42  125000  1991       60       150      4600  1140.6429  1010.314138   \n",
       "\n",
       "   logAvgPrice  minmax_km  minmax_year  minmax_powerPS  \n",
       "0     6.474378   0.827586          0.0        0.000000  \n",
       "1     6.246949   1.000000          0.0        0.000000  \n",
       "2     7.758955   0.586207          0.0        0.041667  \n",
       "3     7.238773   0.655172          0.0        0.041667  \n",
       "4     7.039347   0.827586          0.0        0.041667  "
      ]
     },
     "execution_count": 13,
     "metadata": {},
     "output_type": "execute_result"
    }
   ],
   "source": [
    "cars.head()"
   ]
  },
  {
   "cell_type": "markdown",
   "metadata": {},
   "source": [
    "## Linear Regression"
   ]
  },
  {
   "cell_type": "markdown",
   "metadata": {},
   "source": [
    "### Using scikit-learn"
   ]
  },
  {
   "cell_type": "code",
   "execution_count": 14,
   "metadata": {
    "scrolled": true
   },
   "outputs": [
    {
     "name": "stdout",
     "output_type": "stream",
     "text": [
      "\n",
      "Coefficients: \n",
      " [-0.20275887  2.65816393  3.39305368]\n",
      "\n",
      "Intercept: \n",
      " 6.537201868640395\n",
      "\n",
      "R-squared:\n",
      "0.9048525888415524\n"
     ]
    }
   ],
   "source": [
    "# Instantiate and fit our model.\n",
    "regr = linear_model.LinearRegression()\n",
    "X = cars[['minmax_km', 'minmax_year', 'minmax_powerPS']]\n",
    "y = cars['logAvgPrice']\n",
    "regr.fit(X, y)\n",
    "\n",
    "# Inspect the results.\n",
    "print('\\nCoefficients: \\n', regr.coef_)\n",
    "print('\\nIntercept: \\n', regr.intercept_)\n",
    "print('\\nR-squared:')\n",
    "print(regr.score(X, y))"
   ]
  },
  {
   "cell_type": "code",
   "execution_count": 15,
   "metadata": {},
   "outputs": [
    {
     "data": {
      "text/plain": [
       "array([0.38864176, 0.75778453, 0.74759205, 0.8173221 , 0.83105259])"
      ]
     },
     "execution_count": 15,
     "metadata": {},
     "output_type": "execute_result"
    }
   ],
   "source": [
    "cross_val_score(regr, X, y, cv=5)"
   ]
  },
  {
   "cell_type": "markdown",
   "metadata": {},
   "source": [
    "### Using statsmodels"
   ]
  },
  {
   "cell_type": "code",
   "execution_count": 16,
   "metadata": {},
   "outputs": [],
   "source": [
    "linear_formula = 'logAvgPrice ~ minmax_km+minmax_year+minmax_powerPS'\n",
    "lm = smf.ols(formula=linear_formula, data=cars).fit()"
   ]
  },
  {
   "cell_type": "code",
   "execution_count": 17,
   "metadata": {},
   "outputs": [
    {
     "data": {
      "text/plain": [
       "Intercept         6.537202\n",
       "minmax_km        -0.202759\n",
       "minmax_year       2.658164\n",
       "minmax_powerPS    3.393054\n",
       "dtype: float64"
      ]
     },
     "execution_count": 17,
     "metadata": {},
     "output_type": "execute_result"
    }
   ],
   "source": [
    "lm.params"
   ]
  },
  {
   "cell_type": "code",
   "execution_count": 18,
   "metadata": {},
   "outputs": [
    {
     "data": {
      "text/plain": [
       "0.9048525888415524"
      ]
     },
     "execution_count": 18,
     "metadata": {},
     "output_type": "execute_result"
    }
   ],
   "source": [
    "lm.rsquared"
   ]
  },
  {
   "cell_type": "code",
   "execution_count": 19,
   "metadata": {},
   "outputs": [
    {
     "data": {
      "text/plain": [
       "Intercept         0.000000e+00\n",
       "minmax_km         6.919422e-12\n",
       "minmax_year       0.000000e+00\n",
       "minmax_powerPS    0.000000e+00\n",
       "dtype: float64"
      ]
     },
     "execution_count": 19,
     "metadata": {},
     "output_type": "execute_result"
    }
   ],
   "source": [
    "lm.pvalues"
   ]
  },
  {
   "cell_type": "markdown",
   "metadata": {},
   "source": [
    "### Assumptions of Multivariable Linear Regression"
   ]
  },
  {
   "cell_type": "markdown",
   "metadata": {},
   "source": [
    "###### Assumption One:  Linear relationship with all variables"
   ]
  },
  {
   "cell_type": "code",
   "execution_count": 20,
   "metadata": {},
   "outputs": [
    {
     "data": {
      "image/png": "[encoded data removed]",
      "text/plain": [
       "<Figure size 432x288 with 1 Axes>"
      ]
     },
     "metadata": {},
     "output_type": "display_data"
    }
   ],
   "source": [
    "sns.regplot(x='km', y='logAvgPrice', data=cars)\n",
    "plt.title('km vs. logAvgPrice')\n",
    "plt.show()"
   ]
  },
  {
   "cell_type": "code",
   "execution_count": 21,
   "metadata": {},
   "outputs": [
    {
     "data": {
      "image/png": "[encoded data removed]",
      "text/plain": [
       "<Figure size 432x288 with 1 Axes>"
      ]
     },
     "metadata": {},
     "output_type": "display_data"
    }
   ],
   "source": [
    "sns.regplot(x='year', y='logAvgPrice', data=cars)\n",
    "plt.title('year vs. logAvgPrice')\n",
    "plt.show()"
   ]
  },
  {
   "cell_type": "code",
   "execution_count": 22,
   "metadata": {
    "scrolled": true
   },
   "outputs": [
    {
     "data": {
      "image/png": "[encoded data removed]",
      "text/plain": [
       "<Figure size 432x288 with 1 Axes>"
      ]
     },
     "metadata": {},
     "output_type": "display_data"
    }
   ],
   "source": [
    "sns.regplot(x='powerPS', y='logAvgPrice', data=cars)\n",
    "plt.title('powerPS vs. logAvgPrice')\n",
    "plt.show()"
   ]
  },
  {
   "cell_type": "markdown",
   "metadata": {},
   "source": [
    "###### Assumption Two:  Multivariate normality"
   ]
  },
  {
   "cell_type": "code",
   "execution_count": 23,
   "metadata": {
    "scrolled": true
   },
   "outputs": [
    {
     "data": {
      "image/png": "[encoded data removed]",
      "text/plain": [
       "<Figure size 432x288 with 1 Axes>"
      ]
     },
     "metadata": {},
     "output_type": "display_data"
    }
   ],
   "source": [
    "# Extract predicted values\n",
    "pred = regr.predict(X).ravel()\n",
    "actual = cars['logAvgPrice']\n",
    "\n",
    "# Calculate the error, also called the residual\n",
    "residual = actual - pred\n",
    "\n",
    "sns.distplot(residual)\n",
    "plt.title('Residual Counts')\n",
    "plt.show()"
   ]
  },
  {
   "cell_type": "markdown",
   "metadata": {},
   "source": [
    "###### Assumption Three:  Scedasticity"
   ]
  },
  {
   "cell_type": "code",
   "execution_count": 24,
   "metadata": {},
   "outputs": [
    {
     "data": {
      "image/png": "[encoded data removed]",
      "text/plain": [
       "<Figure size 432x288 with 1 Axes>"
      ]
     },
     "metadata": {},
     "output_type": "display_data"
    }
   ],
   "source": [
    "sns.regplot(x=pred, y=residual, fit_reg=False)\n",
    "plt.xlabel('Predicted')\n",
    "plt.ylabel('Residual')\n",
    "plt.axhline(y=0)\n",
    "plt.title('Residual vs. Predicted')\n",
    "plt.show()"
   ]
  },
  {
   "cell_type": "markdown",
   "metadata": {},
   "source": [
    "###### Assumption Four:  Low multicollinearity"
   ]
  },
  {
   "cell_type": "code",
   "execution_count": 25,
   "metadata": {
    "scrolled": true
   },
   "outputs": [
    {
     "data": {
      "text/html": [
       "<div>\n",
       "<style scoped>\n",
       "    .dataframe tbody tr th:only-of-type {\n",
       "        vertical-align: middle;\n",
       "    }\n",
       "\n",
       "    .dataframe tbody tr th {\n",
       "        vertical-align: top;\n",
       "    }\n",
       "\n",
       "    .dataframe thead th {\n",
       "        text-align: right;\n",
       "    }\n",
       "</style>\n",
       "<table border=\"1\" class=\"dataframe\">\n",
       "  <thead>\n",
       "    <tr style=\"text-align: right;\">\n",
       "      <th></th>\n",
       "      <th>minmax_km</th>\n",
       "      <th>minmax_year</th>\n",
       "      <th>minmax_powerPS</th>\n",
       "    </tr>\n",
       "  </thead>\n",
       "  <tbody>\n",
       "    <tr>\n",
       "      <th>minmax_km</th>\n",
       "      <td>1.000000</td>\n",
       "      <td>-0.418498</td>\n",
       "      <td>0.244530</td>\n",
       "    </tr>\n",
       "    <tr>\n",
       "      <th>minmax_year</th>\n",
       "      <td>-0.418498</td>\n",
       "      <td>1.000000</td>\n",
       "      <td>0.184255</td>\n",
       "    </tr>\n",
       "    <tr>\n",
       "      <th>minmax_powerPS</th>\n",
       "      <td>0.244530</td>\n",
       "      <td>0.184255</td>\n",
       "      <td>1.000000</td>\n",
       "    </tr>\n",
       "  </tbody>\n",
       "</table>\n",
       "</div>"
      ],
      "text/plain": [
       "                minmax_km  minmax_year  minmax_powerPS\n",
       "minmax_km        1.000000    -0.418498        0.244530\n",
       "minmax_year     -0.418498     1.000000        0.184255\n",
       "minmax_powerPS   0.244530     0.184255        1.000000"
      ]
     },
     "metadata": {},
     "output_type": "display_data"
    }
   ],
   "source": [
    "X = cars[['minmax_km', 'minmax_year', 'minmax_powerPS']]\n",
    "corrmat = X.corr()\n",
    "display(corrmat)"
   ]
  },
  {
   "cell_type": "markdown",
   "metadata": {},
   "source": [
    "## KNN (Un-weighted & Weighted)"
   ]
  },
  {
   "cell_type": "code",
   "execution_count": 26,
   "metadata": {},
   "outputs": [],
   "source": [
    "def knn_unweighted_and_weighted(X, y, num):\n",
    "    # Build our model.\n",
    "    knn = neighbors.KNeighborsRegressor(n_neighbors=num)\n",
    "    knn.fit(X, y)\n",
    "\n",
    "    # Run the same model, this time with weights.\n",
    "    knn_w = neighbors.KNeighborsRegressor(n_neighbors=num, weights='distance')\n",
    "    knn_w.fit(X, y)\n",
    "    \n",
    "    score = cross_val_score(knn, X, y, cv=5)\n",
    "    print('k =', num)\n",
    "    print(\"Unweighted Accuracy: %0.2f (+/- %0.2f)\" % (score.mean(), score.std() * 2))\n",
    "    score_w = cross_val_score(knn_w, X, y, cv=5)\n",
    "    print(\"Weighted Accuracy: %0.2f (+/- %0.2f)\" % (score_w.mean(), score_w.std() * 2))\n",
    "    \n",
    "    print('\\n'*2)"
   ]
  },
  {
   "cell_type": "code",
   "execution_count": 27,
   "metadata": {},
   "outputs": [],
   "source": [
    "nums = [200, 100, 50, 25, 20, 15, 10, 5, 4, 3]"
   ]
  },
  {
   "cell_type": "code",
   "execution_count": 28,
   "metadata": {},
   "outputs": [
    {
     "name": "stdout",
     "output_type": "stream",
     "text": [
      "k = 200\n",
      "Unweighted Accuracy: 0.12 (+/- 1.27)\n",
      "Weighted Accuracy: 0.25 (+/- 1.15)\n",
      "\n",
      "\n",
      "\n",
      "k = 100\n",
      "Unweighted Accuracy: 0.41 (+/- 0.90)\n",
      "Weighted Accuracy: 0.47 (+/- 0.82)\n",
      "\n",
      "\n",
      "\n",
      "k = 50\n",
      "Unweighted Accuracy: 0.57 (+/- 0.62)\n",
      "Weighted Accuracy: 0.60 (+/- 0.58)\n",
      "\n",
      "\n",
      "\n",
      "k = 25\n",
      "Unweighted Accuracy: 0.64 (+/- 0.45)\n",
      "Weighted Accuracy: 0.66 (+/- 0.43)\n",
      "\n",
      "\n",
      "\n",
      "k = 20\n",
      "Unweighted Accuracy: 0.66 (+/- 0.42)\n",
      "Weighted Accuracy: 0.68 (+/- 0.40)\n",
      "\n",
      "\n",
      "\n",
      "k = 15\n",
      "Unweighted Accuracy: 0.68 (+/- 0.37)\n",
      "Weighted Accuracy: 0.70 (+/- 0.36)\n",
      "\n",
      "\n",
      "\n",
      "k = 10\n",
      "Unweighted Accuracy: 0.71 (+/- 0.31)\n",
      "Weighted Accuracy: 0.72 (+/- 0.31)\n",
      "\n",
      "\n",
      "\n",
      "k = 5\n",
      "Unweighted Accuracy: 0.75 (+/- 0.24)\n",
      "Weighted Accuracy: 0.75 (+/- 0.24)\n",
      "\n",
      "\n",
      "\n",
      "k = 4\n",
      "Unweighted Accuracy: 0.75 (+/- 0.24)\n",
      "Weighted Accuracy: 0.75 (+/- 0.23)\n",
      "\n",
      "\n",
      "\n",
      "k = 3\n",
      "Unweighted Accuracy: 0.75 (+/- 0.21)\n",
      "Weighted Accuracy: 0.76 (+/- 0.21)\n",
      "\n",
      "\n",
      "\n"
     ]
    }
   ],
   "source": [
    "for k in nums:\n",
    "    knn_unweighted_and_weighted(X, y, k)"
   ]
  },
  {
   "cell_type": "markdown",
   "metadata": {},
   "source": [
    "### Summary:"
   ]
  },
  {
   "cell_type": "markdown",
   "metadata": {},
   "source": [
    "In a Linear Regression model, the independent variables should have linear relationships with the dependent variable.  If this assumption holds true, a Linear Regression model can be expected to outperform a K-Nearest Neighbor model.  Low multicollinearity between the independent variables in the Linear Regression model also contributes to better performance (The linear model R^2 = 0.905 beats all tested values of k unweighted & weighted in the KNN model).\n",
    "\n",
    "In this example, linear relationships can be observed in each of the independent variables relative to the transformed outcome variable (the log of the average price of cars that are sold); however, there also appears to be significant variance in some of the variables that may weaken the model's performance relative to a KNN model.  "
   ]
  },
  {
   "cell_type": "code",
   "execution_count": null,
   "metadata": {},
   "outputs": [],
   "source": []
  }
 ],
 "metadata": {
  "kernelspec": {
   "display_name": "Python 3",
   "language": "python",
   "name": "python3"
  },
  "language_info": {
   "codemirror_mode": {
    "name": "ipython",
    "version": 3
   },
   "file_extension": ".py",
   "mimetype": "text/x-python",
   "name": "python",
   "nbconvert_exporter": "python",
   "pygments_lexer": "ipython3",
   "version": "3.6.6"
  }
 },
 "nbformat": 4,
 "nbformat_minor": 2
}
