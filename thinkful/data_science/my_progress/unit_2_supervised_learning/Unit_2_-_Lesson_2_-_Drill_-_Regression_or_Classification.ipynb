{
 "cells": [
  {
   "cell_type": "markdown",
   "metadata": {},
   "source": [
    "# Drill - Regression or Classification"
   ]
  },
  {
   "cell_type": "markdown",
   "metadata": {},
   "source": [
    "### For each of the following situations, decide if you would model using a regression or classification model. Discuss your reasoning with your mentor next time you meet."
   ]
  },
  {
   "cell_type": "markdown",
   "metadata": {},
   "source": [
    "###### 1.  The amount a person will spend on a given site in the next 24 months."
   ]
  },
  {
   "cell_type": "markdown",
   "metadata": {},
   "source": [
    ">Regression"
   ]
  },
  {
   "cell_type": "markdown",
   "metadata": {},
   "source": [
    "###### 2.  What color car someone is going to buy."
   ]
  },
  {
   "cell_type": "markdown",
   "metadata": {},
   "source": [
    ">Classification"
   ]
  },
  {
   "cell_type": "markdown",
   "metadata": {},
   "source": [
    "###### 3.  How many children a family will have."
   ]
  },
  {
   "cell_type": "markdown",
   "metadata": {},
   "source": [
    ">Classification or Regression"
   ]
  },
  {
   "cell_type": "markdown",
   "metadata": {},
   "source": [
    "###### 4.  If someone will sign up for a service."
   ]
  },
  {
   "cell_type": "markdown",
   "metadata": {},
   "source": [
    ">Classification"
   ]
  },
  {
   "cell_type": "markdown",
   "metadata": {},
   "source": [
    "###### 5.  The number of times someone will get sick in a year."
   ]
  },
  {
   "cell_type": "markdown",
   "metadata": {},
   "source": [
    ">Classification or Regression"
   ]
  },
  {
   "cell_type": "markdown",
   "metadata": {},
   "source": [
    "###### 6.  The probability someone will get sick in the next month."
   ]
  },
  {
   "cell_type": "markdown",
   "metadata": {},
   "source": [
    ">Regression (if we treat it as a simple, continuous probability b/w 0 and 1); (Classification if ranges are defined)"
   ]
  },
  {
   "cell_type": "markdown",
   "metadata": {},
   "source": [
    "###### 7.  Which medicine will work best for a given patient."
   ]
  },
  {
   "cell_type": "markdown",
   "metadata": {},
   "source": [
    ">Classification"
   ]
  },
  {
   "cell_type": "code",
   "execution_count": null,
   "metadata": {},
   "outputs": [],
   "source": []
  }
 ],
 "metadata": {
  "kernelspec": {
   "display_name": "Python 3",
   "language": "python",
   "name": "python3"
  },
  "language_info": {
   "codemirror_mode": {
    "name": "ipython",
    "version": 3
   },
   "file_extension": ".py",
   "mimetype": "text/x-python",
   "name": "python",
   "nbconvert_exporter": "python",
   "pygments_lexer": "ipython3",
   "version": "3.6.6"
  }
 },
 "nbformat": 4,
 "nbformat_minor": 2
}
