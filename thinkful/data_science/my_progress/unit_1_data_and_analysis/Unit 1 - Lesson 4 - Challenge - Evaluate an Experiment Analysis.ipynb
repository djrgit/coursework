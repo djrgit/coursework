{
 "cells": [
  {
   "cell_type": "markdown",
   "metadata": {},
   "source": [
    "# Challenge - Evaluate an experiment analysis"
   ]
  },
  {
   "cell_type": "markdown",
   "metadata": {},
   "source": [
    "## Now it's time to flex your critical evaluation skills. Read the following descriptions of an experiment and its analysis, identify the flaws in each, and describe what you would do to correct them."
   ]
  },
  {
   "cell_type": "markdown",
   "metadata": {},
   "source": [
    "### 1.  The Sith Lords are concerned that their recruiting slogan, \"Give In to Your Anger,\" isn't very effective. Darth Vader develops an alternative slogan, \"Together We Can Rule the Galaxy.\" They compare the slogans on two groups of 50 captured droids each. In one group, Emperor Palpatine delivers the \"Anger\" slogan. In the other, Darth Vader presents the \"Together\" slogan. 20 droids convert to the Dark Side after hearing Palpatine's slogan, while only 5 droids convert after hearing Vader's. The Sith's data scientist concludes that \"Anger\" is a more effective slogan and should continue to be used."
   ]
  },
  {
   "cell_type": "markdown",
   "metadata": {},
   "source": [
    "> ###### Flaws:\n",
    "- Sample size - quite small relative to the size of the Imperial army\n",
    "- Sampling bias - only droids are being sampled\n",
    "- Observer bias - the Emperor outranks Darth Vader, which may influence the results\n",
    "- Droids can be reprogrammed when captured\n",
    "\n",
    "> ###### Corrective Action:\n",
    "- None.  “Never interrupt your enemy when he is making a mistake.”  Go along with the groupthink often inherent in overly centralized organizations and play the role of a yes-man.  Keep this intelligence to yourself while continuing your plans to defect to the Rebel Alliance after your 'shield-strength study mission to Endor' next month.  Prepare an ad/meme that might go viral when dispersed throughout the galaxy poking fun at the lame \"Give In to Your Anger\" slogan."
   ]
  },
  {
   "cell_type": "markdown",
   "metadata": {},
   "source": [
    "### 2.  In the past, the Jedi have had difficulty with public relations. They send two envoys, Jar Jar Binks and Mace Windu, to four friendly and four unfriendly planets respectively, with the goal of promoting favorable feelings toward the Jedi. Upon their return, the envoys learn that Jar Jar was much more effective than Windu: Over 75% of the people surveyed said their attitudes had become more favorable after speaking with Jar Jar, while only 65% said their attitudes had become more favorable after speaking with Windu. This makes Windu angry, because he is sure that he had a better success rate than Jar Jar on every planet. The Jedi choose Jar Jar to be their representative in the future."
   ]
  },
  {
   "cell_type": "markdown",
   "metadata": {},
   "source": [
    "> ###### Flaws:\n",
    "- Sampling bias - Jar Jar was sent to planets that were already considered friendly, while Mace Windu performed very well on planets initially considered unfriendly\n",
    "- Outside factors - In early screenings of films documenting the successes of the Jedi, audiences have responded less favorably toward Jar Jar.\n",
    "\n",
    "> ###### Corrective Action:\n",
    "- Have a friendly chat with Mace to make sure he can let go of his anger...\n",
    "- Everyone knows that Jar Jar's heart is in the right place.  Reward Jar Jar for his efforts with a vacation and continue sending him to friendly planets along with other Jedi representatives, but privately lobby the Jedi to reverse their decision and have Mace Windu be a more senior representative."
   ]
  },
  {
   "cell_type": "markdown",
   "metadata": {},
   "source": [
    "### 3.  A company with work sites in five different countries has sent you data on employee satisfaction rates for workers in Human Resources and workers in Information Technology. Most HR workers are concentrated in three of the countries, while IT workers are equally distributed across worksites. The company requests a report on satisfaction for each job type. You calculate average job satisfaction for HR and for IT and present the report."
   ]
  },
  {
   "cell_type": "markdown",
   "metadata": {},
   "source": [
    "> ###### Flaws:\n",
    "- Possibly subject to Simpson's Paradox\n",
    "\n",
    "> ###### Corrective Action:\n",
    "- Break up statistical calculations by location and department"
   ]
  },
  {
   "cell_type": "markdown",
   "metadata": {},
   "source": [
    "### 4.  When people install the Happy Days Fitness Tracker app, they are asked to \"opt in\" to a data collection scheme where their level of physical activity data is automatically sent to the company for product research purposes. During your interview with the company, they tell you that the app is very effective because after installing the app, the data show that people's activity levels rise steadily."
   ]
  },
  {
   "cell_type": "markdown",
   "metadata": {},
   "source": [
    "> ###### Flaws:\n",
    "- Sampling bias - some people may be more self-conscious about reporting their exercise habits and may not opt-in\n",
    "\n",
    "> ###### Corrective Action:\n",
    "- Ask the interviewer whether the company has considered gathering other *optional* information (gender, age, height, weight, etc.) about users during installation that may be used to cross-reference data with people who opt-in vs those that don't.  Currently, the perception of the app's effectiveness is only based on tracking data for people who opt-in."
   ]
  },
  {
   "cell_type": "markdown",
   "metadata": {},
   "source": [
    "### 5.  To prevent cheating, a teacher writes three versions of a test. She stacks the three versions together, first all copies of Version A, then all copies of Version B, then all copies of Version C. As students arrive for the exam, each student takes a test. When grading the test, the teacher finds that students who took Version B scored higher than students who took either Version A or Version C. She concludes from this that Version B is easier, and discards it."
   ]
  },
  {
   "cell_type": "markdown",
   "metadata": {},
   "source": [
    "> ###### Flaws:\n",
    "- Students arriving earlier (receiving version A) may be more likely to spread out in where they choose to sit for the exam.  As seats fill up, students arriving later receiving version B may be more likely to fill in the gaps in seating and sit closer together (next to other students receiving version B).  The last students to arrive (receiving version C) have to choose among the remaining seats which are likely more isolated (from other students receiving version C). \n",
    "\n",
    "> ###### Corrective Action:\n",
    "- The stack of tests should be shuffled so that test versions are more evenly distributed among students regardless of when they arrive for the exam."
   ]
  },
  {
   "cell_type": "code",
   "execution_count": null,
   "metadata": {},
   "outputs": [],
   "source": []
  }
 ],
 "metadata": {
  "kernelspec": {
   "display_name": "Python 3",
   "language": "python",
   "name": "python3"
  },
  "language_info": {
   "codemirror_mode": {
    "name": "ipython",
    "version": 3
   },
   "file_extension": ".py",
   "mimetype": "text/x-python",
   "name": "python",
   "nbconvert_exporter": "python",
   "pygments_lexer": "ipython3",
   "version": "3.6.6"
  }
 },
 "nbformat": 4,
 "nbformat_minor": 2
}
