{
 "cells": [
  {
   "cell_type": "markdown",
   "metadata": {},
   "source": [
    "# Unit 1 - Lesson 2 - Challenge - PostgreSQL - AirBnb Cities - SFO"
   ]
  },
  {
   "cell_type": "code",
   "execution_count": 1,
   "metadata": {},
   "outputs": [],
   "source": [
    "import psycopg2"
   ]
  },
  {
   "cell_type": "code",
   "execution_count": 2,
   "metadata": {},
   "outputs": [],
   "source": [
    "conn = psycopg2.connect(host=\"***.***.***.***\", database=\"air_bnb_data\", user=\"****\", password=\"****\")\n",
    "cur = conn.cursor()"
   ]
  },
  {
   "cell_type": "markdown",
   "metadata": {},
   "source": [
    "### QUERY 1:  What's the most expensive listing? What else can you tell me about the listing?"
   ]
  },
  {
   "cell_type": "code",
   "execution_count": 3,
   "metadata": {},
   "outputs": [],
   "source": [
    "q1 = '''\n",
    "SELECT\n",
    "   name, \n",
    "   neighbourhood, \n",
    "   room_type, \n",
    "   minimum_nights, \n",
    "   number_of_reviews,\n",
    "   reviews_per_month, \n",
    "   last_review,\n",
    "   availability_365, \n",
    "   MAX(price) most_expensive\n",
    "FROM\n",
    "   sfo_listings\n",
    "GROUP BY 1,2,3,4,5,6,7,8\n",
    "ORDER BY most_expensive DESC\n",
    "LIMIT 1;\n",
    "'''"
   ]
  },
  {
   "cell_type": "code",
   "execution_count": 4,
   "metadata": {},
   "outputs": [],
   "source": [
    "cur.execute(q1)\n",
    "query1 = cur.fetchall()"
   ]
  },
  {
   "cell_type": "code",
   "execution_count": 5,
   "metadata": {},
   "outputs": [
    {
     "data": {
      "text/plain": [
       "[('Full House Victorian: 7500 SqFt, 4 Floors, Hot Tub',\n",
       "  'Western Addition',\n",
       "  'Entire home/apt',\n",
       "  2,\n",
       "  3,\n",
       "  1.0,\n",
       "  datetime.date(2018, 5, 24),\n",
       "  '18',\n",
       "  10000.0)]"
      ]
     },
     "execution_count": 5,
     "metadata": {},
     "output_type": "execute_result"
    }
   ],
   "source": [
    "query1[:5]"
   ]
  },
  {
   "cell_type": "markdown",
   "metadata": {},
   "source": [
    "### QUERY 2:  What neighborhoods seem to be the most popular?"
   ]
  },
  {
   "cell_type": "code",
   "execution_count": 6,
   "metadata": {},
   "outputs": [],
   "source": [
    "q2 = '''\n",
    "SELECT\n",
    "    neighbourhood,\n",
    "    SUM(reviews_per_month) reviews_per_month\n",
    "FROM\n",
    "    sfo_listings\n",
    "GROUP BY 1\n",
    "ORDER BY reviews_per_month DESC\n",
    "LIMIT 10;\n",
    "'''"
   ]
  },
  {
   "cell_type": "code",
   "execution_count": 7,
   "metadata": {},
   "outputs": [],
   "source": [
    "cur.execute(q2)\n",
    "query2 = cur.fetchall()"
   ]
  },
  {
   "cell_type": "code",
   "execution_count": 8,
   "metadata": {},
   "outputs": [
    {
     "data": {
      "text/plain": [
       "[('Mission', 1074.3),\n",
       " ('Outer Sunset', 801.25),\n",
       " ('Western Addition', 714.64),\n",
       " ('Bernal Heights', 695.38),\n",
       " ('Castro/Upper Market', 662.09),\n",
       " ('Noe Valley', 513.2),\n",
       " ('South of Market', 479.12),\n",
       " ('Downtown/Civic Center', 451.55),\n",
       " ('Haight Ashbury', 432.0),\n",
       " ('Inner Richmond', 423.03)]"
      ]
     },
     "execution_count": 8,
     "metadata": {},
     "output_type": "execute_result"
    }
   ],
   "source": [
    "query2[:10]"
   ]
  },
  {
   "cell_type": "markdown",
   "metadata": {},
   "source": [
    "### Query 3:  What time of year is the cheapest time to go to San Francisco? What about the busiest?"
   ]
  },
  {
   "cell_type": "code",
   "execution_count": 9,
   "metadata": {},
   "outputs": [],
   "source": [
    "q3_cheapest = '''\n",
    "SELECT\n",
    "     DATE_PART('month', calender_date) mo,\n",
    "     AVG(REPLACE(LTRIM(price, '$'), ',', '')::NUMERIC) price\n",
    " FROM\n",
    "     sfo_calendar\n",
    " WHERE\n",
    "     available = 't'\n",
    " GROUP BY 1\n",
    " ORDER BY price ASC;\n",
    "'''"
   ]
  },
  {
   "cell_type": "code",
   "execution_count": 10,
   "metadata": {},
   "outputs": [],
   "source": [
    "cur.execute(q3_cheapest)\n",
    "query3_cheapest = cur.fetchall()"
   ]
  },
  {
   "cell_type": "code",
   "execution_count": 11,
   "metadata": {
    "scrolled": true
   },
   "outputs": [
    {
     "data": {
      "text/plain": [
       "[(1.0, Decimal('212.5098707380684955')),\n",
       " (2.0, Decimal('220.8128549173325293')),\n",
       " (12.0, Decimal('222.9081568193931737')),\n",
       " (4.0, Decimal('228.1356588675200663')),\n",
       " (3.0, Decimal('228.3391944525744647')),\n",
       " (5.0, Decimal('229.6771037860063293')),\n",
       " (11.0, Decimal('237.4455275447055697')),\n",
       " (6.0, Decimal('237.9322836449728244')),\n",
       " (8.0, Decimal('242.0440801590496054')),\n",
       " (7.0, Decimal('243.4955391345179547')),\n",
       " (10.0, Decimal('269.0903491565319733')),\n",
       " (9.0, Decimal('314.2238418728090155'))]"
      ]
     },
     "execution_count": 11,
     "metadata": {},
     "output_type": "execute_result"
    }
   ],
   "source": [
    "query3_cheapest[:12]"
   ]
  },
  {
   "cell_type": "code",
   "execution_count": 12,
   "metadata": {},
   "outputs": [],
   "source": [
    "q3_busiest = '''\n",
    "SELECT\n",
    "     DATE_PART('month', review_date) mo,\n",
    "     COUNT(*) reviews_per_mo\n",
    " FROM\n",
    "     sfo_reviews\n",
    " GROUP BY 1\n",
    " ORDER BY reviews_per_mo DESC;\n",
    "'''"
   ]
  },
  {
   "cell_type": "code",
   "execution_count": 13,
   "metadata": {},
   "outputs": [],
   "source": [
    "cur.execute(q3_busiest)\n",
    "query3_busiest = cur.fetchall()"
   ]
  },
  {
   "cell_type": "code",
   "execution_count": 14,
   "metadata": {},
   "outputs": [
    {
     "data": {
      "text/plain": [
       "[(8.0, 35054),\n",
       " (7.0, 31631),\n",
       " (5.0, 27744),\n",
       " (6.0, 27542),\n",
       " (9.0, 24397),\n",
       " (10.0, 23696),\n",
       " (4.0, 23091),\n",
       " (3.0, 22227),\n",
       " (1.0, 18106),\n",
       " (2.0, 17567),\n",
       " (11.0, 15603),\n",
       " (12.0, 13916)]"
      ]
     },
     "execution_count": 14,
     "metadata": {},
     "output_type": "execute_result"
    }
   ],
   "source": [
    "query3_busiest[:12]"
   ]
  },
  {
   "cell_type": "code",
   "execution_count": 15,
   "metadata": {},
   "outputs": [],
   "source": [
    "cur.close()\n",
    "conn.close()"
   ]
  },
  {
   "cell_type": "code",
   "execution_count": null,
   "metadata": {},
   "outputs": [],
   "source": []
  }
 ],
 "metadata": {
  "kernelspec": {
   "display_name": "Python 3",
   "language": "python",
   "name": "python3"
  },
  "language_info": {
   "codemirror_mode": {
    "name": "ipython",
    "version": 3
   },
   "file_extension": ".py",
   "mimetype": "text/x-python",
   "name": "python",
   "nbconvert_exporter": "python",
   "pygments_lexer": "ipython3",
   "version": "3.6.8"
  }
 },
 "nbformat": 4,
 "nbformat_minor": 2
}
