{
 "cells": [
  {
   "cell_type": "markdown",
   "metadata": {},
   "source": [
    "# Drill - SQLite - Aggregates & Groups"
   ]
  },
  {
   "cell_type": "code",
   "execution_count": 1,
   "metadata": {},
   "outputs": [],
   "source": [
    "import sqlite3"
   ]
  },
  {
   "cell_type": "code",
   "execution_count": 2,
   "metadata": {},
   "outputs": [],
   "source": [
    "file = 'bikeshare.db'\n",
    "conn = sqlite3.connect(file)\n",
    "c = conn.cursor()"
   ]
  },
  {
   "cell_type": "markdown",
   "metadata": {},
   "source": [
    "### QUERY 1:  What was the hottest day in our data set? Where was that?"
   ]
  },
  {
   "cell_type": "code",
   "execution_count": 3,
   "metadata": {},
   "outputs": [],
   "source": [
    "q1 = c.execute('SELECT Date, MAX(MaxTemperatureF), ZIP\\\n",
    "                FROM weather').fetchall()"
   ]
  },
  {
   "cell_type": "code",
   "execution_count": 4,
   "metadata": {},
   "outputs": [
    {
     "data": {
      "text/plain": [
       "[('2015-11-17', 134, 94063)]"
      ]
     },
     "execution_count": 4,
     "metadata": {},
     "output_type": "execute_result"
    }
   ],
   "source": [
    "q1"
   ]
  },
  {
   "cell_type": "markdown",
   "metadata": {},
   "source": [
    "### QUERY 2:  How many trips started at each station?"
   ]
  },
  {
   "cell_type": "code",
   "execution_count": 5,
   "metadata": {},
   "outputs": [],
   "source": [
    "q2 = c.execute('SELECT start_station, COUNT(*)\\\n",
    "                FROM trips\\\n",
    "                GROUP BY start_station').fetchall()"
   ]
  },
  {
   "cell_type": "code",
   "execution_count": 6,
   "metadata": {},
   "outputs": [
    {
     "data": {
      "text/plain": [
       "[('2nd at Folsom', 7464),\n",
       " ('2nd at South Park', 7722),\n",
       " ('2nd at Townsend', 14099),\n",
       " ('5th S at E. San Salvador St', 19),\n",
       " ('5th St at E. San Salvador St', 1),\n",
       " ('5th St at Folsom St', 173),\n",
       " ('5th at Howard', 5436),\n",
       " ('Adobe on Almaden', 789),\n",
       " ('Arena Green / SAP Center', 547),\n",
       " ('Beale at Market', 7373),\n",
       " ('Broadway St at Battery St', 5695),\n",
       " ('California Ave Caltrain Station', 392),\n",
       " ('Castro Street and El Camino Real', 1014),\n",
       " ('Charleston Park/ North Bayshore Area', 343),\n",
       " ('Civic Center BART (7th at Market)', 5043),\n",
       " ('Clay at Battery', 4357),\n",
       " ('Commercial at Montgomery', 4969),\n",
       " ('Cowper at University', 788),\n",
       " ('Cyril Magnin St at Ellis St', 69),\n",
       " ('Davis at Jackson', 5240),\n",
       " ('Embarcadero at Bryant', 7714),\n",
       " ('Embarcadero at Folsom', 7820),\n",
       " ('Embarcadero at Sansome', 13424),\n",
       " ('Embarcadero at Vallejo', 4710),\n",
       " ('Evelyn Park and Ride', 71),\n",
       " ('Franklin at Maple', 2),\n",
       " ('Golden Gate at Polk', 3309),\n",
       " ('Grant Avenue at Columbus Avenue', 6735),\n",
       " ('Harry Bridges Plaza (Ferry Building)', 16128),\n",
       " ('Howard at 2nd', 7583),\n",
       " ('Japantown', 945),\n",
       " ('Kaiser Hospital', 147),\n",
       " ('MLK Library', 630),\n",
       " ('Market at 10th', 9937),\n",
       " ('Market at 4th', 7337),\n",
       " ('Market at Sansome', 10970),\n",
       " ('Mechanics Plaza (Market at Battery)', 5613),\n",
       " ('Mezes', 119),\n",
       " ('Mezes Park', 7),\n",
       " ('Middlefield Light Rail Station', 66),\n",
       " ('Mountain View Caltrain Station', 2515),\n",
       " ('Mountain View City Hall', 1291),\n",
       " ('Palo Alto Caltrain Station', 1170),\n",
       " ('Park at Olive', 276),\n",
       " ('Paseo de San Antonio', 833),\n",
       " ('Post at Kearny', 4348),\n",
       " ('Powell Street BART', 6826),\n",
       " ('Powell at Post (Union Square)', 4488),\n",
       " ('Redwood City Caltrain Station', 695),\n",
       " ('Redwood City Medical Center', 5),\n",
       " ('Redwood City Public Library', 59),\n",
       " ('Rengstorff Avenue / California Street', 42),\n",
       " ('Ryland Park', 879),\n",
       " ('S. Market St at Park Ave', 84),\n",
       " ('SJSU - San Salvador at 9th', 481),\n",
       " ('SJSU 4th at San Carlos', 363),\n",
       " ('San Antonio Caltrain Station', 611),\n",
       " ('San Antonio Shopping Center', 559),\n",
       " ('San Francisco Caltrain (Townsend at 4th)', 23591),\n",
       " ('San Francisco Caltrain 2 (330 Townsend)', 22358),\n",
       " ('San Francisco City Hall', 2195),\n",
       " ('San Jose City Hall', 518),\n",
       " ('San Jose Civic Center', 543),\n",
       " ('San Jose Diridon Caltrain Station', 4035),\n",
       " ('San Mateo County Center', 86),\n",
       " ('San Pedro Square', 1215),\n",
       " ('San Salvador at 1st', 540),\n",
       " ('Santa Clara County Civic Center', 420),\n",
       " ('Santa Clara at Almaden', 1447),\n",
       " ('Sequoia Hospital', 15),\n",
       " ('South Van Ness at Market', 5398),\n",
       " ('Spear at Folsom', 5113),\n",
       " ('St James Park', 694),\n",
       " ('Stanford in Redwood City', 428),\n",
       " ('Steuart at Market', 13693),\n",
       " ('Temporary Transbay Terminal (Howard at Beale)', 13111),\n",
       " ('Townsend at 7th', 11170),\n",
       " ('University and Emerson', 490),\n",
       " ('Washington at Kearny', 2844),\n",
       " ('Yerba Buena Center of the Arts (3rd @ Howard)', 3460)]"
      ]
     },
     "execution_count": 6,
     "metadata": {},
     "output_type": "execute_result"
    }
   ],
   "source": [
    "q2"
   ]
  },
  {
   "cell_type": "markdown",
   "metadata": {},
   "source": [
    "### QUERY 3:  What's the shortest trip that happened?"
   ]
  },
  {
   "cell_type": "code",
   "execution_count": 7,
   "metadata": {},
   "outputs": [],
   "source": [
    "q3 = c.execute('SELECT *, MIN(duration)\\\n",
    "                FROM trips').fetchall()"
   ]
  },
  {
   "cell_type": "code",
   "execution_count": 8,
   "metadata": {},
   "outputs": [
    {
     "data": {
      "text/plain": [
       "[('1011650',\n",
       "  60,\n",
       "  '2015-11-16 18:54:00',\n",
       "  'Mezes',\n",
       "  83,\n",
       "  '2015-11-16 18:55:00',\n",
       "  'Mezes',\n",
       "  83,\n",
       "  35,\n",
       "  'Subscriber',\n",
       "  94124,\n",
       "  60)]"
      ]
     },
     "execution_count": 8,
     "metadata": {},
     "output_type": "execute_result"
    }
   ],
   "source": [
    "q3"
   ]
  },
  {
   "cell_type": "markdown",
   "metadata": {},
   "source": [
    "### QUERY 4:  What is the average trip duration, by end station?"
   ]
  },
  {
   "cell_type": "code",
   "execution_count": 9,
   "metadata": {},
   "outputs": [],
   "source": [
    "q4 = c.execute('SELECT end_station, AVG(duration)\\\n",
    "                FROM trips\\\n",
    "                GROUP BY 1').fetchall()"
   ]
  },
  {
   "cell_type": "code",
   "execution_count": 10,
   "metadata": {},
   "outputs": [
    {
     "data": {
      "text/plain": [
       "[('2nd at Folsom', 557.0507602339181),\n",
       " ('2nd at South Park', 531.5899035734543),\n",
       " ('2nd at Townsend', 633.257044057377),\n",
       " ('5th S at E. San Salvador St', 1767.0),\n",
       " ('5th St at E. San Salvador St', 686.0),\n",
       " ('5th St at Folsom St', 527.2980132450331),\n",
       " ('5th at Howard', 583.572311104071),\n",
       " ('Adobe on Almaden', 828.9907894736842),\n",
       " ('Arena Green / SAP Center', 1426.4759259259258),\n",
       " ('Beale at Market', 699.7918381344307),\n",
       " ('Broadway St at Battery St', 756.4946168461051),\n",
       " ('California Ave Caltrain Station', 1825.591054313099),\n",
       " ('Castro Street and El Camino Real', 802.5021739130435),\n",
       " ('Charleston Park/ North Bayshore Area', 2370.2261580381473),\n",
       " ('Civic Center BART (7th at Market)', 1033.103433476395),\n",
       " ('Clay at Battery', 856.799765258216),\n",
       " ('Commercial at Montgomery', 564.7165292500981),\n",
       " ('Cowper at University', 1210.070796460177),\n",
       " ('Cyril Magnin St at Ellis St', 2926.220588235294),\n",
       " ('Davis at Jackson', 735.5104631217839),\n",
       " ('Embarcadero at Bryant', 697.7435816164817),\n",
       " ('Embarcadero at Folsom', 613.8816484224083),\n",
       " ('Embarcadero at Sansome', 1400.3825076293747),\n",
       " ('Embarcadero at Vallejo', 1372.6702468437911),\n",
       " ('Evelyn Park and Ride', 739.0131578947369),\n",
       " ('Franklin at Maple', 2068.6),\n",
       " ('Golden Gate at Polk', 1277.8000760167238),\n",
       " ('Grant Avenue at Columbus Avenue', 1478.6814183617373),\n",
       " ('Harry Bridges Plaza (Ferry Building)', 918.8773540489642),\n",
       " ('Howard at 2nd', 592.6638180383908),\n",
       " ('Japantown', 969.8289183222957),\n",
       " ('Kaiser Hospital', 670.2962962962963),\n",
       " ('MLK Library', 1012.9728),\n",
       " ('Market at 10th', 1044.928660203828),\n",
       " ('Market at 4th', 1022.0010223455528),\n",
       " ('Market at Sansome', 612.9269519461425),\n",
       " ('Mechanics Plaza (Market at Battery)', 731.3687905915394),\n",
       " ('Mezes', 644.8508771929825),\n",
       " ('Mezes Park', 257.0),\n",
       " ('Middlefield Light Rail Station', 1199.8709677419354),\n",
       " ('Mountain View Caltrain Station', 996.8829617834394),\n",
       " ('Mountain View City Hall', 651.1602048280907),\n",
       " ('Palo Alto Caltrain Station', 1927.4484435797665),\n",
       " ('Park at Olive', 1405.9926470588234),\n",
       " ('Paseo de San Antonio', 724.4401709401709),\n",
       " ('Post at Kearny', 744.2211221122112),\n",
       " ('Powell Street BART', 991.0090537383178),\n",
       " ('Powell at Post (Union Square)', 1631.9815567364801),\n",
       " ('Redwood City Caltrain Station', 1147.6666666666667),\n",
       " ('Redwood City Medical Center', 359.0833333333333),\n",
       " ('Redwood City Public Library', 1186.7014925373135),\n",
       " ('Rengstorff Avenue / California Street', 1658.5),\n",
       " ('Ryland Park', 1223.4040296924709),\n",
       " ('S. Market St at Park Ave', 1585.7475728155339),\n",
       " ('SJSU - San Salvador at 9th', 1227.619686800895),\n",
       " ('SJSU 4th at San Carlos', 967.1324324324324),\n",
       " ('San Antonio Caltrain Station', 1083.6819012797075),\n",
       " ('San Antonio Shopping Center', 724.3996710526316),\n",
       " ('San Francisco Caltrain (Townsend at 4th)', 723.1106294433848),\n",
       " ('San Francisco Caltrain 2 (330 Townsend)', 609.4920325478895),\n",
       " ('San Francisco City Hall', 1361.319422150883),\n",
       " ('San Jose City Hall', 1147.760532150776),\n",
       " ('San Jose Civic Center', 2372.584234930448),\n",
       " ('San Jose Diridon Caltrain Station', 599.5223076923077),\n",
       " ('San Mateo County Center', 1008.0288461538462),\n",
       " ('San Pedro Square', 816.3774885145482),\n",
       " ('San Salvador at 1st', 1084.9933333333333),\n",
       " ('Santa Clara County Civic Center', 1604.7739938080495),\n",
       " ('Santa Clara at Almaden', 726.6758430832759),\n",
       " ('Sequoia Hospital', 1633.5),\n",
       " ('South Van Ness at Market', 1366.0309677419355),\n",
       " ('Spear at Folsom', 608.9855351976856),\n",
       " ('St James Park', 578.4172989377845),\n",
       " ('Stanford in Redwood City', 1071.6590436590436),\n",
       " ('Steuart at Market', 668.527482330337),\n",
       " ('Temporary Transbay Terminal (Howard at Beale)', 582.8352827296927),\n",
       " ('Townsend at 7th', 666.20582801478),\n",
       " ('University and Emerson', 4710.897727272727),\n",
       " ('Washington at Kearny', 1061.885061071093),\n",
       " ('Yerba Buena Center of the Arts (3rd @ Howard)', 757.0955141129032)]"
      ]
     },
     "execution_count": 10,
     "metadata": {},
     "output_type": "execute_result"
    }
   ],
   "source": [
    "q4"
   ]
  },
  {
   "cell_type": "code",
   "execution_count": 11,
   "metadata": {},
   "outputs": [],
   "source": [
    "conn.close()"
   ]
  },
  {
   "cell_type": "code",
   "execution_count": null,
   "metadata": {},
   "outputs": [],
   "source": []
  }
 ],
 "metadata": {
  "kernelspec": {
   "display_name": "Python 3",
   "language": "python",
   "name": "python3"
  },
  "language_info": {
   "codemirror_mode": {
    "name": "ipython",
    "version": 3
   },
   "file_extension": ".py",
   "mimetype": "text/x-python",
   "name": "python",
   "nbconvert_exporter": "python",
   "pygments_lexer": "ipython3",
   "version": "3.6.6"
  }
 },
 "nbformat": 4,
 "nbformat_minor": 2
}
