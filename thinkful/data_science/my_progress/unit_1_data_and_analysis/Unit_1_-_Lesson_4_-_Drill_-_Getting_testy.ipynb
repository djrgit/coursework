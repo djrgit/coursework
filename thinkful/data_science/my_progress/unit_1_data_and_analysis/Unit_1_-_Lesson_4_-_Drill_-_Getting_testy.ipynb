{
 "cells": [
  {
   "cell_type": "markdown",
   "metadata": {},
   "source": [
    "# Drill - Getting Testy..."
   ]
  },
  {
   "cell_type": "markdown",
   "metadata": {},
   "source": [
    "## For each of the following questions, outline how you could use an A/B test to find an answer. Be sure to identify all five key components of an A/B test we outlined above."
   ]
  },
  {
   "cell_type": "markdown",
   "metadata": {},
   "source": [
    "### QUESTION 1:  Does a new supplement help people sleep better?"
   ]
  },
  {
   "cell_type": "markdown",
   "metadata": {},
   "source": [
    "- **Two versions:**  Randomized trial testing - Give a placebo to people in Group A and give the supplement to people in Group B\n",
    "\n",
    "- **Sampling:**  Across what is determined to be a large enough sample size representative of the population at large, find people that have (Group B) and have not (Group A) used the supplement consistently over a given timeframe\n",
    "\n",
    "- **Hypothesis:**  \"I expect the new supplement will help people that use it (Group B) sleep better than those that do not use it (Group A).\"\n",
    "\n",
    "- **Outcome(s):**  Determine whether sleep patterns for Group B were improved by use of the supplement via surveys that include questions about sleep patterns and whether the supplement has been consumed consistently over a given timeframe.\n",
    "\n",
    "- **Some other measured variables / survey questions:**\n",
    "    - age, \n",
    "    - gender,\n",
    "    - location - urban / suburban / rural, \n",
    "    - proximity to noisier environments (busy roads / train tracks / etc.),\n",
    "    - similar work / study routines / patterns, \n",
    "    - income / debt levels, \n",
    "    - dependents / no dependents, \n",
    "    - in a relationship / single, \n",
    "    - diet / exercise habits,\n",
    "    - time of year supplements were taken\n",
    "    - etc."
   ]
  },
  {
   "cell_type": "markdown",
   "metadata": {},
   "source": [
    "### QUESTION 2:  Will new uniforms help a gym's business?"
   ]
  },
  {
   "cell_type": "markdown",
   "metadata": {},
   "source": [
    "###### It may be easier for a gym with multiple locations to perform A/B testing between locations (with half keeping the old uniforms and half trying the new uniforms).  Alternatively, for a gym with only one location, advertising (with different sets of ads/promotions including photographs of male/female employees in the old vs. new uniforms) may be a more effective approach to help decide whether to make the switch.  A gym with multiple locations could also try the ad/promotion campaign in combination with some locations keeping/swapping uniforms.\n",
    "\n",
    "- **Two versions:**  For a gym with multiple locations, compare historical sales / membership growth / retention figures for locations _before_ a uniform change (Group A) vs. _after_ a uniform change (Group B).  For a gym with a single location, compare conversion rates for advertisements / promotions featuring photos of male/female employees in the old uniforms (Group A) vs. the new uniforms (Group B).\n",
    "\n",
    "- **Sampling:**  Gym memberships often see a spike around the start of the year due to people making New Year's resolutions to improve their fitness.  Take into account seasonal fluctuations such as this when sampling historical results or conversion/retention rates.\n",
    "\n",
    "- **Hypothesis:**  \"I expect new uniforms will help a gym's business.\"\n",
    "\n",
    "- **Outcome(s):**  For a gym with multiple locations, compare sales/membership growth/retention rates between locations that kept the old uniforms vs. locations that tried the new uniforms over a given time period.  For a gym with one location, compare ad/promotion conversion rates for Group A (employees photographed in old uniforms) vs. Group B (employees photographed in new uniforms).\n",
    "\n",
    "- **Some other measured variables / survey questions:**\n",
    "    - Ask new customers what helped convince them to join?  \n",
    "        - Ad/promotion?  \n",
    "        - Word-of-mouth?  \n",
    "        - Etc."
   ]
  },
  {
   "cell_type": "markdown",
   "metadata": {},
   "source": [
    "### QUESTION 3:  Will a new homepage improve my online exotic pet rental business?"
   ]
  },
  {
   "cell_type": "markdown",
   "metadata": {},
   "source": [
    "- **Two versions:**  Redirect a portion of webpage requests to the new test site (Group B), with the remaining portion being sent to the current site (Group A)\n",
    "\n",
    "- **Sampling:**  Gather website statistics / conversion rates for Groups A/B\n",
    "\n",
    "- **Hypothesis:**  \"I expect that there will be a higher sales/conversion rate for people visiting the new website (Group B).\"\n",
    "\n",
    "- **Outcome(s):**  Determine statistics such as time spent and sales for the current site vs the new site.\n",
    "\n",
    "- **Some other measured variables:**\n",
    "    - Ensure that when comparing Groups A/B, seasonality and time of day/week are considered\n",
    "    - Attempt to gather information about site visitors to help determine if different site layouts might have more/less appeal to different demographics"
   ]
  },
  {
   "cell_type": "markdown",
   "metadata": {},
   "source": [
    "### QUESTION 4:  If I put 'please read' in the email subject will more people read my emails?"
   ]
  },
  {
   "cell_type": "markdown",
   "metadata": {},
   "source": [
    "- **Two versions:**  Send a portion of emails with 'please read' (Group B) in the subject line and another portion without those words (Group A)\n",
    "\n",
    "- **Sampling:**  Gather email open statistics/rates for Groups A/B\n",
    "\n",
    "- **Hypothesis:**  \"I expect that there will be a higher email open rate for people receiving emails with 'please read' in the subject line (Group B).\"\n",
    "\n",
    "- **Outcome(s):**  Determine open rates for email Groups A/B.\n",
    "\n",
    "- **Some other measured variables:**\n",
    "    - Ensure that when comparing Groups A/B, seasonality and time of day/week are considered\n",
    "    - Include any other information on file for email recipients with analysis of results:  age, gender, demographics, etc."
   ]
  },
  {
   "cell_type": "code",
   "execution_count": null,
   "metadata": {},
   "outputs": [],
   "source": []
  }
 ],
 "metadata": {
  "kernelspec": {
   "display_name": "Python 3",
   "language": "python",
   "name": "python3"
  },
  "language_info": {
   "codemirror_mode": {
    "name": "ipython",
    "version": 3
   },
   "file_extension": ".py",
   "mimetype": "text/x-python",
   "name": "python",
   "nbconvert_exporter": "python",
   "pygments_lexer": "ipython3",
   "version": "3.6.6"
  }
 },
 "nbformat": 4,
 "nbformat_minor": 2
}
