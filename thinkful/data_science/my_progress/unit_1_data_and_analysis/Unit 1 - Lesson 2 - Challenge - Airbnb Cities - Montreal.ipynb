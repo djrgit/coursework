{
 "cells": [
  {
   "cell_type": "markdown",
   "metadata": {},
   "source": [
    "# Challenge - Airbnb Cities - Montreal, Quebec, Canada"
   ]
  },
  {
   "cell_type": "code",
   "execution_count": 41,
   "metadata": {},
   "outputs": [],
   "source": [
    "import sqlite3"
   ]
  },
  {
   "cell_type": "code",
   "execution_count": 42,
   "metadata": {},
   "outputs": [],
   "source": [
    "file = 'airbnb_montreal.db'\n",
    "conn = sqlite3.connect(file)\n",
    "c = conn.cursor()"
   ]
  },
  {
   "cell_type": "markdown",
   "metadata": {},
   "source": [
    "### QUERY 1:  What's the most expensive listing? What else can you tell me about the listing?"
   ]
  },
  {
   "cell_type": "code",
   "execution_count": 48,
   "metadata": {},
   "outputs": [],
   "source": [
    "q1 = c.execute('''\n",
    "               SELECT\n",
    "                   name, \n",
    "                   neighbourhood, \n",
    "                   room_type, \n",
    "                   minimum_nights, \n",
    "                   number_of_reviews,\n",
    "                   reviews_per_month, \n",
    "                   last_review,\n",
    "                   availability_365, \n",
    "                   MAX(price) most_expensive\n",
    "               FROM\n",
    "                   listings_summary\n",
    "               ''').fetchall()"
   ]
  },
  {
   "cell_type": "code",
   "execution_count": 49,
   "metadata": {},
   "outputs": [
    {
     "data": {
      "text/plain": [
       "[(\"Plateau's finest on Mount Royal\",\n",
       "  'Le Plateau-Mont-Royal',\n",
       "  'Entire home/apt',\n",
       "  1,\n",
       "  16,\n",
       "  0.63,\n",
       "  '2016-12-10',\n",
       "  0,\n",
       "  9999)]"
      ]
     },
     "execution_count": 49,
     "metadata": {},
     "output_type": "execute_result"
    }
   ],
   "source": [
    "q1"
   ]
  },
  {
   "cell_type": "markdown",
   "metadata": {},
   "source": [
    ">### _This listing in the neighborhood of Le Plateau-Mont-Royal for an entire home/apt for at least one (1) night is priced at CAD 9999/nt.  It looks like 16 reviews have been made previously with the last one being on Dec 10, 2016._"
   ]
  },
  {
   "cell_type": "markdown",
   "metadata": {},
   "source": [
    "### QUERY 2:  What neighborhoods seem to be the most popular?"
   ]
  },
  {
   "cell_type": "code",
   "execution_count": 50,
   "metadata": {},
   "outputs": [],
   "source": [
    "q2 = c.execute('''\n",
    "                SELECT\n",
    "                    neighbourhood_cleansed,\n",
    "                    SUM(reviews_per_month) reviews_per_month\n",
    "                FROM\n",
    "                    listings\n",
    "                GROUP BY 1\n",
    "                ORDER BY reviews_per_month DESC\n",
    "                LIMIT 10\n",
    "               ''').fetchall()"
   ]
  },
  {
   "cell_type": "code",
   "execution_count": 51,
   "metadata": {},
   "outputs": [
    {
     "data": {
      "text/plain": [
       "[('Ville-Marie', 9101.210000000015),\n",
       " ('Le Plateau-Mont-Royal', 6721.91999999997),\n",
       " ('Rosemont-La Petite-Patrie', 1407.5700000000004),\n",
       " ('Le Sud-Ouest', 1232.23),\n",
       " ('Côte-des-Neiges-Notre-Dame-de-Grâce', 1212.639999999998),\n",
       " ('Mercier-Hochelaga-Maisonneuve', 860.4399999999997),\n",
       " ('Villeray-Saint-Michel-Parc-Extension', 657.86),\n",
       " ('Verdun', 378.44000000000017),\n",
       " ('Ahuntsic-Cartierville', 295.89000000000004),\n",
       " ('Outremont', 202.95000000000005)]"
      ]
     },
     "execution_count": 51,
     "metadata": {},
     "output_type": "execute_result"
    }
   ],
   "source": [
    "q2"
   ]
  },
  {
   "cell_type": "markdown",
   "metadata": {},
   "source": [
    ">### _Based on total reviews/month for listings in each neighborhood, the Top 10 listed above seem to be the most popular._"
   ]
  },
  {
   "cell_type": "markdown",
   "metadata": {},
   "source": [
    "### QUERY 3:  What time of year is the cheapest time to go to your city? What about the busiest?"
   ]
  },
  {
   "cell_type": "code",
   "execution_count": 57,
   "metadata": {},
   "outputs": [],
   "source": [
    "cheapest = c.execute('''\n",
    "                     SELECT\n",
    "                         STRFTIME('%m', date) month,\n",
    "                         AVG(LTRIM(price, '$')) price\n",
    "                     FROM\n",
    "                         calendar\n",
    "                     WHERE\n",
    "                         available = 't'\n",
    "                     GROUP BY 1\n",
    "                     ORDER BY price\n",
    "                     ''').fetchall()"
   ]
  },
  {
   "cell_type": "code",
   "execution_count": 58,
   "metadata": {
    "scrolled": true
   },
   "outputs": [
    {
     "data": {
      "text/plain": [
       "[('02', 119.30550768550958),\n",
       " ('01', 119.95412769506561),\n",
       " ('11', 120.7666024171966),\n",
       " ('05', 121.42526710118628),\n",
       " ('03', 121.48847351676554),\n",
       " ('04', 122.00152838558303),\n",
       " ('06', 122.32456025437959),\n",
       " ('10', 123.06481268336167),\n",
       " ('12', 124.27513707712998),\n",
       " ('09', 130.03643952123545),\n",
       " ('07', 131.36016913097833),\n",
       " ('08', 152.77939382407916)]"
      ]
     },
     "execution_count": 58,
     "metadata": {},
     "output_type": "execute_result"
    }
   ],
   "source": [
    "cheapest"
   ]
  },
  {
   "cell_type": "markdown",
   "metadata": {},
   "source": [
    ">### February, January, and November appear to be the cheapest months to visit Montreal."
   ]
  },
  {
   "cell_type": "code",
   "execution_count": 65,
   "metadata": {},
   "outputs": [],
   "source": [
    "busiest = c.execute('''\n",
    "                        SELECT \n",
    "                            STRFTIME('%m', date) month, \n",
    "                            COUNT() reviews_per_month\n",
    "                        FROM\n",
    "                            reviews\n",
    "                        GROUP BY 1\n",
    "                        ORDER BY reviews_per_month DESC\n",
    "                     ''').fetchall()"
   ]
  },
  {
   "cell_type": "code",
   "execution_count": 66,
   "metadata": {},
   "outputs": [
    {
     "data": {
      "text/plain": [
       "[('06', 43425),\n",
       " ('08', 38633),\n",
       " ('07', 36617),\n",
       " ('05', 36111),\n",
       " ('09', 27308),\n",
       " ('10', 26791),\n",
       " ('04', 24540),\n",
       " ('03', 20839),\n",
       " ('01', 17415),\n",
       " ('11', 17343),\n",
       " ('02', 16605),\n",
       " ('12', 15925)]"
      ]
     },
     "execution_count": 66,
     "metadata": {},
     "output_type": "execute_result"
    }
   ],
   "source": [
    "busiest"
   ]
  },
  {
   "cell_type": "markdown",
   "metadata": {},
   "source": [
    ">### The summer months (June, August, and July) appear to be the busiest, given that is when most reviews are made."
   ]
  },
  {
   "cell_type": "code",
   "execution_count": null,
   "metadata": {},
   "outputs": [],
   "source": []
  }
 ],
 "metadata": {
  "kernelspec": {
   "display_name": "Python 3",
   "language": "python",
   "name": "python3"
  },
  "language_info": {
   "codemirror_mode": {
    "name": "ipython",
    "version": 3
   },
   "file_extension": ".py",
   "mimetype": "text/x-python",
   "name": "python",
   "nbconvert_exporter": "python",
   "pygments_lexer": "ipython3",
   "version": "3.6.6"
  }
 },
 "nbformat": 4,
 "nbformat_minor": 2
}
