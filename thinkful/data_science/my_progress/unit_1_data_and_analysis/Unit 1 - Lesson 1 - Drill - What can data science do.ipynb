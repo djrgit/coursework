{
 "cells": [
  {
   "cell_type": "markdown",
   "metadata": {},
   "source": [
    "# Lesson 1 - Drill - What can data science do?"
   ]
  },
  {
   "cell_type": "markdown",
   "metadata": {},
   "source": [
    "### QUESTION 1:  You work at an e-commerce company that sells three goods: widgets, doodads, and fizzbangs. The head of advertising asks you which they should feature in their new advertising campaign. You have data on individual visitors' sessions (activity on a website, pageviews, and purchases), as well as whether or not those users converted from an advertisement for that session. You also have the cost and price information for the goods."
   ]
  },
  {
   "cell_type": "markdown",
   "metadata": {},
   "source": [
    ">###### By user:\n",
    "- How many sessions?\n",
    "- By session:\n",
    "    - How long did they spend on the site?\n",
    "    - Which pages did they view?\n",
    "    - Which ads did they view?\n",
    "    - Did they click any ads?\n",
    "    - Did they purchase any products after clicking an ad?\n",
    "    - Which products did they purchase?  How many?\n",
    "\n",
    ">###### Aggregate the data from above and perform analytics to determine conversion rates: \n",
    "- from views to clicks, and \n",
    "- from clicks to purchases\n",
    "\n",
    ">###### Using more analytics, tailor the new ad campaign to improve conversion rates for product ad clicks/purchases based on how sales/profit might be best improved depending on which product is promoted."
   ]
  },
  {
   "cell_type": "markdown",
   "metadata": {},
   "source": [
    "### QUESTION 2:  You work at a web design company that offers to build websites for clients. Signups have slowed, and you are tasked with finding out why. The onboarding funnel has three steps: email and password signup, plan choice, and payment. On a user level you have information on what steps they have completed as well as timestamps for all of those events for the past 3 years. You also have information on marketing spend on a weekly level."
   ]
  },
  {
   "cell_type": "markdown",
   "metadata": {},
   "source": [
    ">###### Gather the information below:\n",
    "- How closely is marketing spend correlated with new signups?\n",
    "- How often did users sign up but not make a plan choice and/or payment?\n",
    "- If users did not proceed to payment, determine the average lengths of time between each step in the signup/choice/payment process\n",
    "\n",
    ">###### Consider the possibility that greater time between each step might imply users are researching other options\n",
    ">###### Consider performing a competitive analysis"
   ]
  },
  {
   "cell_type": "markdown",
   "metadata": {},
   "source": [
    "### QUESTION 3:  You work at a hotel website and currently the website ranks search results by price. For simplicity's sake, let's say it's a website for one city with 100 hotels. You are tasked with proposing a better ranking system. You have session information, price information for the hotels, and whether each hotel is currently available."
   ]
  },
  {
   "cell_type": "markdown",
   "metadata": {},
   "source": [
    ">###### Review site history for hotel reservations to determine which hotels earned the most reservations (which may indicate something about their quality and services offered), and build a basic default ranking system with that information\n",
    ">###### Consider adding functionality to the site to allow the user to sort by hotel rank values (3-star, 5-star, etc.) published elsewhere"
   ]
  },
  {
   "cell_type": "markdown",
   "metadata": {},
   "source": [
    "### QUESTION 4:  You work at a social network, and the management is worried about churn (users stopping using the product). You are tasked with finding out if their churn is atypical. You have three years of data for users with an entry for every time they've logged in, including the timestamp and length of session."
   ]
  },
  {
   "cell_type": "markdown",
   "metadata": {},
   "source": [
    ">###### Organize data by year and compare login frequencies and session lengths while also accounting for typical behavior during holiday periods or other times of the year where activity may be seasonal.\n",
    ">###### How do the results for each year differ?"
   ]
  },
  {
   "cell_type": "code",
   "execution_count": null,
   "metadata": {},
   "outputs": [],
   "source": []
  }
 ],
 "metadata": {
  "kernelspec": {
   "display_name": "Python 3",
   "language": "python",
   "name": "python3"
  },
  "language_info": {
   "codemirror_mode": {
    "name": "ipython",
    "version": 3
   },
   "file_extension": ".py",
   "mimetype": "text/x-python",
   "name": "python",
   "nbconvert_exporter": "python",
   "pygments_lexer": "ipython3",
   "version": "3.6.6"
  }
 },
 "nbformat": 4,
 "nbformat_minor": 2
}
