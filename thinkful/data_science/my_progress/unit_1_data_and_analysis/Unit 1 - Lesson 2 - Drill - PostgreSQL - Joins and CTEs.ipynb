{
 "cells": [
  {
   "cell_type": "markdown",
   "metadata": {},
   "source": [
    "# Unit 1 - Lesson 2 - Drill - PostgreSQL - Joins and CTEs"
   ]
  },
  {
   "cell_type": "code",
   "execution_count": 1,
   "metadata": {},
   "outputs": [],
   "source": [
    "import psycopg2"
   ]
  },
  {
   "cell_type": "code",
   "execution_count": 2,
   "metadata": {},
   "outputs": [],
   "source": [
    "conn = psycopg2.connect(host=\"localhost\", database=\"BikeShare\", user=\"user_1\", password=\"****\")\n",
    "cur = conn.cursor()"
   ]
  },
  {
   "cell_type": "markdown",
   "metadata": {},
   "source": [
    "### Query 1:  What are the three longest trips on rainy days?"
   ]
  },
  {
   "cell_type": "code",
   "execution_count": 3,
   "metadata": {},
   "outputs": [],
   "source": [
    "q1 = '''\n",
    "WITH\n",
    "    rainy_days\n",
    "AS (\n",
    "    SELECT\n",
    "        DATE(date) AS rain_date\n",
    "    FROM\n",
    "        weather\n",
    "    WHERE\n",
    "        events LIKE 'Rain'\n",
    "    GROUP BY 1\n",
    ")\n",
    "SELECT\n",
    "    t.trip_id,\n",
    "    t.duration,\n",
    "    DATE(t.start_date)\n",
    "FROM\n",
    "    trips t\n",
    "JOIN\n",
    "    rainy_days r\n",
    "ON\n",
    "    DATE(t.start_date) = r.rain_date\n",
    "ORDER BY duration DESC\n",
    "LIMIT 3;\n",
    "'''"
   ]
  },
  {
   "cell_type": "code",
   "execution_count": 4,
   "metadata": {},
   "outputs": [],
   "source": [
    "cur.execute(q1)\n",
    "query1 = cur.fetchall()"
   ]
  },
  {
   "cell_type": "code",
   "execution_count": 5,
   "metadata": {},
   "outputs": [
    {
     "data": {
      "text/plain": [
       "[('1173890', 85900, datetime.date(2016, 4, 22)),\n",
       " ('1009870', 84349, datetime.date(2015, 11, 15)),\n",
       " ('1210487', 83915, datetime.date(2016, 5, 21))]"
      ]
     },
     "execution_count": 5,
     "metadata": {},
     "output_type": "execute_result"
    }
   ],
   "source": [
    "query1[:5]"
   ]
  },
  {
   "cell_type": "markdown",
   "metadata": {},
   "source": [
    "### Query 2:  Which station is full most often?"
   ]
  },
  {
   "cell_type": "code",
   "execution_count": 6,
   "metadata": {},
   "outputs": [],
   "source": [
    "q2 = '''\n",
    "SELECT\n",
    "   status.station_id,\n",
    "   stations.name,\n",
    "   COUNT(CASE WHEN status.docks_available=0 then 1 END) empty_count\n",
    "FROM\n",
    "    status\n",
    "JOIN\n",
    "    stations\n",
    "ON\n",
    "    stations.station_id = status.station_id\n",
    "GROUP BY 1, 2\n",
    "ORDER BY empty_count DESC;\n",
    "'''"
   ]
  },
  {
   "cell_type": "code",
   "execution_count": 7,
   "metadata": {},
   "outputs": [],
   "source": [
    "cur.execute(q2)\n",
    "query2 = cur.fetchall()"
   ]
  },
  {
   "cell_type": "code",
   "execution_count": 8,
   "metadata": {},
   "outputs": [
    {
     "data": {
      "text/plain": [
       "[(4, 'Santa Clara at Almaden', 5788),\n",
       " (3, 'San Jose Civic Center', 1444),\n",
       " (2, 'San Jose Diridon Caltrain Station', 626),\n",
       " (5, 'Adobe on Almaden', 0)]"
      ]
     },
     "execution_count": 8,
     "metadata": {},
     "output_type": "execute_result"
    }
   ],
   "source": [
    "query2[:5]"
   ]
  },
  {
   "cell_type": "markdown",
   "metadata": {},
   "source": [
    "### Query 3:  Return a list of stations with a count of number of trips starting at that station but ordered by dock count."
   ]
  },
  {
   "cell_type": "code",
   "execution_count": 9,
   "metadata": {},
   "outputs": [],
   "source": [
    "q3 = '''\n",
    "SELECT\n",
    "    trips.start_station,\n",
    "    stations.dockcount,\n",
    "    COUNT(*)\n",
    "FROM\n",
    "    trips\n",
    "JOIN\n",
    "    stations\n",
    "ON\n",
    "    stations.name = trips.start_station\n",
    "GROUP BY 1, 2\n",
    "ORDER BY 2 DESC\n",
    "'''"
   ]
  },
  {
   "cell_type": "code",
   "execution_count": 10,
   "metadata": {},
   "outputs": [],
   "source": [
    "cur.execute(q3)\n",
    "query3 = cur.fetchall()"
   ]
  },
  {
   "cell_type": "code",
   "execution_count": 11,
   "metadata": {},
   "outputs": [
    {
     "data": {
      "text/plain": [
       "[('Cyril Magnin St at Ellis St', 35, 69),\n",
       " ('5th St at Folsom St', 31, 173),\n",
       " ('2nd at Townsend', 27, 14099),\n",
       " ('Market at 10th', 27, 9937),\n",
       " ('Market at Sansome', 27, 10970)]"
      ]
     },
     "execution_count": 11,
     "metadata": {},
     "output_type": "execute_result"
    }
   ],
   "source": [
    "query3[:5]"
   ]
  },
  {
   "cell_type": "markdown",
   "metadata": {},
   "source": [
    "### Query 4:  (Challenge) What's the length of the longest trip for each day it rains anywhere?"
   ]
  },
  {
   "cell_type": "code",
   "execution_count": 12,
   "metadata": {},
   "outputs": [],
   "source": [
    "q4 = '''\n",
    "WITH\n",
    "    rainy_days\n",
    "AS (\n",
    "    SELECT\n",
    "        DATE(date) weather_date\n",
    "    FROM\n",
    "        weather\n",
    "    WHERE\n",
    "        Events LIKE 'Rain'\n",
    "    GROUP BY 1\n",
    "),\n",
    "    rainy_trips\n",
    "AS (\n",
    "    SELECT\n",
    "        trip_id,\n",
    "        duration,\n",
    "        DATE(trips.start_date) trip_date\n",
    "    FROM\n",
    "        trips\n",
    "    JOIN\n",
    "        rainy_days\n",
    "    ON\n",
    "        rainy_days.weather_date = DATE(trips.start_date)\n",
    "    ORDER BY duration DESC\n",
    ")\n",
    "SELECT\n",
    "    trip_date,\n",
    "    MAX(duration) max_duration\n",
    "FROM\n",
    "    rainy_trips\n",
    "GROUP BY 1\n",
    "ORDER BY max_duration DESC;\n",
    "'''"
   ]
  },
  {
   "cell_type": "code",
   "execution_count": 13,
   "metadata": {},
   "outputs": [],
   "source": [
    "cur.execute(q4)\n",
    "query4 = cur.fetchall()"
   ]
  },
  {
   "cell_type": "code",
   "execution_count": 14,
   "metadata": {},
   "outputs": [
    {
     "data": {
      "text/plain": [
       "[(datetime.date(2016, 4, 22), 85900),\n",
       " (datetime.date(2015, 11, 15), 84349),\n",
       " (datetime.date(2016, 5, 21), 83915),\n",
       " (datetime.date(2016, 5, 7), 82896),\n",
       " (datetime.date(2016, 6, 17), 81687)]"
      ]
     },
     "execution_count": 14,
     "metadata": {},
     "output_type": "execute_result"
    }
   ],
   "source": [
    "query4[:5]"
   ]
  },
  {
   "cell_type": "code",
   "execution_count": 15,
   "metadata": {},
   "outputs": [],
   "source": [
    "cur.close()\n",
    "conn.close()"
   ]
  },
  {
   "cell_type": "code",
   "execution_count": null,
   "metadata": {},
   "outputs": [],
   "source": []
  }
 ],
 "metadata": {
  "kernelspec": {
   "display_name": "Python 3",
   "language": "python",
   "name": "python3"
  },
  "language_info": {
   "codemirror_mode": {
    "name": "ipython",
    "version": 3
   },
   "file_extension": ".py",
   "mimetype": "text/x-python",
   "name": "python",
   "nbconvert_exporter": "python",
   "pygments_lexer": "ipython3",
   "version": "3.6.8"
  }
 },
 "nbformat": 4,
 "nbformat_minor": 2
}
