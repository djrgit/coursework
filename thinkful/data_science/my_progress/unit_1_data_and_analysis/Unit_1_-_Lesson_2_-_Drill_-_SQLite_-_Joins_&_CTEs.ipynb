{
 "cells": [
  {
   "cell_type": "markdown",
   "metadata": {},
   "source": [
    "# Drill - SQLite - Joins & CTEs"
   ]
  },
  {
   "cell_type": "code",
   "execution_count": 1,
   "metadata": {},
   "outputs": [],
   "source": [
    "import sqlite3"
   ]
  },
  {
   "cell_type": "code",
   "execution_count": 2,
   "metadata": {},
   "outputs": [],
   "source": [
    "file = 'bikeshare.db'\n",
    "conn = sqlite3.connect(file)\n",
    "c = conn.cursor()"
   ]
  },
  {
   "cell_type": "markdown",
   "metadata": {},
   "source": [
    "# QUERY 1:  What are the three longest trips on rainy days?"
   ]
  },
  {
   "cell_type": "code",
   "execution_count": 3,
   "metadata": {},
   "outputs": [],
   "source": [
    "q1 = c.execute('''\n",
    "                WITH\n",
    "                    rainy_days\n",
    "                AS (\n",
    "                    SELECT\n",
    "                        Date\n",
    "                    FROM\n",
    "                        weather\n",
    "                    WHERE\n",
    "                        Events = \"Rain\"\n",
    "                    GROUP BY 1\n",
    "                )\n",
    "                SELECT\n",
    "                    trip_id,\n",
    "                    duration,\n",
    "                    DATE(start_date) trip_date\n",
    "                FROM\n",
    "                    trips\n",
    "                JOIN\n",
    "                    rainy_days\n",
    "                ON\n",
    "                    rainy_days.date = trip_date\n",
    "                ORDER BY duration DESC\n",
    "                LIMIT 3\n",
    "                ''').fetchall()"
   ]
  },
  {
   "cell_type": "code",
   "execution_count": 4,
   "metadata": {},
   "outputs": [
    {
     "data": {
      "text/plain": [
       "[('1173890', 85900, '2016-04-22'),\n",
       " ('1009870', 84349, '2015-11-15'),\n",
       " ('1210487', 83915, '2016-05-21')]"
      ]
     },
     "execution_count": 4,
     "metadata": {},
     "output_type": "execute_result"
    }
   ],
   "source": [
    "q1"
   ]
  },
  {
   "cell_type": "markdown",
   "metadata": {},
   "source": [
    "# QUERY 2:  Which station is full most often?"
   ]
  },
  {
   "cell_type": "code",
   "execution_count": 5,
   "metadata": {},
   "outputs": [],
   "source": [
    "q2 = c.execute('''\n",
    "               SELECT\n",
    "                   status.station_id,\n",
    "                   stations.name,\n",
    "                   COUNT(CASE WHEN status.docks_available=0 then 1 END) empty_count\n",
    "                FROM\n",
    "                    status\n",
    "                JOIN\n",
    "                    stations\n",
    "                ON\n",
    "                    stations.station_id = status.station_id\n",
    "                GROUP BY 1\n",
    "                ORDER BY empty_count DESC\n",
    "                ''').fetchall()"
   ]
  },
  {
   "cell_type": "code",
   "execution_count": 6,
   "metadata": {},
   "outputs": [
    {
     "data": {
      "text/plain": [
       "[(70, 'San Francisco Caltrain (Townsend at 4th)', 23450),\n",
       " (73, 'Grant Avenue at Columbus Avenue', 12338),\n",
       " (69, 'San Francisco Caltrain 2 (330 Townsend)', 9852),\n",
       " (54, 'Embarcadero at Bryant', 9231),\n",
       " (50, 'Harry Bridges Plaza (Ferry Building)', 7590),\n",
       " (61, '2nd at Townsend', 6372),\n",
       " (60, 'Embarcadero at Sansome', 5894),\n",
       " (48, 'Embarcadero at Vallejo', 5868),\n",
       " (4, 'Santa Clara at Almaden', 5788),\n",
       " (65, 'Townsend at 7th', 5279),\n",
       " (63, 'Howard at 2nd', 4998),\n",
       " (84, 'Ryland Park', 4949),\n",
       " (64, '2nd at South Park', 4740),\n",
       " (74, 'Steuart at Market', 3992),\n",
       " (45, 'Commercial at Montgomery', 2916),\n",
       " (37, 'Cowper at University', 2402),\n",
       " (27, 'Mountain View City Hall', 2359),\n",
       " (57, '5th at Howard', 2282),\n",
       " (39, 'Powell Street BART', 1874),\n",
       " (36, 'California Ave Caltrain Station', 1745),\n",
       " (42, 'Davis at Jackson', 1608),\n",
       " (55, 'Temporary Transbay Terminal (Howard at Beale)', 1528),\n",
       " (3, 'San Jose Civic Center', 1444),\n",
       " (46, 'Washington at Kearney', 1342),\n",
       " (76, 'Market at 4th', 1251),\n",
       " (35, 'University and Emerson', 1193),\n",
       " (41, 'Clay at Battery', 1100),\n",
       " (71, 'Powell at Post (Union Square)', 1075),\n",
       " (56, 'Beale at Market', 1064),\n",
       " (6, 'San Pedro Square', 1037),\n",
       " (82, 'Broadway St at Battery St', 953),\n",
       " (75, 'Mechanics Plaza (Market at Battery)', 939),\n",
       " (28, 'Mountain View Caltrain Station', 868),\n",
       " (33, 'Charleston Park/ North Bayshore Area', 852),\n",
       " (7, 'Paseo de San Antonio', 829),\n",
       " (16, 'SJSU - San Salvador at 9th', 681),\n",
       " (51, 'Embarcadero at Folsom', 670),\n",
       " (2, 'San Jose Diridon Caltrain Station', 626),\n",
       " (9, 'Japantown', 604),\n",
       " (77, 'Market at Sansome', 578),\n",
       " (62, '2nd at Folsom', 567),\n",
       " (12, 'SJSU 4th at San Carlos', 550),\n",
       " (11, 'MLK Library', 487),\n",
       " (49, 'Spear at Folsom', 408),\n",
       " (68, 'Yerba Buena Center of the Arts (3rd @ Howard)', 375),\n",
       " (13, 'St James Park', 321),\n",
       " (32, 'Castro Street and El Camino Real', 289),\n",
       " (47, 'Post at Kearney', 287),\n",
       " (8, 'San Salvador at 1st', 270),\n",
       " (5, 'Adobe on Almaden', 179),\n",
       " (58, 'San Francisco City Hall', 152),\n",
       " (66, 'South Van Ness at Market', 130),\n",
       " (67, 'Market at 10th', 41),\n",
       " (72, 'Civic Center BART (7th at Market)', 6),\n",
       " (90, '5th St at Folsom St', 5),\n",
       " (88, '5th S. at E. San Salvador St', 3),\n",
       " (31, 'San Antonio Shopping Center', 2),\n",
       " (89, 'S. Market st at Park Ave', 2),\n",
       " (91, 'Cyril Magnin St at Ellis St', 1),\n",
       " (10, 'San Jose City Hall', 0),\n",
       " (14, 'Arena Green / SAP Center', 0),\n",
       " (29, 'San Antonio Caltrain Station', 0),\n",
       " (30, 'Middlefield Light Rail Station', 0),\n",
       " (34, 'Palo Alto Caltrain Station', 0),\n",
       " (38, 'Park at Olive', 0),\n",
       " (59, 'Golden Gate at Polk', 0),\n",
       " (80, 'Santa Clara County Civic Center', 0)]"
      ]
     },
     "execution_count": 6,
     "metadata": {},
     "output_type": "execute_result"
    }
   ],
   "source": [
    "q2"
   ]
  },
  {
   "cell_type": "markdown",
   "metadata": {},
   "source": [
    "# QUERY 3:  Return a list of stations with a count of number of trips starting at that station but ordered by dock count."
   ]
  },
  {
   "cell_type": "code",
   "execution_count": 7,
   "metadata": {},
   "outputs": [],
   "source": [
    "q3 = c.execute('''\n",
    "                SELECT\n",
    "                    trips.start_station,\n",
    "                    stations.dockcount,\n",
    "                    COUNT(*)\n",
    "                FROM\n",
    "                    trips\n",
    "                JOIN\n",
    "                    stations\n",
    "                ON\n",
    "                    stations.name = trips.start_station\n",
    "                GROUP BY 1, 2\n",
    "                ORDER BY 2 DESC\n",
    "                ''').fetchall()"
   ]
  },
  {
   "cell_type": "code",
   "execution_count": 8,
   "metadata": {},
   "outputs": [
    {
     "data": {
      "text/plain": [
       "[('Cyril Magnin St at Ellis St', 35, 69),\n",
       " ('5th St at Folsom St', 31, 173),\n",
       " ('2nd at Townsend', 27, 14099),\n",
       " ('Market at 10th', 27, 9937),\n",
       " ('Market at Sansome', 27, 10970),\n",
       " ('San Jose Diridon Caltrain Station', 27, 4035),\n",
       " ('Civic Center BART (7th at Market)', 23, 5043),\n",
       " ('Golden Gate at Polk', 23, 3309),\n",
       " ('Harry Bridges Plaza (Ferry Building)', 23, 16128),\n",
       " ('Mountain View Caltrain Station', 23, 2515),\n",
       " ('Palo Alto Caltrain Station', 23, 1170),\n",
       " ('San Antonio Caltrain Station', 23, 611),\n",
       " ('San Francisco Caltrain 2 (330 Townsend)', 23, 22358),\n",
       " ('Steuart at Market', 23, 13693),\n",
       " ('Temporary Transbay Terminal (Howard at Beale)', 23, 13111),\n",
       " ('2nd at Folsom', 19, 7464),\n",
       " ('Adobe on Almaden', 19, 789),\n",
       " ('Arena Green / SAP Center', 19, 547),\n",
       " ('Beale at Market', 19, 7373),\n",
       " ('Embarcadero at Folsom', 19, 7820),\n",
       " ('Grant Avenue at Columbus Avenue', 19, 6735),\n",
       " ('Howard at 2nd', 19, 7583),\n",
       " ('MLK Library', 19, 630),\n",
       " ('Market at 4th', 19, 7337),\n",
       " ('Mechanics Plaza (Market at Battery)', 19, 5613),\n",
       " ('Powell Street BART', 19, 6826),\n",
       " ('Powell at Post (Union Square)', 19, 4488),\n",
       " ('SJSU 4th at San Carlos', 19, 363),\n",
       " ('San Francisco Caltrain (Townsend at 4th)', 19, 23591),\n",
       " ('San Francisco City Hall', 19, 2195),\n",
       " ('South Van Ness at Market', 19, 5398),\n",
       " ('Spear at Folsom', 19, 5113),\n",
       " ('Yerba Buena Center of the Arts (3rd @ Howard)', 19, 3460),\n",
       " ('2nd at South Park', 15, 7722),\n",
       " ('5th at Howard', 15, 5436),\n",
       " ('Broadway St at Battery St', 15, 5695),\n",
       " ('California Ave Caltrain Station', 15, 392),\n",
       " ('Charleston Park/ North Bayshore Area', 15, 343),\n",
       " ('Clay at Battery', 15, 4357),\n",
       " ('Commercial at Montgomery', 15, 4969),\n",
       " ('Davis at Jackson', 15, 5240),\n",
       " ('Embarcadero at Bryant', 15, 7714),\n",
       " ('Embarcadero at Sansome', 15, 13424),\n",
       " ('Embarcadero at Vallejo', 15, 4710),\n",
       " ('Japantown', 15, 945),\n",
       " ('Middlefield Light Rail Station', 15, 66),\n",
       " ('Mountain View City Hall', 15, 1291),\n",
       " ('Park at Olive', 15, 276),\n",
       " ('Paseo de San Antonio', 15, 833),\n",
       " ('Ryland Park', 15, 879),\n",
       " ('SJSU - San Salvador at 9th', 15, 481),\n",
       " ('San Antonio Shopping Center', 15, 559),\n",
       " ('San Jose City Hall', 15, 518),\n",
       " ('San Jose Civic Center', 15, 543),\n",
       " ('San Pedro Square', 15, 1215),\n",
       " ('San Salvador at 1st', 15, 540),\n",
       " ('Santa Clara County Civic Center', 15, 420),\n",
       " ('St James Park', 15, 694),\n",
       " ('Townsend at 7th', 15, 11170),\n",
       " ('Castro Street and El Camino Real', 11, 1014),\n",
       " ('Cowper at University', 11, 788),\n",
       " ('Santa Clara at Almaden', 11, 1447),\n",
       " ('University and Emerson', 11, 490)]"
      ]
     },
     "execution_count": 8,
     "metadata": {},
     "output_type": "execute_result"
    }
   ],
   "source": [
    "q3"
   ]
  },
  {
   "cell_type": "markdown",
   "metadata": {},
   "source": [
    "# QUERY 4:  (Challenge) What's the length of the longest trip for each day it rains anywhere?"
   ]
  },
  {
   "cell_type": "code",
   "execution_count": 9,
   "metadata": {},
   "outputs": [],
   "source": [
    "q4 = c.execute('''\n",
    "                WITH\n",
    "                    rainy_days\n",
    "                AS (\n",
    "                    SELECT\n",
    "                        Date\n",
    "                    FROM\n",
    "                        weather\n",
    "                    WHERE\n",
    "                        Events = \"Rain\"\n",
    "                    GROUP BY 1\n",
    "                ),\n",
    "                    rainy_trips\n",
    "                AS (\n",
    "                    SELECT\n",
    "                        trip_id,\n",
    "                        duration,\n",
    "                        DATE(start_date) trip_date\n",
    "                    FROM\n",
    "                        trips\n",
    "                    JOIN\n",
    "                        rainy_days\n",
    "                    ON\n",
    "                        rainy_days.date = trip_date\n",
    "                    ORDER BY duration DESC\n",
    "                )\n",
    "                SELECT\n",
    "                    trip_date,\n",
    "                    MAX(duration)\n",
    "                FROM\n",
    "                    rainy_trips\n",
    "                GROUP BY 1\n",
    "               ''').fetchall()"
   ]
  },
  {
   "cell_type": "code",
   "execution_count": 10,
   "metadata": {},
   "outputs": [
    {
     "data": {
      "text/plain": [
       "[('2015-09-02', 25917),\n",
       " ('2015-09-13', 21695),\n",
       " ('2015-09-16', 50241),\n",
       " ('2015-09-30', 25667),\n",
       " ('2015-10-01', 51081),\n",
       " ('2015-10-15', 27467),\n",
       " ('2015-10-16', 19073),\n",
       " ('2015-10-19', 41555),\n",
       " ('2015-10-27', 11107),\n",
       " ('2015-11-01', 43899),\n",
       " ('2015-11-02', 12246),\n",
       " ('2015-11-08', 7874),\n",
       " ('2015-11-09', 12838),\n",
       " ('2015-11-10', 61234),\n",
       " ('2015-11-12', 37799),\n",
       " ('2015-11-15', 84349),\n",
       " ('2015-11-24', 22478),\n",
       " ('2015-11-25', 3617),\n",
       " ('2015-11-30', 58759),\n",
       " ('2015-12-03', 16722),\n",
       " ('2015-12-06', 39450),\n",
       " ('2015-12-10', 8540),\n",
       " ('2015-12-11', 19186),\n",
       " ('2015-12-13', 57019),\n",
       " ('2015-12-18', 27880),\n",
       " ('2015-12-19', 33629),\n",
       " ('2015-12-20', 13739),\n",
       " ('2015-12-21', 18927),\n",
       " ('2015-12-22', 3999),\n",
       " ('2015-12-24', 8472),\n",
       " ('2015-12-27', 30361),\n",
       " ('2015-12-28', 7034),\n",
       " ('2015-12-30', 12416),\n",
       " ('2016-01-03', 61900),\n",
       " ('2016-01-04', 25318),\n",
       " ('2016-01-05', 5452),\n",
       " ('2016-01-06', 6401),\n",
       " ('2016-01-07', 28640),\n",
       " ('2016-01-08', 25855),\n",
       " ('2016-01-09', 11347),\n",
       " ('2016-01-10', 14749),\n",
       " ('2016-01-11', 26442),\n",
       " ('2016-01-13', 7866),\n",
       " ('2016-01-14', 76700),\n",
       " ('2016-01-15', 11580),\n",
       " ('2016-01-16', 14961),\n",
       " ('2016-01-17', 15935),\n",
       " ('2016-01-18', 38626),\n",
       " ('2016-01-19', 64444),\n",
       " ('2016-01-22', 62168),\n",
       " ('2016-01-23', 25977),\n",
       " ('2016-01-28', 44070),\n",
       " ('2016-01-29', 51243),\n",
       " ('2016-01-30', 14082),\n",
       " ('2016-01-31', 18996),\n",
       " ('2016-02-01', 50928),\n",
       " ('2016-02-02', 18517),\n",
       " ('2016-02-03', 9438),\n",
       " ('2016-02-17', 31017),\n",
       " ('2016-02-18', 9928),\n",
       " ('2016-02-19', 13743),\n",
       " ('2016-03-03', 29319),\n",
       " ('2016-03-04', 26338),\n",
       " ('2016-03-05', 1878),\n",
       " ('2016-03-06', 24693),\n",
       " ('2016-03-07', 41493),\n",
       " ('2016-03-08', 21212),\n",
       " ('2016-03-09', 7375),\n",
       " ('2016-03-10', 12285),\n",
       " ('2016-03-11', 24845),\n",
       " ('2016-03-12', 46320),\n",
       " ('2016-03-13', 3769),\n",
       " ('2016-03-14', 41092),\n",
       " ('2016-03-20', 36895),\n",
       " ('2016-03-21', 27357),\n",
       " ('2016-03-22', 67375),\n",
       " ('2016-03-28', 30027),\n",
       " ('2016-04-08', 78123),\n",
       " ('2016-04-09', 6220),\n",
       " ('2016-04-10', 43422),\n",
       " ('2016-04-14', 50495),\n",
       " ('2016-04-21', 14883),\n",
       " ('2016-04-22', 85900),\n",
       " ('2016-04-27', 6565),\n",
       " ('2016-05-06', 59642),\n",
       " ('2016-05-07', 82896),\n",
       " ('2016-05-08', 18632),\n",
       " ('2016-05-09', 28055),\n",
       " ('2016-05-21', 83915),\n",
       " ('2016-06-14', 25396),\n",
       " ('2016-06-17', 81687),\n",
       " ('2016-07-18', 52051)]"
      ]
     },
     "execution_count": 10,
     "metadata": {},
     "output_type": "execute_result"
    }
   ],
   "source": [
    "q4"
   ]
  },
  {
   "cell_type": "code",
   "execution_count": 11,
   "metadata": {},
   "outputs": [],
   "source": [
    "conn.close()"
   ]
  },
  {
   "cell_type": "code",
   "execution_count": null,
   "metadata": {},
   "outputs": [],
   "source": []
  }
 ],
 "metadata": {
  "kernelspec": {
   "display_name": "Python 3",
   "language": "python",
   "name": "python3"
  },
  "language_info": {
   "codemirror_mode": {
    "name": "ipython",
    "version": 3
   },
   "file_extension": ".py",
   "mimetype": "text/x-python",
   "name": "python",
   "nbconvert_exporter": "python",
   "pygments_lexer": "ipython3",
   "version": "3.6.6"
  }
 },
 "nbformat": 4,
 "nbformat_minor": 2
}
