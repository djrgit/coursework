{
 "cells": [
  {
   "cell_type": "markdown",
   "metadata": {},
   "source": [
    "# Drill - Exercises in Probability"
   ]
  },
  {
   "cell_type": "markdown",
   "metadata": {},
   "source": [
    "## 1. Calculate the probability of flipping a balanced coin four times and getting each pattern: HTTH, HHHH and TTHH."
   ]
  },
  {
   "cell_type": "code",
   "execution_count": 6,
   "metadata": {
    "scrolled": false
   },
   "outputs": [
    {
     "name": "stdout",
     "output_type": "stream",
     "text": [
      "Probability of coin flip patterns:  [('HTTH', 0.0625), ('HHHH', 0.0625), ('TTHH', 0.0625)]\n"
     ]
    }
   ],
   "source": [
    "coin_prob = {'H': 1/2, 'T': 1/2}\n",
    "\n",
    "flip_sequences = ['HTTH', 'HHHH', 'TTHH']\n",
    "\n",
    "sequence_prob = []\n",
    "\n",
    "for flips in flip_sequences:\n",
    "    flips_prob = 1\n",
    "    for char in flips:\n",
    "        flips_prob *= coin_prob[char]\n",
    "    sequence_prob.append(flips_prob)\n",
    "\n",
    "print(\"Probability of coin flip patterns: \", list(zip(flip_sequences, sequence_prob)))"
   ]
  },
  {
   "cell_type": "markdown",
   "metadata": {},
   "source": [
    "-------------------------------------------------------------------------------------------------------------------------"
   ]
  },
  {
   "cell_type": "markdown",
   "metadata": {},
   "source": [
    "## 2. If a list of people has 24 women and 21 men, then the probability of choosing a man from the list is 21/45. What is the probability of not choosing a man?"
   ]
  },
  {
   "cell_type": "code",
   "execution_count": 15,
   "metadata": {},
   "outputs": [
    {
     "name": "stdout",
     "output_type": "stream",
     "text": [
      "Probability of NOT choosing a man:  0.5333333333333333\n"
     ]
    }
   ],
   "source": [
    "people = {'women': 24, 'men': 21}\n",
    "sum(people.values())\n",
    "prob_man = people['men'] / sum(people.values())\n",
    "prob_not_man = 1 - prob_man\n",
    "print(\"Probability of NOT choosing a man: \", prob_not_man)"
   ]
  },
  {
   "cell_type": "markdown",
   "metadata": {},
   "source": [
    "-------------------------------------------------------------------------------------------------------------------------"
   ]
  },
  {
   "cell_type": "markdown",
   "metadata": {},
   "source": [
    "## 3. The probability that Bernice will travel by plane sometime in the next year is 10%. The probability of a plane crash at any time is .005%. What is the probability that Bernice will be in a plane crash sometime in the next year?"
   ]
  },
  {
   "cell_type": "code",
   "execution_count": 18,
   "metadata": {},
   "outputs": [],
   "source": [
    "prob_trav_plane = 0.1\n",
    "prob_plane_crash_anytime = 0.00005"
   ]
  },
  {
   "cell_type": "code",
   "execution_count": 21,
   "metadata": {},
   "outputs": [
    {
     "name": "stdout",
     "output_type": "stream",
     "text": [
      "Probability of Bernice being in a plane crash in the next year:  5e-06\n"
     ]
    }
   ],
   "source": [
    "print(\"Probability of Bernice being in a plane crash in the next year: \", prob_trav_plane * prob_plane_crash_anytime)"
   ]
  },
  {
   "cell_type": "markdown",
   "metadata": {},
   "source": [
    "-------------------------------------------------------------------------------------------------------------------------"
   ]
  },
  {
   "cell_type": "markdown",
   "metadata": {},
   "source": [
    "## 4. A data scientist wants to study the behavior of users on the company website. Each time a user clicks on a link on the website, there is a 5% chance that the user will be asked to complete a short survey about their behavior on the website. The data scientist uses the survey data to conclude that, on average, users spend 15 minutes surfing the company website before moving on to other things. What is wrong with this conclusion?"
   ]
  },
  {
   "cell_type": "markdown",
   "metadata": {},
   "source": [
    "### The survey sample has some bias since the time spent on the site is likely correlated with the number of links clicked, which increases the chances of being asked to participate in the survey."
   ]
  },
  {
   "cell_type": "code",
   "execution_count": null,
   "metadata": {},
   "outputs": [],
   "source": []
  }
 ],
 "metadata": {
  "kernelspec": {
   "display_name": "Python 3",
   "language": "python",
   "name": "python3"
  },
  "language_info": {
   "codemirror_mode": {
    "name": "ipython",
    "version": 3
   },
   "file_extension": ".py",
   "mimetype": "text/x-python",
   "name": "python",
   "nbconvert_exporter": "python",
   "pygments_lexer": "ipython3",
   "version": "3.6.6"
  }
 },
 "nbformat": 4,
 "nbformat_minor": 2
}
