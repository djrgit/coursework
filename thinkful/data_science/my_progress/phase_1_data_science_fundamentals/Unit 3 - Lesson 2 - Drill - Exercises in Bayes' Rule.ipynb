{
 "cells": [
  {
   "cell_type": "markdown",
   "metadata": {},
   "source": [
    "# Drill - Exercises in Bayes' Rule"
   ]
  },
  {
   "cell_type": "markdown",
   "metadata": {},
   "source": [
    "## A diagnostic test has a 98% probability of giving a positive result when applied to a person suffering from Thripshaw's Disease, and 10% probability of giving a (false) positive when applied to a non-sufferer. It is estimated that 0.5 % of the population are sufferers. Suppose that the test is now administered to a person whose disease status is unknown. Calculate the probability that the test will:\n",
    "\n",
    "   ### 1. Be positive\n",
    "   ### 2. Correctly diagnose a sufferer of Thripshaw's\n",
    "   ### 3. Correctly identify a non-sufferer of Thripshaw's\n",
    "   ### 4. Misclassify the person\n",
    "-------------------------------------------------------------------------------------------------------------------------"
   ]
  },
  {
   "cell_type": "code",
   "execution_count": 1,
   "metadata": {},
   "outputs": [],
   "source": [
    "p_pos_test_has_disease = 0.98\n",
    "p_neg_test_has_disease = 1 - p_pos_test_has_disease\n",
    "p_pos_test_no_disease = 0.10\n",
    "p_neg_test_no_disease = 1 - p_pos_test_no_disease\n",
    "pct_pop_has_disease = 0.005\n",
    "pct_pop_no_disease = 1 - pct_pop_has_disease"
   ]
  },
  {
   "cell_type": "markdown",
   "metadata": {},
   "source": [
    "## 1. Calculate the probability that the test will be positive"
   ]
  },
  {
   "cell_type": "code",
   "execution_count": 2,
   "metadata": {},
   "outputs": [],
   "source": [
    "p_pos_test = (p_pos_test_has_disease * pct_pop_has_disease) + (p_pos_test_no_disease * pct_pop_no_disease)"
   ]
  },
  {
   "cell_type": "code",
   "execution_count": 3,
   "metadata": {},
   "outputs": [
    {
     "name": "stdout",
     "output_type": "stream",
     "text": [
      "Probability of a positive test: 10.44%\n"
     ]
    }
   ],
   "source": [
    "print(\"Probability of a positive test: {:.2f}%\".format(p_pos_test * 100))"
   ]
  },
  {
   "cell_type": "markdown",
   "metadata": {},
   "source": [
    "## 2. Calculate the probability that the test will correctly diagnose a sufferer of Thripshaw's"
   ]
  },
  {
   "cell_type": "code",
   "execution_count": 4,
   "metadata": {},
   "outputs": [
    {
     "name": "stdout",
     "output_type": "stream",
     "text": [
      "Probability of a positive test for sufferer: 98.00%\n"
     ]
    }
   ],
   "source": [
    "print(\"Probability of a positive test for sufferer: {:.2f}%\".format(p_pos_test_has_disease * 100))"
   ]
  },
  {
   "cell_type": "markdown",
   "metadata": {},
   "source": [
    "## 3. Calculate the probability that the test will correctly identify a non-sufferer of Thripshaw's"
   ]
  },
  {
   "cell_type": "code",
   "execution_count": 5,
   "metadata": {},
   "outputs": [
    {
     "name": "stdout",
     "output_type": "stream",
     "text": [
      "Probability of a negative test for non-sufferer: 90.00%\n"
     ]
    }
   ],
   "source": [
    "print(\"Probability of a negative test for non-sufferer: {:.2f}%\".format(p_neg_test_no_disease * 100))"
   ]
  },
  {
   "cell_type": "markdown",
   "metadata": {},
   "source": [
    "## 4. Calculate the probability that the test will misclassify the person"
   ]
  },
  {
   "cell_type": "code",
   "execution_count": 6,
   "metadata": {},
   "outputs": [],
   "source": [
    "p_correct_result = (p_pos_test_has_disease * pct_pop_has_disease) + (p_neg_test_no_disease * pct_pop_no_disease)\n",
    "p_incorrect_result = 1 - p_correct_result"
   ]
  },
  {
   "cell_type": "code",
   "execution_count": 7,
   "metadata": {},
   "outputs": [
    {
     "name": "stdout",
     "output_type": "stream",
     "text": [
      "Probability of a false test result for a person: 9.96%\n"
     ]
    }
   ],
   "source": [
    "print(\"Probability of a false test result for a person: {:.2f}%\".format(p_incorrect_result * 100))"
   ]
  },
  {
   "cell_type": "code",
   "execution_count": null,
   "metadata": {},
   "outputs": [],
   "source": []
  }
 ],
 "metadata": {
  "kernelspec": {
   "display_name": "Python 3",
   "language": "python",
   "name": "python3"
  },
  "language_info": {
   "codemirror_mode": {
    "name": "ipython",
    "version": 3
   },
   "file_extension": ".py",
   "mimetype": "text/x-python",
   "name": "python",
   "nbconvert_exporter": "python",
   "pygments_lexer": "ipython3",
   "version": "3.6.6"
  }
 },
 "nbformat": 4,
 "nbformat_minor": 2
}
