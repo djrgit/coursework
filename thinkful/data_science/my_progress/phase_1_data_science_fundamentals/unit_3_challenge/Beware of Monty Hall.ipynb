{
 "cells": [
  {
   "cell_type": "markdown",
   "metadata": {},
   "source": [
    "# Challenge - Beware of Monty Hall"
   ]
  },
  {
   "cell_type": "markdown",
   "metadata": {},
   "source": [
    "## You are on a game show and given the choice of whatever is behind three doors. Behind one door is a fantastic prize (some examples use a car, others use cash) while behind the other two doors is a dud (some examples say a goat, others say it's just empty). You pick a door. Then the host opens one of the other two doors to reveal a dud. But here's the wrinkle: the host now gives you the opportunity to switch your door. What should you do?"
   ]
  },
  {
   "cell_type": "code",
   "execution_count": 2,
   "metadata": {},
   "outputs": [],
   "source": [
    "import random"
   ]
  },
  {
   "cell_type": "code",
   "execution_count": 64,
   "metadata": {},
   "outputs": [
    {
     "name": "stdout",
     "output_type": "stream",
     "text": [
      "(1666306, 3334841, 3331799, 1667054)\n"
     ]
    }
   ],
   "source": [
    "doors = [1, 2, 3]\n",
    "num_matches = 10000000\n",
    "\n",
    "def games(doors, matches=1):\n",
    "\n",
    "    count_win_kept_original_choice = 0\n",
    "    count_win_switched_original_choice = 0\n",
    "    count_loss_kept_original_choice = 0\n",
    "    count_loss_switched_original_choice = 0\n",
    "    \n",
    "    for match in range(matches):\n",
    "        secret_prize_door = random.choice(doors)\n",
    "        contestant_selection_1 = random.choice(doors)\n",
    "        doors_copy = doors[:]\n",
    "\n",
    "        dud_door = random.choice(doors)\n",
    "        while dud_door == secret_prize_door or dud_door == contestant_selection_1:\n",
    "            dud_door = random.choice(doors)\n",
    "\n",
    "        doors_copy.remove(dud_door)\n",
    "        doors_minus_dud = doors_copy\n",
    "\n",
    "        contestant_selection_2 = random.choice(doors_minus_dud)\n",
    "\n",
    "        kept = contestant_selection_1 == contestant_selection_2\n",
    "        switched = contestant_selection_1 != contestant_selection_2\n",
    "        win = contestant_selection_2 == secret_prize_door\n",
    "        loss = contestant_selection_2 != secret_prize_door\n",
    "\n",
    "        if win and kept:\n",
    "            count_win_kept_original_choice += 1\n",
    "        elif win and switched:\n",
    "            count_win_switched_original_choice += 1\n",
    "        elif loss and kept:\n",
    "            count_loss_kept_original_choice += 1\n",
    "        elif loss and switched:\n",
    "            count_loss_switched_original_choice += 1\n",
    "        else:\n",
    "            raise Exception\n",
    "            \n",
    "    return(count_win_kept_original_choice,\n",
    "          count_win_switched_original_choice,\n",
    "          count_loss_kept_original_choice,\n",
    "          count_loss_switched_original_choice)\n",
    "\n",
    "print(games(doors, num_matches))"
   ]
  },
  {
   "cell_type": "code",
   "execution_count": 65,
   "metadata": {},
   "outputs": [
    {
     "data": {
      "text/plain": [
       "10000000"
      ]
     },
     "execution_count": 65,
     "metadata": {},
     "output_type": "execute_result"
    }
   ],
   "source": [
    "sum((1666306, 3334841, 3331799, 1667054))"
   ]
  },
  {
   "cell_type": "code",
   "execution_count": 66,
   "metadata": {},
   "outputs": [
    {
     "data": {
      "text/plain": [
       "3334841"
      ]
     },
     "execution_count": 66,
     "metadata": {},
     "output_type": "execute_result"
    }
   ],
   "source": [
    "max(1666306, 3334841, 3331799, 1667054)"
   ]
  },
  {
   "cell_type": "markdown",
   "metadata": {},
   "source": [
    "### _If we consider that the contestant's odds of NOT picking the correct door during the first selection are 2/3, then it may benefit the contestant to switch selections after a dud door is opened._\n",
    "\n",
    "### _Assuming there is no bias and/or prior knowledge of which door the prize is behind on the part of the game show host, which may influence the host's decision to offer the contestant a second choice, then choosing the other door after a dud door was opened would increase the contestant's odds of winning._\n",
    "\n",
    "### _This was tested above simulating 10,000,000 games using source code.  The second number in the returned tuple corresponds to a 'win' for the contestant where their door choice was switched after a dud door was opened._"
   ]
  },
  {
   "cell_type": "code",
   "execution_count": null,
   "metadata": {},
   "outputs": [],
   "source": []
  }
 ],
 "metadata": {
  "kernelspec": {
   "display_name": "Python 3",
   "language": "python",
   "name": "python3"
  },
  "language_info": {
   "codemirror_mode": {
    "name": "ipython",
    "version": 3
   },
   "file_extension": ".py",
   "mimetype": "text/x-python",
   "name": "python",
   "nbconvert_exporter": "python",
   "pygments_lexer": "ipython3",
   "version": "3.6.6"
  }
 },
 "nbformat": 4,
 "nbformat_minor": 2
}
