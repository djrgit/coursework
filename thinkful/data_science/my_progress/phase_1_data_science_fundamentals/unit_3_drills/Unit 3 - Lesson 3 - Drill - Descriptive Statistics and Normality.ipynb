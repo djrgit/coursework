{
 "cells": [
  {
   "cell_type": "markdown",
   "metadata": {},
   "source": [
    "# Drill - Descriptive Statistics and Normality"
   ]
  },
  {
   "cell_type": "code",
   "execution_count": 1,
   "metadata": {},
   "outputs": [],
   "source": [
    "import numpy as np\n",
    "import pandas as pd\n",
    "import matplotlib.pyplot as plt\n",
    "%matplotlib inline"
   ]
  },
  {
   "cell_type": "code",
   "execution_count": 2,
   "metadata": {},
   "outputs": [],
   "source": [
    "np.random.seed(6)"
   ]
  },
  {
   "cell_type": "markdown",
   "metadata": {},
   "source": [
    "## Normal Distribution"
   ]
  },
  {
   "cell_type": "code",
   "execution_count": 3,
   "metadata": {
    "scrolled": true
   },
   "outputs": [
    {
     "name": "stdout",
     "output_type": "stream",
     "text": [
      "Mean:  0.10943253336854503\n",
      "Standard deviation:  0.9949921404502878\n"
     ]
    },
    {
     "data": {
      "image/png": "[encoded data removed]",
      "text/plain": [
       "<Figure size 432x288 with 1 Axes>"
      ]
     },
     "metadata": {},
     "output_type": "display_data"
    }
   ],
   "source": [
    "# Generate a random variable with 100 datapoints\n",
    "normal_dist = np.random.normal(0, 1, 100)\n",
    "\n",
    "# Graph the variable using a histogram\n",
    "plt.hist(normal_dist, bins=20, color='green')\n",
    "\n",
    "# Add a vertical line at the mean.\n",
    "plt.axvline(normal_dist.mean(), color='b', linestyle='solid', linewidth=2)\n",
    "\n",
    "print(\"Mean: \", normal_dist.mean())\n",
    "print(\"Standard deviation: \", normal_dist.std())\n",
    "\n",
    "# Add a vertical line at one standard deviation above the mean.\n",
    "plt.axvline(normal_dist.mean() + normal_dist.std(), color='b', linestyle='dashed', linewidth=2)\n",
    "\n",
    "# Add a vertical line at one standard deviation below the mean.\n",
    "plt.axvline(normal_dist.mean() - normal_dist.std(), color='b', linestyle='dashed', linewidth=2) \n",
    "\n",
    "# Show the plot\n",
    "plt.show()"
   ]
  },
  {
   "cell_type": "markdown",
   "metadata": {},
   "source": [
    "## For a Normal distribution, the _mean_ and _standard deviation_ are very useful in describing the shape of the data as most data will fall within three (3) standard deviations above or below the mean, and the bulk of the data will be close to the mean forming the shape of a 'bell' curve.\n",
    "---------------------------------"
   ]
  },
  {
   "cell_type": "markdown",
   "metadata": {},
   "source": [
    "## Bernoulli Distribution"
   ]
  },
  {
   "cell_type": "code",
   "execution_count": 4,
   "metadata": {
    "scrolled": true
   },
   "outputs": [
    {
     "name": "stdout",
     "output_type": "stream",
     "text": [
      "Mean:  0.43\n",
      "Standard deviation:  0.4950757517794625\n"
     ]
    },
    {
     "data": {
      "image/png": "[encoded data removed]",
      "text/plain": [
       "<Figure size 432x288 with 1 Axes>"
      ]
     },
     "metadata": {},
     "output_type": "display_data"
    }
   ],
   "source": [
    "# Generate a random variable with 100 datapoints\n",
    "bernoulli_dist = np.random.binomial(1, 0.5, 100)\n",
    "\n",
    "# Graph the variable using a histogram\n",
    "plt.hist(bernoulli_dist, bins=20, color='green')\n",
    "\n",
    "# Add a vertical line at the mean.\n",
    "plt.axvline(bernoulli_dist.mean(), color='b', linestyle='solid', linewidth=2)\n",
    "\n",
    "print(\"Mean: \", bernoulli_dist.mean())\n",
    "print(\"Standard deviation: \", bernoulli_dist.std())\n",
    "\n",
    "# Add a vertical line at one standard deviation above the mean.\n",
    "plt.axvline(bernoulli_dist.mean() + bernoulli_dist.std(), color='b', linestyle='dashed', linewidth=2)\n",
    "\n",
    "# Add a vertical line at one standard deviation below the mean.\n",
    "plt.axvline(bernoulli_dist.mean() - bernoulli_dist.std(), color='b', linestyle='dashed', linewidth=2) \n",
    "\n",
    "# Show the plot\n",
    "plt.show()"
   ]
  },
  {
   "cell_type": "markdown",
   "metadata": {},
   "source": [
    "## For a Bernoulli distribution, the _mean_ and _standard deviation_ are NOT useful in describing the shape of the data.\n",
    "---------------------------------"
   ]
  },
  {
   "cell_type": "markdown",
   "metadata": {},
   "source": [
    "## Binomial Distribution"
   ]
  },
  {
   "cell_type": "code",
   "execution_count": 5,
   "metadata": {},
   "outputs": [
    {
     "name": "stdout",
     "output_type": "stream",
     "text": [
      "Mean:  5.12\n",
      "Standard deviation:  1.4579437574886076\n"
     ]
    },
    {
     "data": {
      "image/png": "[encoded data removed]",
      "text/plain": [
       "<Figure size 432x288 with 1 Axes>"
      ]
     },
     "metadata": {},
     "output_type": "display_data"
    }
   ],
   "source": [
    "# Generate a random variable with 100 datapoints\n",
    "binomial_dist = np.random.binomial(10, 0.5, 100)\n",
    "\n",
    "# Graph the variable using a histogram\n",
    "plt.hist(binomial_dist, bins=20, color='green')\n",
    "\n",
    "# Add a vertical line at the mean.\n",
    "plt.axvline(binomial_dist.mean(), color='b', linestyle='solid', linewidth=2)\n",
    "\n",
    "print(\"Mean: \", binomial_dist.mean())\n",
    "print(\"Standard deviation: \", binomial_dist.std())\n",
    "\n",
    "# Add a vertical line at one standard deviation above the mean.\n",
    "plt.axvline(binomial_dist.mean() + binomial_dist.std(), color='b', linestyle='dashed', linewidth=2)\n",
    "\n",
    "# Add a vertical line at one standard deviation below the mean.\n",
    "plt.axvline(binomial_dist.mean() - binomial_dist.std(), color='b', linestyle='dashed', linewidth=2) \n",
    "\n",
    "# Show the plot\n",
    "plt.show()"
   ]
  },
  {
   "cell_type": "markdown",
   "metadata": {},
   "source": [
    "## For a Binomial distribution, the _mean_ and _standard deviation_ can be useful in describing the shape of the data depending on how many samples are taken and how many times the experiment is repeated. \n",
    "---------------------------------"
   ]
  },
  {
   "cell_type": "markdown",
   "metadata": {},
   "source": [
    "## Gamma Distribution"
   ]
  },
  {
   "cell_type": "code",
   "execution_count": 6,
   "metadata": {
    "scrolled": true
   },
   "outputs": [
    {
     "name": "stdout",
     "output_type": "stream",
     "text": [
      "Mean:  5.080258400365323\n",
      "Standard deviation:  2.2725502900117127\n"
     ]
    },
    {
     "data": {
      "image/png": "[encoded data removed]",
      "text/plain": [
       "<Figure size 432x288 with 1 Axes>"
      ]
     },
     "metadata": {},
     "output_type": "display_data"
    }
   ],
   "source": [
    "# Generate a random variable with 100 datapoints\n",
    "gamma_dist = np.random.gamma(5, 1, 100)\n",
    "\n",
    "# Graph the variable using a histogram\n",
    "plt.hist(gamma_dist, bins=20, color='green')\n",
    "\n",
    "# Add a vertical line at the mean.\n",
    "plt.axvline(gamma_dist.mean(), color='b', linestyle='solid', linewidth=2)\n",
    "\n",
    "print(\"Mean: \", gamma_dist.mean())\n",
    "print(\"Standard deviation: \", gamma_dist.std())\n",
    "\n",
    "# Add a vertical line at one standard deviation above the mean.\n",
    "plt.axvline(gamma_dist.mean() + gamma_dist.std(), color='b', linestyle='dashed', linewidth=2)\n",
    "\n",
    "# Add a vertical line at one standard deviation below the mean.\n",
    "plt.axvline(gamma_dist.mean() - gamma_dist.std(), color='b', linestyle='dashed', linewidth=2) \n",
    "\n",
    "# Show the plot\n",
    "plt.show()"
   ]
  },
  {
   "cell_type": "markdown",
   "metadata": {},
   "source": [
    "## For a Gamma distribution, the _mean_ is more relevant than the standard deviation since the histogram is skewed.\n",
    "----------------------------------------"
   ]
  },
  {
   "cell_type": "markdown",
   "metadata": {},
   "source": [
    "## Poisson Distribution"
   ]
  },
  {
   "cell_type": "code",
   "execution_count": 7,
   "metadata": {},
   "outputs": [
    {
     "name": "stdout",
     "output_type": "stream",
     "text": [
      "Mean:  3.16\n",
      "Standard deviation:  1.671645895517349\n"
     ]
    },
    {
     "data": {
      "image/png": "[encoded data removed]",
      "text/plain": [
       "<Figure size 432x288 with 1 Axes>"
      ]
     },
     "metadata": {},
     "output_type": "display_data"
    }
   ],
   "source": [
    "# Generate a random variable with 100 datapoints\n",
    "poisson_dist = np.random.poisson(3, 100)\n",
    "\n",
    "# Graph the variable using a histogram\n",
    "plt.hist(poisson_dist, bins=20, color='green')\n",
    "\n",
    "# Add a vertical line at the mean.\n",
    "plt.axvline(poisson_dist.mean(), color='b', linestyle='solid', linewidth=2)\n",
    "\n",
    "print(\"Mean: \", poisson_dist.mean())\n",
    "print(\"Standard deviation: \", poisson_dist.std())\n",
    "\n",
    "# Add a vertical line at one standard deviation above the mean.\n",
    "plt.axvline(poisson_dist.mean() + poisson_dist.std(), color='b', linestyle='dashed', linewidth=2)\n",
    "\n",
    "# Add a vertical line at one standard deviation below the mean.\n",
    "plt.axvline(poisson_dist.mean() - poisson_dist.std(), color='b', linestyle='dashed', linewidth=2) \n",
    "\n",
    "# Show the plot\n",
    "plt.show()"
   ]
  },
  {
   "cell_type": "markdown",
   "metadata": {},
   "source": [
    "## For a Poisson distribution, the _mean_ is more relevant than the standard deviation since the histogram is skewed.\n",
    "----------------------------------------"
   ]
  },
  {
   "cell_type": "markdown",
   "metadata": {},
   "source": [
    "## Geometric Distribution"
   ]
  },
  {
   "cell_type": "code",
   "execution_count": 8,
   "metadata": {},
   "outputs": [
    {
     "name": "stdout",
     "output_type": "stream",
     "text": [
      "Mean:  2.04\n",
      "Standard deviation:  1.4759403781996074\n"
     ]
    },
    {
     "data": {
      "image/png": "[encoded data removed]",
      "text/plain": [
       "<Figure size 432x288 with 1 Axes>"
      ]
     },
     "metadata": {},
     "output_type": "display_data"
    }
   ],
   "source": [
    "# Generate a random variable with 100 datapoints\n",
    "geometric_dist = np.random.geometric(0.5, 100)\n",
    "\n",
    "# Graph the variable using a histogram\n",
    "plt.hist(geometric_dist, bins=20, color='green')\n",
    "\n",
    "# Add a vertical line at the mean.\n",
    "plt.axvline(geometric_dist.mean(), color='b', linestyle='solid', linewidth=2)\n",
    "\n",
    "print(\"Mean: \", geometric_dist.mean())\n",
    "print(\"Standard deviation: \", geometric_dist.std())\n",
    "\n",
    "# Add a vertical line at one standard deviation above the mean.\n",
    "plt.axvline(geometric_dist.mean() + geometric_dist.std(), color='b', linestyle='dashed', linewidth=2)\n",
    "\n",
    "# Add a vertical line at one standard deviation below the mean.\n",
    "plt.axvline(geometric_dist.mean() - geometric_dist.std(), color='b', linestyle='dashed', linewidth=2) \n",
    "\n",
    "# Show the plot\n",
    "plt.show()"
   ]
  },
  {
   "cell_type": "markdown",
   "metadata": {},
   "source": [
    "## For a Geometric distribution, the _mean_ and _standard deviation_ are NOT relevant due to the overly skewed nature of the histogram.\n",
    "-------------------------------------------------------"
   ]
  },
  {
   "cell_type": "code",
   "execution_count": 9,
   "metadata": {},
   "outputs": [
    {
     "name": "stdout",
     "output_type": "stream",
     "text": [
      "Mean:  14.907034976714508\n",
      "Standard deviation:  1.0747186814126457\n"
     ]
    },
    {
     "data": {
      "image/png": "[encoded data removed]",
      "text/plain": [
       "<Figure size 432x288 with 1 Axes>"
      ]
     },
     "metadata": {},
     "output_type": "display_data"
    }
   ],
   "source": [
    "# Generate random variables with 100 datapoints and add them together\n",
    "var1 = np.random.normal(5, 0.5, 100)\n",
    "var2 = np.random.normal(10, 1, 100)\n",
    "sum_var1_var2 = var1 + var2\n",
    "\n",
    "# Graph the variable using a histogram\n",
    "plt.hist(sum_var1_var2, bins=20, color='green')\n",
    "\n",
    "# Add a vertical line at the mean.\n",
    "plt.axvline(sum_var1_var2.mean(), color='b', linestyle='solid', linewidth=2)\n",
    "\n",
    "print(\"Mean: \", sum_var1_var2.mean())\n",
    "print(\"Standard deviation: \", sum_var1_var2.std())\n",
    "\n",
    "# Add a vertical line at one standard deviation above the mean.\n",
    "plt.axvline(sum_var1_var2.mean() + sum_var1_var2.std(), color='b', linestyle='dashed', linewidth=2)\n",
    "\n",
    "# Add a vertical line at one standard deviation below the mean.\n",
    "plt.axvline(sum_var1_var2.mean() - sum_var1_var2.std(), color='b', linestyle='dashed', linewidth=2) \n",
    "\n",
    "# Show the plot\n",
    "plt.show()"
   ]
  },
  {
   "cell_type": "markdown",
   "metadata": {},
   "source": [
    "## For this distribution, the _mean_ and _standard deviation_ are somewhat useful in describing the shape of the data.  The composite data appears more spread out than most normal distributions and deviates a bit from the 'bell' shape."
   ]
  },
  {
   "cell_type": "code",
   "execution_count": null,
   "metadata": {},
   "outputs": [],
   "source": []
  }
 ],
 "metadata": {
  "kernelspec": {
   "display_name": "Python 3",
   "language": "python",
   "name": "python3"
  },
  "language_info": {
   "codemirror_mode": {
    "name": "ipython",
    "version": 3
   },
   "file_extension": ".py",
   "mimetype": "text/x-python",
   "name": "python",
   "nbconvert_exporter": "python",
   "pygments_lexer": "ipython3",
   "version": "3.6.6"
  }
 },
 "nbformat": 4,
 "nbformat_minor": 2
}
