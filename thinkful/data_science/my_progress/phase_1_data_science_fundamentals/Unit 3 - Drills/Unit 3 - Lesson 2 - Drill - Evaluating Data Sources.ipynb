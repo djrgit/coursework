{
 "cells": [
  {
   "cell_type": "markdown",
   "metadata": {},
   "source": [
    "# Drill - Evaluating Data Sources"
   ]
  },
  {
   "cell_type": "markdown",
   "metadata": {},
   "source": [
    "## In each of the scenarios, find possible shortcomings of the theoretical or actual data sources to answer the given question. What could be done to either adjust the analysis or reframe the question so that you can answer it accurately?\n",
    "-------------------------------------------------------------------------------------------------------------------------"
   ]
  },
  {
   "cell_type": "markdown",
   "metadata": {},
   "source": [
    "## 1. Data Source: Amsterdam availability data scraped from AirBnB on December 24th. \n",
    "\n",
    "## Question: What are the popular neighborhoods in Amsterdam?"
   ]
  },
  {
   "cell_type": "markdown",
   "metadata": {},
   "source": [
    "### _The dataset was gathered around a holiday and may favor some neighborhoods more than others due to their proximity to any parts of the city that are adorned with holiday decorations._  \n",
    "\n",
    "### _The question could be reframed to ask, \"What are the popular neighborhoods in Amsterdam during the winter holidays?\"_\n",
    "\n",
    "### _Alternatively, website data could be scraped at other points throughout the year away from holidays._\n",
    "-------------------------------------------------------------------------------------------------------------------------"
   ]
  },
  {
   "cell_type": "markdown",
   "metadata": {},
   "source": [
    "## 2. Data Source: Mental health services use on September 12, 2001 in San Francisco, CA and New York City, NY. \n",
    "\n",
    "## Question: How do patterns of mental health service use vary between cities?"
   ]
  },
  {
   "cell_type": "markdown",
   "metadata": {},
   "source": [
    "### _Due to the tragedy in New York City on September 11, 2001 and its immediate impact on the families of those that lost their lives, it's reasonable to expect that mental health services in that city would begin to see an uncharacteristic spike relative to their normal use patterns._\n",
    "\n",
    "### _This would also make it difficult to compare the (out-of-the-ordinary) dataset for NYC with that of San Francisco._\n",
    "-------------------------------------------------------------------------------------------------------------------------"
   ]
  },
  {
   "cell_type": "markdown",
   "metadata": {},
   "source": [
    "## 3. Data Source: [Armenian Pub Survey](https://www.kaggle.com/erikhambardzumyan/pubs)\n",
    "\n",
    "## Question: What are the most common reasons Armenians visit local pubs?"
   ]
  },
  {
   "cell_type": "markdown",
   "metadata": {},
   "source": [
    "### _Under the 'Occasions' column on the kaggle website, ~79% of survey respondents gave the answer, \"Hang outs with friends\" as the top reason for visiting the local pubs, followed by \"Special events/parties\" at ~9%._\n",
    "\n",
    "### _However, the dataset is primarily comprised of students in some form and is not representative of the population at large._\n",
    "\n",
    "### _The question could instead ask, \"What are the most common reasons that students in Armenia visit local pubs?\"_\n",
    "-------------------------------------------------------------------------------------------------------------------------"
   ]
  },
  {
   "cell_type": "code",
   "execution_count": null,
   "metadata": {},
   "outputs": [],
   "source": []
  }
 ],
 "metadata": {
  "kernelspec": {
   "display_name": "Python 3",
   "language": "python",
   "name": "python3"
  },
  "language_info": {
   "codemirror_mode": {
    "name": "ipython",
    "version": 3
   },
   "file_extension": ".py",
   "mimetype": "text/x-python",
   "name": "python",
   "nbconvert_exporter": "python",
   "pygments_lexer": "ipython3",
   "version": "3.6.6"
  }
 },
 "nbformat": 4,
 "nbformat_minor": 2
}
