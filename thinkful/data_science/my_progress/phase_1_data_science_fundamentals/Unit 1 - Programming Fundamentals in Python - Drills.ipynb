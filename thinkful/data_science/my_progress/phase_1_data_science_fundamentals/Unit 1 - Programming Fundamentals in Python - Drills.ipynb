{
 "cells": [
  {
   "cell_type": "markdown",
   "metadata": {},
   "source": [
    "# [Multiply](https://www.codewars.com/kata/50654ddff44f800200000004)"
   ]
  },
  {
   "cell_type": "code",
   "execution_count": 1,
   "metadata": {},
   "outputs": [],
   "source": [
    "def multiply(a, b):\n",
    "    return a * b"
   ]
  },
  {
   "cell_type": "code",
   "execution_count": 2,
   "metadata": {},
   "outputs": [
    {
     "name": "stdout",
     "output_type": "stream",
     "text": [
      "42\n"
     ]
    }
   ],
   "source": [
    "print(multiply(3, 14))"
   ]
  },
  {
   "cell_type": "markdown",
   "metadata": {},
   "source": [
    "# [String Drills: Hello, World](https://www.codewars.com/kata/thinkful-string-drills-hello-world/python​)"
   ]
  },
  {
   "cell_type": "code",
   "execution_count": 3,
   "metadata": {},
   "outputs": [],
   "source": [
    "def hello(name):\n",
    "    return \"Hello, \" + name"
   ]
  },
  {
   "cell_type": "code",
   "execution_count": 4,
   "metadata": {},
   "outputs": [
    {
     "name": "stdout",
     "output_type": "stream",
     "text": [
      "Hello, DJ\n"
     ]
    }
   ],
   "source": [
    "print(hello('DJ'))"
   ]
  },
  {
   "cell_type": "markdown",
   "metadata": {},
   "source": [
    "# [String Drills: Quotable](https://www.codewars.com/kata/thinkful-string-drills-quotable/)"
   ]
  },
  {
   "cell_type": "code",
   "execution_count": 5,
   "metadata": {},
   "outputs": [],
   "source": [
    "def quotable(name, quote):\n",
    "    return '{} said: \"{}\"'.format(name, quote)"
   ]
  },
  {
   "cell_type": "code",
   "execution_count": 6,
   "metadata": {},
   "outputs": [
    {
     "name": "stdout",
     "output_type": "stream",
     "text": [
      "Marcus Aurelius said: \"If you are pained by any external thing, it is not this thing that disturbs you, but your own judgment about it. And it is in your power to wipe out this judgment now.\"\n"
     ]
    }
   ],
   "source": [
    "print(quotable('Marcus Aurelius', \"If you are pained by any external thing, \\\n",
    "it is not this thing that disturbs you, but your own judgment about it. \\\n",
    "And it is in your power to wipe out this judgment now.\"))"
   ]
  },
  {
   "cell_type": "markdown",
   "metadata": {},
   "source": [
    "# [String Drills: Repeater](https://www.codewars.com/kata/thinkful-string-drills-repeater)"
   ]
  },
  {
   "cell_type": "code",
   "execution_count": 7,
   "metadata": {},
   "outputs": [],
   "source": [
    "def repeater(string, n):\n",
    "    return string * n"
   ]
  },
  {
   "cell_type": "code",
   "execution_count": 8,
   "metadata": {},
   "outputs": [
    {
     "name": "stdout",
     "output_type": "stream",
     "text": [
      "HaHaHaHa\n"
     ]
    }
   ],
   "source": [
    "print(repeater('Ha', 4))"
   ]
  },
  {
   "cell_type": "markdown",
   "metadata": {},
   "source": [
    "# [String Drills: Repeater level 2](https://www.codewars.com/kata/thinkful-string-drills-repeater-level-2/python)"
   ]
  },
  {
   "cell_type": "code",
   "execution_count": 9,
   "metadata": {},
   "outputs": [],
   "source": [
    "def repeater(string, n):\n",
    "    return '\"{}\" repeated {} times is: \"{}\"'.format(string, n, string * n)"
   ]
  },
  {
   "cell_type": "code",
   "execution_count": 10,
   "metadata": {},
   "outputs": [
    {
     "name": "stdout",
     "output_type": "stream",
     "text": [
      "\"Ha\" repeated 4 times is: \"HaHaHaHa\"\n"
     ]
    }
   ],
   "source": [
    "print(repeater('Ha', 4))"
   ]
  },
  {
   "cell_type": "markdown",
   "metadata": {},
   "source": [
    "# [String Drills: Jedi name](https://www.codewars.com/kata/thinkful-string-drills-jedi-name)"
   ]
  },
  {
   "cell_type": "code",
   "execution_count": 11,
   "metadata": {},
   "outputs": [],
   "source": [
    "def greet_jedi(first, last):\n",
    "    first3oflast = last[:3].capitalize()\n",
    "    first2offirst = first[:2].capitalize()    \n",
    "    jedi_name = first3oflast + first2offirst\n",
    "    return \"Greetings, master \" + jedi_name"
   ]
  },
  {
   "cell_type": "code",
   "execution_count": 12,
   "metadata": {},
   "outputs": [
    {
     "name": "stdout",
     "output_type": "stream",
     "text": [
      "Greetings, master SkyLu\n"
     ]
    }
   ],
   "source": [
    "print(greet_jedi('Luke', 'Skywalker'))"
   ]
  },
  {
   "cell_type": "markdown",
   "metadata": {},
   "source": [
    "#  [String Drills: Areacode extractor](https://www.codewars.com/kata/thinkful-string-drills-areacode-extractor)"
   ]
  },
  {
   "cell_type": "code",
   "execution_count": 13,
   "metadata": {},
   "outputs": [],
   "source": [
    "import re\n",
    "\n",
    "def area_code(text):\n",
    "    pattern_area_code = re.findall(r'\\(\\d{3}\\)', text)\n",
    "    if len(pattern_area_code) == 1:\n",
    "        return pattern_area_code[0][1:4]"
   ]
  },
  {
   "cell_type": "code",
   "execution_count": 14,
   "metadata": {},
   "outputs": [
    {
     "name": "stdout",
     "output_type": "stream",
     "text": [
      "555\n"
     ]
    }
   ],
   "source": [
    "message = \"The supplier's phone number is (555) 867-5309\"\n",
    "print(area_code(message))"
   ]
  },
  {
   "cell_type": "markdown",
   "metadata": {},
   "source": [
    "# [String Drills: Poem formatter](https://www.codewars.com/kata/thinkful-string-drills-poem-formatter)"
   ]
  },
  {
   "cell_type": "code",
   "execution_count": 15,
   "metadata": {},
   "outputs": [],
   "source": [
    "def format_poem(poem):\n",
    "    split_poem = [x.strip() for x in poem.split('.')]\n",
    "    return '.\\n'.join(split_poem).strip()"
   ]
  },
  {
   "cell_type": "code",
   "execution_count": 16,
   "metadata": {},
   "outputs": [],
   "source": [
    "text = 'Beautiful is better than ugly. Explicit is better than implicit. \\\n",
    "Simple is better than complex. Complex is better than complicated.'"
   ]
  },
  {
   "cell_type": "code",
   "execution_count": 17,
   "metadata": {},
   "outputs": [
    {
     "name": "stdout",
     "output_type": "stream",
     "text": [
      "Beautiful is better than ugly.\n",
      "Explicit is better than implicit.\n",
      "Simple is better than complex.\n",
      "Complex is better than complicated.\n"
     ]
    }
   ],
   "source": [
    "print(format_poem(text))"
   ]
  },
  {
   "cell_type": "markdown",
   "metadata": {},
   "source": [
    "# [Number Drills: Rømer temperature](https://www.codewars.com/kata/thinkful-number-drills-romer-temperature)"
   ]
  },
  {
   "cell_type": "code",
   "execution_count": 18,
   "metadata": {},
   "outputs": [],
   "source": [
    "def celsius_to_romer(temp):\n",
    "    celsius_to_romer_conversion = temp * (21/40) + 7.5\n",
    "    return celsius_to_romer_conversion"
   ]
  },
  {
   "cell_type": "code",
   "execution_count": 19,
   "metadata": {},
   "outputs": [
    {
     "name": "stdout",
     "output_type": "stream",
     "text": [
      "7.5\n"
     ]
    }
   ],
   "source": [
    "print(celsius_to_romer(0))"
   ]
  },
  {
   "cell_type": "markdown",
   "metadata": {},
   "source": [
    "# [Number Drills: Pixelart planning](https://www.codewars.com/kata/thinkful-number-drills-pixelart-planning)"
   ]
  },
  {
   "cell_type": "code",
   "execution_count": 20,
   "metadata": {},
   "outputs": [],
   "source": [
    "def is_divisible(wall_length, pixel_size):\n",
    "    return wall_length % pixel_size == 0"
   ]
  },
  {
   "cell_type": "code",
   "execution_count": 21,
   "metadata": {},
   "outputs": [
    {
     "name": "stdout",
     "output_type": "stream",
     "text": [
      "False\n"
     ]
    }
   ],
   "source": [
    "print(is_divisible(4066, 27))"
   ]
  },
  {
   "cell_type": "markdown",
   "metadata": {},
   "source": [
    "# [Number Drills: Blue and red marbles](https://www.codewars.com/kata/thinkful-number-drills-blue-and-red-marbles)"
   ]
  },
  {
   "cell_type": "code",
   "execution_count": 22,
   "metadata": {},
   "outputs": [],
   "source": [
    "def guess_blue(blue_start, red_start, blue_pulled, red_pulled):\n",
    "    blue_remaining = blue_start - blue_pulled\n",
    "    red_remaining = red_start - red_pulled\n",
    "    total_remaining = blue_remaining + red_remaining\n",
    "    return blue_remaining / total_remaining"
   ]
  },
  {
   "cell_type": "code",
   "execution_count": 23,
   "metadata": {},
   "outputs": [
    {
     "name": "stdout",
     "output_type": "stream",
     "text": [
      "0.6\n"
     ]
    }
   ],
   "source": [
    "print(guess_blue(5, 5, 2, 3))"
   ]
  },
  {
   "cell_type": "markdown",
   "metadata": {},
   "source": [
    "# [Number Drills: Congo warehouses](https://www.codewars.com/kata/thinkful-number-drills-congo-warehouses)"
   ]
  },
  {
   "cell_type": "code",
   "execution_count": 24,
   "metadata": {},
   "outputs": [],
   "source": [
    "def box_capacity(length, width, height):\n",
    "    BOX_DIMENSION_FEET = 16 / 12\n",
    "    capacity_length = length // BOX_DIMENSION_FEET\n",
    "    capacity_width = width // BOX_DIMENSION_FEET\n",
    "    capacity_height = height // BOX_DIMENSION_FEET\n",
    "    return capacity_length * capacity_width * capacity_height"
   ]
  },
  {
   "cell_type": "code",
   "execution_count": 25,
   "metadata": {},
   "outputs": [
    {
     "name": "stdout",
     "output_type": "stream",
     "text": [
      "13824.0\n"
     ]
    }
   ],
   "source": [
    "print(box_capacity(32, 64, 16))"
   ]
  },
  {
   "cell_type": "markdown",
   "metadata": {},
   "source": [
    "# [Number Drills: Quadratic formula](https://www.codewars.com/kata/thinkful-number-drills-quadratic-formula)"
   ]
  },
  {
   "cell_type": "code",
   "execution_count": 26,
   "metadata": {},
   "outputs": [],
   "source": [
    "def quadratic_formula(a, b, c):\n",
    "    root1 = (-b + (b ** 2 - 4 * a * c) ** 0.5) / (2 * a)\n",
    "    root2 = (-b - (b ** 2 - 4 * a * c) ** 0.5) / (2 * a)\n",
    "    return [root1, root2]"
   ]
  },
  {
   "cell_type": "code",
   "execution_count": 27,
   "metadata": {},
   "outputs": [
    {
     "name": "stdout",
     "output_type": "stream",
     "text": [
      "[-0.06299606299409444, -7.937003937005906]\n"
     ]
    }
   ],
   "source": [
    "print(quadratic_formula(2, 16, 1))"
   ]
  },
  {
   "cell_type": "markdown",
   "metadata": {},
   "source": [
    "# [Logic Drills: Traffic light](https://www.codewars.com/kata/thinkful-logic-drills-traffic-light)"
   ]
  },
  {
   "cell_type": "code",
   "execution_count": 28,
   "metadata": {},
   "outputs": [],
   "source": [
    "def update_light(current):\n",
    "    lights = ['green', 'yellow', 'red']\n",
    "    return lights[(lights.index(current) + 1) % len(lights)]"
   ]
  },
  {
   "cell_type": "code",
   "execution_count": 29,
   "metadata": {},
   "outputs": [
    {
     "name": "stdout",
     "output_type": "stream",
     "text": [
      "green\n"
     ]
    }
   ],
   "source": [
    "print(update_light('red'))"
   ]
  },
  {
   "cell_type": "markdown",
   "metadata": {},
   "source": [
    "# [Logic Drills: Umbrella decider](https://www.codewars.com/kata/thinkful-logic-drills-umbrella-decider)"
   ]
  },
  {
   "cell_type": "code",
   "execution_count": 30,
   "metadata": {},
   "outputs": [],
   "source": [
    "def take_umbrella(weather, rain_chance):\n",
    "    condition_rainy = weather == 'rainy'\n",
    "    condition_cloudy = weather == 'cloudy' and rain_chance > 0.2\n",
    "    condition_sunny = weather == 'sunny' and rain_chance > 0.5\n",
    "    true_conditions = [condition_rainy, condition_cloudy, condition_sunny]\n",
    "    return any(true_conditions)"
   ]
  },
  {
   "cell_type": "code",
   "execution_count": 31,
   "metadata": {},
   "outputs": [
    {
     "name": "stdout",
     "output_type": "stream",
     "text": [
      "True\n"
     ]
    }
   ],
   "source": [
    "print(take_umbrella('sunny', 0.51))"
   ]
  },
  {
   "cell_type": "markdown",
   "metadata": {},
   "source": [
    "# [Logic Drills: Graceful addition](https://www.codewars.com/kata/thinkful-logic-drills-graceful-addition)"
   ]
  },
  {
   "cell_type": "code",
   "execution_count": 32,
   "metadata": {},
   "outputs": [],
   "source": [
    "def my_add(a, b):\n",
    "    try:\n",
    "        return a + b\n",
    "    except TypeError:\n",
    "        return None"
   ]
  },
  {
   "cell_type": "code",
   "execution_count": 33,
   "metadata": {},
   "outputs": [
    {
     "name": "stdout",
     "output_type": "stream",
     "text": [
      "Hello, World!\n",
      "42\n",
      "None\n"
     ]
    }
   ],
   "source": [
    "print(my_add('Hello, ', 'World!'))\n",
    "print(my_add(20, 22))\n",
    "print(my_add(5, 'stuff'))"
   ]
  },
  {
   "cell_type": "markdown",
   "metadata": {},
   "source": [
    "# [Logic Drills: Red and bumpy](https://www.codewars.com/kata/thinkful-logic-drills-red-and-bumpy)"
   ]
  },
  {
   "cell_type": "code",
   "execution_count": 34,
   "metadata": {},
   "outputs": [],
   "source": [
    "def color_probability(color, texture):\n",
    "    texture_total = 0\n",
    "    textures = {\n",
    "        'bumpy': {'red': 4, 'yellow': 2, 'green': 1},\n",
    "        'smooth': {'red': 1, 'yellow': 1, 'green': 1}\n",
    "    }\n",
    "    for key, val in textures[texture].items():\n",
    "        texture_total += val\n",
    "    return str(textures[texture][color] / texture_total)[:4]"
   ]
  },
  {
   "cell_type": "code",
   "execution_count": 35,
   "metadata": {},
   "outputs": [
    {
     "name": "stdout",
     "output_type": "stream",
     "text": [
      "0.57\n"
     ]
    }
   ],
   "source": [
    "print(color_probability('red', 'bumpy'))"
   ]
  },
  {
   "cell_type": "markdown",
   "metadata": {},
   "source": [
    "# [Logic Drills: Hacking p-hackers](https://www.codewars.com/kata/thinkful-logic-drills-hacking-p-hackers)"
   ]
  },
  {
   "cell_type": "code",
   "execution_count": 36,
   "metadata": {},
   "outputs": [],
   "source": [
    "def categorize_study(p_value, requirements):\n",
    "    bs_factor = 2 ** (6 - requirements)\n",
    "    product = p_value * bs_factor\n",
    "    if product >= 0.15:\n",
    "        return \"Pants on fire\"\n",
    "    elif (0.15 > product >= 0.05) or (0.05 > product and requirements == 0):\n",
    "        return \"Needs review\"\n",
    "    elif product < 0.05:\n",
    "        return \"Fine\""
   ]
  },
  {
   "cell_type": "code",
   "execution_count": 37,
   "metadata": {},
   "outputs": [
    {
     "name": "stdout",
     "output_type": "stream",
     "text": [
      "Needs review\n"
     ]
    }
   ],
   "source": [
    "print(categorize_study(0.0001, 0))"
   ]
  },
  {
   "cell_type": "markdown",
   "metadata": {},
   "source": [
    "# [List Drills: Longest word](https://www.codewars.com/kata/thinkful-list-drills-longest-word)"
   ]
  },
  {
   "cell_type": "code",
   "execution_count": 38,
   "metadata": {},
   "outputs": [],
   "source": [
    "def longest(words):\n",
    "    return max([len(x) for x in words])"
   ]
  },
  {
   "cell_type": "code",
   "execution_count": 39,
   "metadata": {},
   "outputs": [
    {
     "name": "stdout",
     "output_type": "stream",
     "text": [
      "7\n"
     ]
    }
   ],
   "source": [
    "list_of_words = ['simple', 'is', 'better', 'than', 'complex']\n",
    "print(longest(list_of_words))"
   ]
  },
  {
   "cell_type": "markdown",
   "metadata": {},
   "source": [
    "# [List and Loop Drills: Grade calculator](https://www.codewars.com/kata/thinkful-list-and-loop-drills-grade-calculator)"
   ]
  },
  {
   "cell_type": "code",
   "execution_count": 40,
   "metadata": {},
   "outputs": [],
   "source": [
    "def calculate_grade(scores):\n",
    "    mean_score = sum(scores) / len(scores)\n",
    "    grades = {\n",
    "        'A': 90 <= mean_score <= 100,\n",
    "        'B': 80 <= mean_score < 90,\n",
    "        'C': 70 <= mean_score < 80,\n",
    "        'D': 60 <= mean_score < 70,\n",
    "        'F': mean_score < 60\n",
    "    }\n",
    "    for grade, grade_range in grades.items():\n",
    "        if grade_range == True:\n",
    "            return grade"
   ]
  },
  {
   "cell_type": "code",
   "execution_count": 41,
   "metadata": {},
   "outputs": [
    {
     "name": "stdout",
     "output_type": "stream",
     "text": [
      "C\n"
     ]
    }
   ],
   "source": [
    "print(calculate_grade([50, 60, 70, 80, 90]))"
   ]
  },
  {
   "cell_type": "markdown",
   "metadata": {},
   "source": [
    "# [List and Loop Drills: Lists of lists](https://www.codewars.com/kata/thinkful-list-and-loop-drills-lists-of-lists)"
   ]
  },
  {
   "cell_type": "code",
   "execution_count": 42,
   "metadata": {},
   "outputs": [],
   "source": [
    "from functools import reduce\n",
    "\n",
    "def process_data(data):\n",
    "    return reduce(lambda a, b: a * b, [x[0]-x[1] for x in data])"
   ]
  },
  {
   "cell_type": "code",
   "execution_count": 43,
   "metadata": {},
   "outputs": [
    {
     "name": "stdout",
     "output_type": "stream",
     "text": [
      "3\n"
     ]
    }
   ],
   "source": [
    "data = [[2, 5], [3, 4], [8, 7]]\n",
    "print(process_data(data))"
   ]
  },
  {
   "cell_type": "markdown",
   "metadata": {},
   "source": [
    "# [List and Loop Drills: Inverse Slicer](https://www.codewars.com/kata/thinkful-list-and-loop-drills-inverse-slicer)"
   ]
  },
  {
   "cell_type": "code",
   "execution_count": 44,
   "metadata": {},
   "outputs": [],
   "source": [
    "def inverse_slice(items, a, b):\n",
    "    return items[:a] + items[b:]"
   ]
  },
  {
   "cell_type": "code",
   "execution_count": 45,
   "metadata": {},
   "outputs": [
    {
     "name": "stdout",
     "output_type": "stream",
     "text": [
      "[12, 14, 55, 24]\n"
     ]
    }
   ],
   "source": [
    "print(inverse_slice([12, 14, 63, 72, 55, 24], 2, 4))"
   ]
  },
  {
   "cell_type": "markdown",
   "metadata": {},
   "source": [
    "# [Dictionary Drills: Order filler](https://www.codewars.com/kata/thinkful-dictionary-drills-order-filler/)"
   ]
  },
  {
   "cell_type": "code",
   "execution_count": 46,
   "metadata": {},
   "outputs": [],
   "source": [
    "def fillable(stock, merch, n):\n",
    "    return merch in stock and stock[merch] >= n"
   ]
  },
  {
   "cell_type": "code",
   "execution_count": 47,
   "metadata": {},
   "outputs": [
    {
     "name": "stdout",
     "output_type": "stream",
     "text": [
      "False\n"
     ]
    }
   ],
   "source": [
    "stocked = {\n",
    "    'apples': 58,\n",
    "    'oranges': 42,\n",
    "    'pears': 12\n",
    "}\n",
    "print(fillable(stocked, 'oranges', 43))"
   ]
  },
  {
   "cell_type": "markdown",
   "metadata": {},
   "source": [
    "# [Dictionary Drills: User contacts](https://www.codewars.com/kata/thinkful-dictionary-drills-user-contacts)"
   ]
  },
  {
   "cell_type": "code",
   "execution_count": 48,
   "metadata": {},
   "outputs": [],
   "source": [
    "def user_contacts(data):\n",
    "    return {x[0]:x[1] for x in [[y[0], None] if len(y) == 1 else y for y in data]}"
   ]
  },
  {
   "cell_type": "code",
   "execution_count": 49,
   "metadata": {},
   "outputs": [
    {
     "name": "stdout",
     "output_type": "stream",
     "text": [
      "{'Grae Drake': 98110, 'Bethany Kok': None, 'Alex Nussbacher': 94101, 'Darrell Silver': 11201}\n"
     ]
    }
   ],
   "source": [
    "contacts = [[\"Grae Drake\", 98110], [\"Bethany Kok\"], [\"Alex Nussbacher\", 94101], [\"Darrell Silver\", 11201]]\n",
    "print(user_contacts(contacts))"
   ]
  },
  {
   "cell_type": "markdown",
   "metadata": {},
   "source": [
    "# [Dictionary Drills: Multiple Modes](https://www.codewars.com/kata/thinkful-dictionary-drills-multiple-modes)"
   ]
  },
  {
   "cell_type": "code",
   "execution_count": 50,
   "metadata": {},
   "outputs": [],
   "source": [
    "from collections import Counter\n",
    "\n",
    "def modes(data):\n",
    "    data_listed = list(data) if type(data) is str else data\n",
    "    data_listed = list(data[0]) if type(data) is list and type(data[0]) is str else data\n",
    "    count_dict = Counter(data_listed)\n",
    "    max_count = max(count_dict.values())\n",
    "    modes = []\n",
    "    for item, count in count_dict.items():\n",
    "        if count == max_count:\n",
    "            modes.append(item)\n",
    "    if set(modes) == set(data_listed):\n",
    "        modes = []\n",
    "    else:\n",
    "        modes.sort()\n",
    "    return modes"
   ]
  },
  {
   "cell_type": "code",
   "execution_count": 51,
   "metadata": {},
   "outputs": [
    {
     "name": "stdout",
     "output_type": "stream",
     "text": [
      "['o', 't']\n",
      "[3]\n",
      "[]\n"
     ]
    }
   ],
   "source": [
    "print(modes('tomato'))\n",
    "print(modes([1, 3, 3, 7]))\n",
    "print(modes(['redder']))"
   ]
  },
  {
   "cell_type": "markdown",
   "metadata": {},
   "source": [
    "# [Object Drills: Vectors](https://www.codewars.com/kata/thinkful-object-drills-vectors)"
   ]
  },
  {
   "cell_type": "code",
   "execution_count": 52,
   "metadata": {},
   "outputs": [],
   "source": [
    "class Vector(object):\n",
    "    \n",
    "    def __init__(self, x, y):\n",
    "        self.x = x\n",
    "        self.y = y\n",
    "        \n",
    "    def add(self, OtherVector):\n",
    "        NewVector = Vector(self.x + OtherVector.x, self.y + OtherVector.y)\n",
    "        return NewVector"
   ]
  },
  {
   "cell_type": "code",
   "execution_count": 53,
   "metadata": {},
   "outputs": [
    {
     "name": "stdout",
     "output_type": "stream",
     "text": [
      "4\n",
      "6\n"
     ]
    }
   ],
   "source": [
    "a = Vector(3, 4)\n",
    "b = Vector(1, 2)\n",
    "c = a.add(b)\n",
    "print(c.x)\n",
    "print(c.y)"
   ]
  },
  {
   "cell_type": "markdown",
   "metadata": {},
   "source": [
    "# [Object Drills: Puzzlebox](https://www.codewars.com/kata/thinkful-object-drills-puzzlebox)"
   ]
  },
  {
   "cell_type": "code",
   "execution_count": 54,
   "metadata": {},
   "outputs": [],
   "source": [
    "def answer(puzzlebox):\n",
    "    return 42"
   ]
  },
  {
   "cell_type": "code",
   "execution_count": 55,
   "metadata": {},
   "outputs": [],
   "source": [
    "# should be executed from within the codewars website challenge"
   ]
  },
  {
   "cell_type": "markdown",
   "metadata": {},
   "source": [
    "# [Object Drills: Quarks](https://www.codewars.com/kata/thinkful-object-drills-quarks)"
   ]
  },
  {
   "cell_type": "code",
   "execution_count": 56,
   "metadata": {},
   "outputs": [],
   "source": [
    "class Quark(object):\n",
    "\n",
    "    def __init__(self, color, flavor):\n",
    "        if color.lower() in ['red', 'blue', 'green']:\n",
    "            self.color = color\n",
    "        if flavor.lower() in ['up', 'down', 'strange', 'charm', 'top', 'bottom']:\n",
    "            self.flavor = flavor\n",
    "\n",
    "    baryon_number = 1 / 3\n",
    "\n",
    "    def interact(self, other_quark):\n",
    "        self.color, other_quark.color = other_quark.color, self.color"
   ]
  },
  {
   "cell_type": "code",
   "execution_count": 57,
   "metadata": {},
   "outputs": [
    {
     "data": {
      "text/plain": [
       "'red'"
      ]
     },
     "execution_count": 57,
     "metadata": {},
     "output_type": "execute_result"
    }
   ],
   "source": [
    "q1 = Quark('red', 'up')\n",
    "q1.color"
   ]
  },
  {
   "cell_type": "code",
   "execution_count": 58,
   "metadata": {},
   "outputs": [
    {
     "data": {
      "text/plain": [
       "'up'"
      ]
     },
     "execution_count": 58,
     "metadata": {},
     "output_type": "execute_result"
    }
   ],
   "source": [
    "q1.flavor"
   ]
  },
  {
   "cell_type": "code",
   "execution_count": 59,
   "metadata": {},
   "outputs": [
    {
     "data": {
      "text/plain": [
       "'blue'"
      ]
     },
     "execution_count": 59,
     "metadata": {},
     "output_type": "execute_result"
    }
   ],
   "source": [
    "q2 = Quark('blue', 'strange')\n",
    "q2.color"
   ]
  },
  {
   "cell_type": "code",
   "execution_count": 60,
   "metadata": {},
   "outputs": [
    {
     "data": {
      "text/plain": [
       "'strange'"
      ]
     },
     "execution_count": 60,
     "metadata": {},
     "output_type": "execute_result"
    }
   ],
   "source": [
    "q2.flavor"
   ]
  },
  {
   "cell_type": "code",
   "execution_count": 61,
   "metadata": {},
   "outputs": [
    {
     "data": {
      "text/plain": [
       "0.3333333333333333"
      ]
     },
     "execution_count": 61,
     "metadata": {},
     "output_type": "execute_result"
    }
   ],
   "source": [
    "q2.baryon_number"
   ]
  },
  {
   "cell_type": "code",
   "execution_count": 62,
   "metadata": {},
   "outputs": [],
   "source": [
    "q1.interact(q2)"
   ]
  },
  {
   "cell_type": "code",
   "execution_count": 63,
   "metadata": {},
   "outputs": [
    {
     "data": {
      "text/plain": [
       "'blue'"
      ]
     },
     "execution_count": 63,
     "metadata": {},
     "output_type": "execute_result"
    }
   ],
   "source": [
    "q1.color"
   ]
  },
  {
   "cell_type": "code",
   "execution_count": 64,
   "metadata": {},
   "outputs": [
    {
     "data": {
      "text/plain": [
       "'red'"
      ]
     },
     "execution_count": 64,
     "metadata": {},
     "output_type": "execute_result"
    }
   ],
   "source": [
    "q2.color"
   ]
  },
  {
   "cell_type": "code",
   "execution_count": 65,
   "metadata": {},
   "outputs": [],
   "source": [
    "# end"
   ]
  },
  {
   "cell_type": "code",
   "execution_count": null,
   "metadata": {},
   "outputs": [],
   "source": []
  }
 ],
 "metadata": {
  "kernelspec": {
   "display_name": "Python 3",
   "language": "python",
   "name": "python3"
  },
  "language_info": {
   "codemirror_mode": {
    "name": "ipython",
    "version": 3
   },
   "file_extension": ".py",
   "mimetype": "text/x-python",
   "name": "python",
   "nbconvert_exporter": "python",
   "pygments_lexer": "ipython3",
   "version": "3.6.6"
  }
 },
 "nbformat": 4,
 "nbformat_minor": 2
}
