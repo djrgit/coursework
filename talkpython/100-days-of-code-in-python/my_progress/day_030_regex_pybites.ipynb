{
 "cells": [
  {
   "cell_type": "code",
   "execution_count": 1,
   "metadata": {},
   "outputs": [],
   "source": [
    "import re"
   ]
  },
  {
   "cell_type": "code",
   "execution_count": 2,
   "metadata": {},
   "outputs": [],
   "source": [
    "COURSE = ('Introduction 1 Lecture 01:47'\n",
    "          'The Basics 4 Lectures 32:03'\n",
    "          'Getting Technical!  4 Lectures 41:51'\n",
    "          'Challenge 2 Lectures 27:48'\n",
    "          'Afterword 1 Lecture 05:02')\n",
    "TWEET = ('New PyBites article: Module of the Week - Requests-cache '\n",
    "         'for Repeated API Calls - http://pybit.es/requests-cache.html '\n",
    "         '#python #APIs')\n",
    "HTML = ('<p>pybites != greedy</p>'\n",
    "        '<p>not the same can be said REgarding ...</p>')"
   ]
  },
  {
   "cell_type": "code",
   "execution_count": 3,
   "metadata": {},
   "outputs": [],
   "source": [
    "def extract_course_times(course=COURSE):\n",
    "    \"\"\"Return the course timings from the passed in\n",
    "       course string. Timings are in mm:ss (minutes:seconds)\n",
    "       format, so taking COURSE above you would extract:\n",
    "       ['01:47', '32:03', '41:51', '27:48', '05:02']\n",
    "       Return this list.\n",
    "    \"\"\"\n",
    "    pat = r'\\d{2}:\\d{2}'\n",
    "    return re.findall(pat, course)"
   ]
  },
  {
   "cell_type": "code",
   "execution_count": 4,
   "metadata": {},
   "outputs": [
    {
     "data": {
      "text/plain": [
       "['01:47', '32:03', '41:51', '27:48', '05:02']"
      ]
     },
     "execution_count": 4,
     "metadata": {},
     "output_type": "execute_result"
    }
   ],
   "source": [
    "extract_course_times()"
   ]
  },
  {
   "cell_type": "code",
   "execution_count": 5,
   "metadata": {},
   "outputs": [],
   "source": [
    "def get_all_hashtags_and_links(tweet=TWEET):\n",
    "    \"\"\"Get all hashtags and links from the tweet text\n",
    "       that is passed into this function. So for TWEET\n",
    "       above you need to extract the following list:\n",
    "       ['http://pybit.es/requests-cache.html',\n",
    "        '#python',\n",
    "        '#APIs']\n",
    "       Return this list.\n",
    "    \"\"\"\n",
    "    pat = r'((?:#|http)\\S+)'\n",
    "    return re.findall(pat, tweet)"
   ]
  },
  {
   "cell_type": "code",
   "execution_count": 6,
   "metadata": {},
   "outputs": [
    {
     "data": {
      "text/plain": [
       "['http://pybit.es/requests-cache.html', '#python', '#APIs']"
      ]
     },
     "execution_count": 6,
     "metadata": {},
     "output_type": "execute_result"
    }
   ],
   "source": [
    "get_all_hashtags_and_links()"
   ]
  },
  {
   "cell_type": "code",
   "execution_count": 7,
   "metadata": {},
   "outputs": [],
   "source": [
    "def match_first_paragraph(html=HTML):\n",
    "    \"\"\"Extract the first paragraph of the passed in\n",
    "       html, so for HTML above this would be:\n",
    "       'pybites != greedy' (= content of first paragraph).\n",
    "       Return this string.\n",
    "    \"\"\"\n",
    "    pat = r'(?:<p>)(.*?)(?:</p>)'\n",
    "    return re.findall(pat, html)[0]"
   ]
  },
  {
   "cell_type": "code",
   "execution_count": 8,
   "metadata": {},
   "outputs": [
    {
     "data": {
      "text/plain": [
       "'pybites != greedy'"
      ]
     },
     "execution_count": 8,
     "metadata": {},
     "output_type": "execute_result"
    }
   ],
   "source": [
    "match_first_paragraph()"
   ]
  },
  {
   "cell_type": "code",
   "execution_count": null,
   "metadata": {},
   "outputs": [],
   "source": []
  }
 ],
 "metadata": {
  "kernelspec": {
   "display_name": "Python 3",
   "language": "python",
   "name": "python3"
  },
  "language_info": {
   "codemirror_mode": {
    "name": "ipython",
    "version": 3
   },
   "file_extension": ".py",
   "mimetype": "text/x-python",
   "name": "python",
   "nbconvert_exporter": "python",
   "pygments_lexer": "ipython3",
   "version": "3.8.5"
  }
 },
 "nbformat": 4,
 "nbformat_minor": 4
}
