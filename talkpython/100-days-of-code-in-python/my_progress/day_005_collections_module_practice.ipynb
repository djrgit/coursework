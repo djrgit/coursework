{
 "cells": [
  {
   "cell_type": "code",
   "execution_count": 1,
   "metadata": {},
   "outputs": [],
   "source": [
    "from collections import Counter\n",
    "from collections import defaultdict\n",
    "from collections import namedtuple\n",
    "\n",
    "import numpy as np\n",
    "import pandas as pd"
   ]
  },
  {
   "cell_type": "code",
   "execution_count": 2,
   "metadata": {},
   "outputs": [],
   "source": [
    "data = 'https://raw.githubusercontent.com/pybites/challenges/solutions/13/movie_metadata.csv'\n",
    "movies = pd.read_csv(data)"
   ]
  },
  {
   "cell_type": "code",
   "execution_count": 3,
   "metadata": {},
   "outputs": [],
   "source": [
    "director_movies = movies[['director_name','movie_title','title_year','imdb_score']].copy()\n",
    "director_movies.rename(columns={'movie_title':'title',\n",
    "                                'title_year':'year',\n",
    "                                'imdb_score':'score'}, inplace=True)"
   ]
  },
  {
   "cell_type": "code",
   "execution_count": 4,
   "metadata": {},
   "outputs": [
    {
     "name": "stdout",
     "output_type": "stream",
     "text": [
      "<class 'pandas.core.frame.DataFrame'>\n",
      "RangeIndex: 5043 entries, 0 to 5042\n",
      "Data columns (total 4 columns):\n",
      "director_name    4939 non-null object\n",
      "title            5043 non-null object\n",
      "year             4935 non-null float64\n",
      "score            5043 non-null float64\n",
      "dtypes: float64(2), object(2)\n",
      "memory usage: 157.7+ KB\n"
     ]
    }
   ],
   "source": [
    "director_movies.info()"
   ]
  },
  {
   "cell_type": "code",
   "execution_count": 5,
   "metadata": {},
   "outputs": [],
   "source": [
    "director_movies.dropna(inplace=True)"
   ]
  },
  {
   "cell_type": "code",
   "execution_count": 6,
   "metadata": {},
   "outputs": [],
   "source": [
    "Movie = namedtuple('Movie',' '.join(director_movies.columns[1:]))\n",
    "directors = defaultdict(list)"
   ]
  },
  {
   "cell_type": "code",
   "execution_count": 7,
   "metadata": {},
   "outputs": [],
   "source": [
    "for row in director_movies.itertuples():\n",
    "\n",
    "    title = row[2].replace('\\xa0', '')\n",
    "    \n",
    "    year = None\n",
    "    try:\n",
    "        year = int(float(str(row[3])))\n",
    "    except ValueError:\n",
    "        year = np.nan\n",
    "    \n",
    "    m = Movie(title=title, year=year, score=row[4])\n",
    "    directors[row[1]].append(m)"
   ]
  },
  {
   "cell_type": "code",
   "execution_count": 8,
   "metadata": {},
   "outputs": [
    {
     "data": {
      "text/plain": [
       "[Movie(title='The Dark Knight Rises', year=2012, score=8.5),\n",
       " Movie(title='The Dark Knight', year=2008, score=9.0),\n",
       " Movie(title='Interstellar', year=2014, score=8.6),\n",
       " Movie(title='Inception', year=2010, score=8.8),\n",
       " Movie(title='Batman Begins', year=2005, score=8.3),\n",
       " Movie(title='Insomnia', year=2002, score=7.2),\n",
       " Movie(title='The Prestige', year=2006, score=8.5),\n",
       " Movie(title='Memento', year=2000, score=8.5)]"
      ]
     },
     "execution_count": 8,
     "metadata": {},
     "output_type": "execute_result"
    }
   ],
   "source": [
    "# Christopher Nolan movies\n",
    "film_director = 'Christopher Nolan'\n",
    "directors[film_director]"
   ]
  },
  {
   "cell_type": "code",
   "execution_count": 9,
   "metadata": {},
   "outputs": [
    {
     "data": {
      "text/plain": [
       "[('Steven Spielberg', 26),\n",
       " ('Woody Allen', 22),\n",
       " ('Martin Scorsese', 20),\n",
       " ('Clint Eastwood', 20),\n",
       " ('Ridley Scott', 17)]"
      ]
     },
     "execution_count": 9,
     "metadata": {},
     "output_type": "execute_result"
    }
   ],
   "source": [
    "# Directors with the most movies\n",
    "counter = Counter()\n",
    "for director, movies in directors.items():\n",
    "    counter[director] += len(movies)\n",
    "    \n",
    "counter.most_common(5)"
   ]
  },
  {
   "cell_type": "code",
   "execution_count": null,
   "metadata": {},
   "outputs": [],
   "source": []
  }
 ],
 "metadata": {
  "kernelspec": {
   "display_name": "Python 3",
   "language": "python",
   "name": "python3"
  },
  "language_info": {
   "codemirror_mode": {
    "name": "ipython",
    "version": 3
   },
   "file_extension": ".py",
   "mimetype": "text/x-python",
   "name": "python",
   "nbconvert_exporter": "python",
   "pygments_lexer": "ipython3",
   "version": "3.6.8"
  }
 },
 "nbformat": 4,
 "nbformat_minor": 2
}
