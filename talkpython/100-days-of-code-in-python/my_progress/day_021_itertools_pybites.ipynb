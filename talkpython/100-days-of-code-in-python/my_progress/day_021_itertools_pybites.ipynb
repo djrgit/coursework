{
 "cells": [
  {
   "cell_type": "code",
   "execution_count": 5,
   "metadata": {},
   "outputs": [],
   "source": [
    "# PyBite #17"
   ]
  },
  {
   "cell_type": "code",
   "execution_count": 6,
   "metadata": {},
   "outputs": [],
   "source": [
    "from itertools import combinations, permutations"
   ]
  },
  {
   "cell_type": "code",
   "execution_count": 7,
   "metadata": {},
   "outputs": [],
   "source": [
    "def friends_teams(friend_list, team_size=2, order_does_matter=False):\n",
    "    if order_does_matter:\n",
    "        return list(permutations(friend_list, team_size))\n",
    "    else:\n",
    "        return list(combinations(friend_list, team_size))"
   ]
  },
  {
   "cell_type": "code",
   "execution_count": null,
   "metadata": {},
   "outputs": [],
   "source": []
  },
  {
   "cell_type": "code",
   "execution_count": 8,
   "metadata": {},
   "outputs": [],
   "source": [
    "# PyBite #64"
   ]
  },
  {
   "cell_type": "code",
   "execution_count": 9,
   "metadata": {},
   "outputs": [],
   "source": [
    "import itertools\n",
    "\n",
    "names = 'Tim Bob Julian Carmen Sofia Mike Kim Andre'.split()\n",
    "locations = 'DE ES AUS NL BR US'.split()\n",
    "confirmed = [False, True, True, False, True]\n",
    "\n",
    "\n",
    "def get_attendees():\n",
    "    for participant in itertools.zip_longest(names, locations, confirmed, fillvalue='-'):\n",
    "        print(participant)"
   ]
  },
  {
   "cell_type": "code",
   "execution_count": 10,
   "metadata": {},
   "outputs": [
    {
     "name": "stdout",
     "output_type": "stream",
     "text": [
      "('Tim', 'DE', False)\n",
      "('Bob', 'ES', True)\n",
      "('Julian', 'AUS', True)\n",
      "('Carmen', 'NL', False)\n",
      "('Sofia', 'BR', True)\n",
      "('Mike', 'US', '-')\n",
      "('Kim', '-', '-')\n",
      "('Andre', '-', '-')\n"
     ]
    }
   ],
   "source": [
    "get_attendees()"
   ]
  },
  {
   "cell_type": "code",
   "execution_count": null,
   "metadata": {},
   "outputs": [],
   "source": []
  },
  {
   "cell_type": "code",
   "execution_count": 11,
   "metadata": {},
   "outputs": [],
   "source": [
    "# PyBite #65"
   ]
  },
  {
   "cell_type": "code",
   "execution_count": 13,
   "metadata": {},
   "outputs": [],
   "source": [
    "from itertools import chain, permutations\n",
    "import os\n",
    "import urllib.request\n",
    "\n",
    "# PREWORK\n",
    "TMP = os.getenv(\"TMP\", \"/tmp\")\n",
    "DICT = 'dictionary.txt'\n",
    "DICTIONARY = os.path.join(TMP, DICT)\n",
    "urllib.request.urlretrieve(\n",
    "    f'https://bites-data.s3.us-east-2.amazonaws.com/{DICT}',\n",
    "    DICTIONARY\n",
    ")\n",
    "\n",
    "with open(DICTIONARY) as f:\n",
    "    dictionary = set([word.strip().lower() for word in f.read().split()])\n",
    "\n",
    "\n",
    "def get_possible_dict_words(draw):\n",
    "    \"\"\"Get all possible words from a draw (list of letters) which are\n",
    "       valid dictionary words. Use _get_permutations_draw and provided\n",
    "       dictionary\"\"\"\n",
    "    words = []\n",
    "    for word in _get_permutations_draw(draw):\n",
    "        if word in dictionary:\n",
    "            words.append(word)\n",
    "    return words\n",
    "    \n",
    "\n",
    "def _get_permutations_draw(draw):\n",
    "    \"\"\"Helper to get all permutations of a draw (list of letters), hint:\n",
    "       use itertools.permutations (order of letters matters)\"\"\"\n",
    "    lengths = list(range(1, len(''.join(draw))+1))\n",
    "    perms = [list(permutations(draw, l)) for l in lengths]\n",
    "    perms_chain = list(chain.from_iterable(perms))\n",
    "    perms_lower = [''.join(letters).lower() for letters in perms_chain]\n",
    "    return list(set(perms_lower))"
   ]
  },
  {
   "cell_type": "code",
   "execution_count": null,
   "metadata": {},
   "outputs": [],
   "source": []
  }
 ],
 "metadata": {
  "kernelspec": {
   "display_name": "Python 3",
   "language": "python",
   "name": "python3"
  },
  "language_info": {
   "codemirror_mode": {
    "name": "ipython",
    "version": 3
   },
   "file_extension": ".py",
   "mimetype": "text/x-python",
   "name": "python",
   "nbconvert_exporter": "python",
   "pygments_lexer": "ipython3",
   "version": "3.8.5"
  }
 },
 "nbformat": 4,
 "nbformat_minor": 4
}
