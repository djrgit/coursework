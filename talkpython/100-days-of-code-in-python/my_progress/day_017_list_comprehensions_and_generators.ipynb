{
 "cells": [
  {
   "cell_type": "code",
   "execution_count": 1,
   "metadata": {},
   "outputs": [],
   "source": [
    "import random"
   ]
  },
  {
   "cell_type": "code",
   "execution_count": 2,
   "metadata": {},
   "outputs": [],
   "source": [
    "NAMES = ['arnold schwarzenegger', 'alec baldwin', 'bob belderbos', \n",
    "         'julian sequeira', 'sandra bullock', 'keanu reeves', \n",
    "         'julbob pybites', 'bob belderbos', 'julian sequeira', \n",
    "         'al pacino', 'brad pitt', 'matt damon', 'brad pitt']"
   ]
  },
  {
   "cell_type": "code",
   "execution_count": 3,
   "metadata": {},
   "outputs": [],
   "source": [
    "cap_names = list(set([n.title() for n in NAMES]))"
   ]
  },
  {
   "cell_type": "code",
   "execution_count": 4,
   "metadata": {},
   "outputs": [
    {
     "name": "stdout",
     "output_type": "stream",
     "text": [
      "['Arnold Schwarzenegger', 'Keanu Reeves', 'Julbob Pybites', 'Brad Pitt', 'Al Pacino', 'Sandra Bullock', 'Alec Baldwin', 'Julian Sequeira', 'Bob Belderbos', 'Matt Damon']\n"
     ]
    }
   ],
   "source": [
    "print(cap_names)"
   ]
  },
  {
   "cell_type": "code",
   "execution_count": 5,
   "metadata": {},
   "outputs": [],
   "source": [
    "def gen_pairs():\n",
    "    for i in range(10):\n",
    "        copy = cap_names.copy()\n",
    "        name1 = copy.pop(copy.index(random.choice(copy))).split()[0]\n",
    "        name2 = copy.pop(copy.index(random.choice(copy))).split()[0]\n",
    "        print(f\"{name1} teams up with {name2}\")\n",
    "        yield"
   ]
  },
  {
   "cell_type": "code",
   "execution_count": 6,
   "metadata": {},
   "outputs": [],
   "source": [
    "pairs = gen_pairs()"
   ]
  },
  {
   "cell_type": "code",
   "execution_count": 7,
   "metadata": {},
   "outputs": [
    {
     "name": "stdout",
     "output_type": "stream",
     "text": [
      "Brad teams up with Julian\n",
      "Sandra teams up with Bob\n",
      "Brad teams up with Bob\n",
      "Al teams up with Julbob\n",
      "Al teams up with Sandra\n",
      "Julbob teams up with Al\n",
      "Julbob teams up with Bob\n",
      "Sandra teams up with Keanu\n",
      "Alec teams up with Matt\n",
      "Matt teams up with Bob\n"
     ]
    }
   ],
   "source": [
    "for _ in range(10):\n",
    "    next(pairs)"
   ]
  },
  {
   "cell_type": "code",
   "execution_count": null,
   "metadata": {},
   "outputs": [],
   "source": []
  }
 ],
 "metadata": {
  "kernelspec": {
   "display_name": "Python 3",
   "language": "python",
   "name": "python3"
  },
  "language_info": {
   "codemirror_mode": {
    "name": "ipython",
    "version": 3
   },
   "file_extension": ".py",
   "mimetype": "text/x-python",
   "name": "python",
   "nbconvert_exporter": "python",
   "pygments_lexer": "ipython3",
   "version": "3.8.5"
  }
 },
 "nbformat": 4,
 "nbformat_minor": 4
}
