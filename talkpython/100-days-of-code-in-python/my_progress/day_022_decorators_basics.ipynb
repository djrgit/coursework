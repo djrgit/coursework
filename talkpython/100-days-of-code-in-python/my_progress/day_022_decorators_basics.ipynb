{
 "cells": [
  {
   "cell_type": "code",
   "execution_count": 1,
   "metadata": {},
   "outputs": [],
   "source": [
    "# Decorators - Day 1"
   ]
  },
  {
   "cell_type": "code",
   "execution_count": 2,
   "metadata": {},
   "outputs": [],
   "source": [
    "from functools import wraps\n",
    "import time"
   ]
  },
  {
   "cell_type": "code",
   "execution_count": 3,
   "metadata": {},
   "outputs": [],
   "source": [
    "def mydecorator(function):\n",
    "    @wraps(function)\n",
    "    def wrapper(*args, **kwargs):\n",
    "        # do something before the original function is called\n",
    "        # call the passed in function\n",
    "        result = function(*args, **kwargs)\n",
    "        # do something after the original function call\n",
    "        return result\n",
    "    # return wrapper = decorated function\n",
    "    return wrapper"
   ]
  },
  {
   "cell_type": "code",
   "execution_count": 4,
   "metadata": {},
   "outputs": [],
   "source": [
    "@mydecorator\n",
    "def my_function(args):\n",
    "    pass"
   ]
  },
  {
   "cell_type": "code",
   "execution_count": 5,
   "metadata": {},
   "outputs": [],
   "source": [
    "def my_function(args):\n",
    "    pass\n",
    "\n",
    "my_function = mydecorator(my_function)"
   ]
  },
  {
   "cell_type": "code",
   "execution_count": 6,
   "metadata": {},
   "outputs": [],
   "source": [
    "# args & kwargs detour"
   ]
  },
  {
   "cell_type": "code",
   "execution_count": 7,
   "metadata": {},
   "outputs": [],
   "source": [
    "def get_profile(name, active=True, *sports, **awards):\n",
    "    print('Positional arguments (required): ', name)\n",
    "    print('Keyword arguments (not required, default values): ', active)\n",
    "    print('Arbitrary argument list (sports): ', sports)\n",
    "    print('Arbitrary keword argument dictionary (awards): ', awards)"
   ]
  },
  {
   "cell_type": "code",
   "execution_count": 8,
   "metadata": {},
   "outputs": [
    {
     "ename": "TypeError",
     "evalue": "get_profile() missing 1 required positional argument: 'name'",
     "output_type": "error",
     "traceback": [
      "\u001b[0;31m---------------------------------------------------------------------------\u001b[0m",
      "\u001b[0;31mTypeError\u001b[0m                                 Traceback (most recent call last)",
      "\u001b[0;32m<ipython-input-8-2ef2bb648fe3>\u001b[0m in \u001b[0;36m<module>\u001b[0;34m\u001b[0m\n\u001b[0;32m----> 1\u001b[0;31m \u001b[0mget_profile\u001b[0m\u001b[0;34m(\u001b[0m\u001b[0;34m)\u001b[0m\u001b[0;34m\u001b[0m\u001b[0;34m\u001b[0m\u001b[0m\n\u001b[0m",
      "\u001b[0;31mTypeError\u001b[0m: get_profile() missing 1 required positional argument: 'name'"
     ]
    }
   ],
   "source": [
    "get_profile()"
   ]
  },
  {
   "cell_type": "code",
   "execution_count": 9,
   "metadata": {},
   "outputs": [
    {
     "name": "stdout",
     "output_type": "stream",
     "text": [
      "Positional arguments (required):  dj\n",
      "Keyword arguments (not required, default values):  True\n",
      "Arbitrary argument list (sports):  ()\n",
      "Arbitrary keword argument dictionary (awards):  {}\n"
     ]
    }
   ],
   "source": [
    "get_profile('dj')"
   ]
  },
  {
   "cell_type": "code",
   "execution_count": 10,
   "metadata": {},
   "outputs": [
    {
     "name": "stdout",
     "output_type": "stream",
     "text": [
      "Positional arguments (required):  dj\n",
      "Keyword arguments (not required, default values):  False\n",
      "Arbitrary argument list (sports):  ()\n",
      "Arbitrary keword argument dictionary (awards):  {}\n"
     ]
    }
   ],
   "source": [
    "get_profile('dj', active=False)"
   ]
  },
  {
   "cell_type": "code",
   "execution_count": 11,
   "metadata": {},
   "outputs": [
    {
     "ename": "SyntaxError",
     "evalue": "positional argument follows keyword argument (<ipython-input-11-d061bc7ae686>, line 1)",
     "output_type": "error",
     "traceback": [
      "\u001b[0;36m  File \u001b[0;32m\"<ipython-input-11-d061bc7ae686>\"\u001b[0;36m, line \u001b[0;32m1\u001b[0m\n\u001b[0;31m    get_profile('dj', active=False, 'basketball', 'soccer')\u001b[0m\n\u001b[0m                                    ^\u001b[0m\n\u001b[0;31mSyntaxError\u001b[0m\u001b[0;31m:\u001b[0m positional argument follows keyword argument\n"
     ]
    }
   ],
   "source": [
    "get_profile('dj', active=False, 'basketball', 'soccer')"
   ]
  },
  {
   "cell_type": "code",
   "execution_count": 12,
   "metadata": {},
   "outputs": [
    {
     "name": "stdout",
     "output_type": "stream",
     "text": [
      "Positional arguments (required):  dj\n",
      "Keyword arguments (not required, default values):  False\n",
      "Arbitrary argument list (sports):  ('basketball', 'soccer')\n",
      "Arbitrary keword argument dictionary (awards):  {}\n"
     ]
    }
   ],
   "source": [
    "get_profile('dj', False, 'basketball', 'soccer')"
   ]
  },
  {
   "cell_type": "code",
   "execution_count": 13,
   "metadata": {},
   "outputs": [
    {
     "ename": "SyntaxError",
     "evalue": "positional argument follows keyword argument (<ipython-input-13-4ac0dbbb1d7a>, line 1)",
     "output_type": "error",
     "traceback": [
      "\u001b[0;36m  File \u001b[0;32m\"<ipython-input-13-4ac0dbbb1d7a>\"\u001b[0;36m, line \u001b[0;32m1\u001b[0m\n\u001b[0;31m    get_profile('dj', active=False, 'basketball', 'soccer',\u001b[0m\n\u001b[0m                                    ^\u001b[0m\n\u001b[0;31mSyntaxError\u001b[0m\u001b[0;31m:\u001b[0m positional argument follows keyword argument\n"
     ]
    }
   ],
   "source": [
    "get_profile('dj', active=False, 'basketball', 'soccer',\n",
    "            pythonista='special honor of the community', topcoder='2017 code camp')"
   ]
  },
  {
   "cell_type": "code",
   "execution_count": 14,
   "metadata": {},
   "outputs": [
    {
     "name": "stdout",
     "output_type": "stream",
     "text": [
      "Positional arguments (required):  dj\n",
      "Keyword arguments (not required, default values):  False\n",
      "Arbitrary argument list (sports):  ('basketball', 'soccer')\n",
      "Arbitrary keword argument dictionary (awards):  {'pythonista': 'special honor of the community', 'topcoder': '2017 code camp'}\n"
     ]
    }
   ],
   "source": [
    "get_profile('dj', False, 'basketball', 'soccer',\n",
    "            pythonista='special honor of the community', topcoder='2017 code camp')"
   ]
  },
  {
   "cell_type": "code",
   "execution_count": 15,
   "metadata": {},
   "outputs": [],
   "source": [
    "def show_args(function):\n",
    "    @wraps(function)\n",
    "    def wrapper(*args, **kwargs):\n",
    "        print('hi from decorator - args:')\n",
    "        print(args)\n",
    "        result = function(*args, **kwargs)\n",
    "        print('hi again from decorator - kwargs:')\n",
    "        print(kwargs)\n",
    "        return result\n",
    "    # return wrapper as a decorated function\n",
    "    return wrapper"
   ]
  },
  {
   "cell_type": "code",
   "execution_count": 16,
   "metadata": {},
   "outputs": [],
   "source": [
    "@show_args\n",
    "def get_profile(name, active=True, *sports, **awards):\n",
    "    print('\\n\\thi from the get_profile function\\n')"
   ]
  },
  {
   "cell_type": "code",
   "execution_count": 17,
   "metadata": {},
   "outputs": [
    {
     "name": "stdout",
     "output_type": "stream",
     "text": [
      "hi from decorator - args:\n",
      "('dj', True, 'baseball', 'muay thai')\n",
      "\n",
      "\thi from the get_profile function\n",
      "\n",
      "hi again from decorator - kwargs:\n",
      "{'pythonista': 'intermediate', 'writing': 'exemplary writing'}\n"
     ]
    }
   ],
   "source": [
    "get_profile('dj', True, 'baseball', 'muay thai',\n",
    "            pythonista='intermediate', writing='exemplary writing')"
   ]
  },
  {
   "cell_type": "code",
   "execution_count": null,
   "metadata": {},
   "outputs": [],
   "source": []
  },
  {
   "cell_type": "code",
   "execution_count": 18,
   "metadata": {},
   "outputs": [],
   "source": [
    "def timeit(func):\n",
    "    '''Decorator to time a function'''\n",
    "    @wraps(func)\n",
    "    def wrapper(*args, **kwargs):\n",
    "        \n",
    "        # before calling the decorated function\n",
    "        print('== starting timer')\n",
    "        start = time.time()\n",
    "        \n",
    "        # call the decorated function\n",
    "        func(*args, **kwargs)\n",
    "        \n",
    "        # after calling the decorated function\n",
    "        end = time.time()\n",
    "        print(f'== {func.__name__} took {float(end-start)} seconds to complete')\n",
    "        \n",
    "    return wrapper"
   ]
  },
  {
   "cell_type": "code",
   "execution_count": null,
   "metadata": {},
   "outputs": [],
   "source": []
  },
  {
   "cell_type": "code",
   "execution_count": 19,
   "metadata": {},
   "outputs": [],
   "source": [
    "def generate_report():\n",
    "    '''Function to generate revenue report'''''\n",
    "    time.sleep(2)\n",
    "    print('(actual function) Done, report links...')"
   ]
  },
  {
   "cell_type": "code",
   "execution_count": 20,
   "metadata": {},
   "outputs": [
    {
     "name": "stdout",
     "output_type": "stream",
     "text": [
      "(actual function) Done, report links...\n"
     ]
    }
   ],
   "source": [
    "generate_report()"
   ]
  },
  {
   "cell_type": "code",
   "execution_count": null,
   "metadata": {},
   "outputs": [],
   "source": []
  },
  {
   "cell_type": "code",
   "execution_count": 21,
   "metadata": {},
   "outputs": [],
   "source": [
    "@timeit\n",
    "def generate_report():\n",
    "    '''Function to generate revenue report'''''\n",
    "    time.sleep(2)\n",
    "    print('(actual function) Done, report links...')"
   ]
  },
  {
   "cell_type": "code",
   "execution_count": 22,
   "metadata": {},
   "outputs": [
    {
     "name": "stdout",
     "output_type": "stream",
     "text": [
      "== starting timer\n",
      "(actual function) Done, report links...\n",
      "== generate_report took 2.002268075942993 seconds to complete\n"
     ]
    }
   ],
   "source": [
    "generate_report()"
   ]
  },
  {
   "cell_type": "code",
   "execution_count": 23,
   "metadata": {},
   "outputs": [
    {
     "data": {
      "text/plain": [
       "'Function to generate revenue report'"
      ]
     },
     "execution_count": 23,
     "metadata": {},
     "output_type": "execute_result"
    }
   ],
   "source": [
    "generate_report.__doc__"
   ]
  },
  {
   "cell_type": "code",
   "execution_count": null,
   "metadata": {},
   "outputs": [],
   "source": []
  },
  {
   "cell_type": "code",
   "execution_count": 24,
   "metadata": {},
   "outputs": [],
   "source": [
    "def print_args(func):\n",
    "    '''Decorator to print function arguments'''\n",
    "    @wraps(func)\n",
    "    def wrapper(*args, **kwargs):\n",
    "        \n",
    "        # before\n",
    "        print()\n",
    "        print('*** args:')\n",
    "        for arg in args:\n",
    "            print(f'- {arg}')\n",
    "            \n",
    "        print('**** kwargs:')\n",
    "        for k, v in kwargs.items():\n",
    "            print(f'- {k}: {v}')\n",
    "        print()\n",
    "        \n",
    "        # call func\n",
    "        func(*args, **kwargs)\n",
    "    return wrapper"
   ]
  },
  {
   "cell_type": "code",
   "execution_count": 25,
   "metadata": {},
   "outputs": [],
   "source": [
    "def generate_report(*months, **parameters):\n",
    "    time.sleep(2)\n",
    "    print('(actual function) Done, report links ...')"
   ]
  },
  {
   "cell_type": "code",
   "execution_count": 26,
   "metadata": {},
   "outputs": [],
   "source": [
    "@timeit\n",
    "@print_args\n",
    "def generate_report(*months, **parameters):\n",
    "    time.sleep(2)\n",
    "    print('(actual function) Done, report links ...')"
   ]
  },
  {
   "cell_type": "code",
   "execution_count": 27,
   "metadata": {},
   "outputs": [],
   "source": [
    "parameters = dict(split_geos=True, include_suborgs=False, tax_rate=33)"
   ]
  },
  {
   "cell_type": "code",
   "execution_count": 28,
   "metadata": {},
   "outputs": [
    {
     "name": "stdout",
     "output_type": "stream",
     "text": [
      "== starting timer\n",
      "\n",
      "*** args:\n",
      "- October\n",
      "- November\n",
      "- December\n",
      "**** kwargs:\n",
      "- split_geos: True\n",
      "- include_suborgs: False\n",
      "- tax_rate: 33\n",
      "\n",
      "(actual function) Done, report links ...\n",
      "== generate_report took 2.0031213760375977 seconds to complete\n"
     ]
    }
   ],
   "source": [
    "generate_report('October', 'November', 'December', **parameters)"
   ]
  },
  {
   "cell_type": "code",
   "execution_count": null,
   "metadata": {},
   "outputs": [],
   "source": []
  }
 ],
 "metadata": {
  "kernelspec": {
   "display_name": "Python 3",
   "language": "python",
   "name": "python3"
  },
  "language_info": {
   "codemirror_mode": {
    "name": "ipython",
    "version": 3
   },
   "file_extension": ".py",
   "mimetype": "text/x-python",
   "name": "python",
   "nbconvert_exporter": "python",
   "pygments_lexer": "ipython3",
   "version": "3.8.5"
  }
 },
 "nbformat": 4,
 "nbformat_minor": 4
}
