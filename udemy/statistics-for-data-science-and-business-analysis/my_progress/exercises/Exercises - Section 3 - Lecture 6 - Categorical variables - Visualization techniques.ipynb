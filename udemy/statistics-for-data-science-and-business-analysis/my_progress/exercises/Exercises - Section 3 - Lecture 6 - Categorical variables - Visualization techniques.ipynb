{
 "cells": [
  {
   "cell_type": "markdown",
   "metadata": {},
   "source": [
    "# Import relevant modules"
   ]
  },
  {
   "cell_type": "code",
   "execution_count": 1,
   "metadata": {},
   "outputs": [],
   "source": [
    "%matplotlib inline\n",
    "import numpy as np\n",
    "import pandas as pd\n",
    "import matplotlib.pyplot as plt\n",
    "import re"
   ]
  },
  {
   "cell_type": "markdown",
   "metadata": {},
   "source": [
    "## Create file object"
   ]
  },
  {
   "cell_type": "code",
   "execution_count": 2,
   "metadata": {},
   "outputs": [],
   "source": [
    "file = '6. Categorical variables. Visualization techniques_exercise.xlsx'"
   ]
  },
  {
   "cell_type": "code",
   "execution_count": 3,
   "metadata": {},
   "outputs": [],
   "source": [
    "xlsx = pd.ExcelFile(file)"
   ]
  },
  {
   "cell_type": "markdown",
   "metadata": {},
   "source": [
    "## Display all Excel worksheet names in workbook"
   ]
  },
  {
   "cell_type": "code",
   "execution_count": 4,
   "metadata": {},
   "outputs": [
    {
     "name": "stdout",
     "output_type": "stream",
     "text": [
      "Worksheet Names: ['Frequency distribution table', 'Bar chart', 'Pie chart', 'Pareto diagram']\n"
     ]
    }
   ],
   "source": [
    "print(\"Worksheet Names:\", xlsx.sheet_names)"
   ]
  },
  {
   "cell_type": "markdown",
   "metadata": {},
   "source": [
    "## Textual data for analysis"
   ]
  },
  {
   "cell_type": "code",
   "execution_count": 5,
   "metadata": {},
   "outputs": [],
   "source": [
    "text = r'You have sold 12,327 ice creams in New York; 17,129 in LA and 19,923 in San Francisco.'"
   ]
  },
  {
   "cell_type": "markdown",
   "metadata": {},
   "source": [
    "## _Manually_ entering data from text into a dictionary"
   ]
  },
  {
   "cell_type": "code",
   "execution_count": 6,
   "metadata": {},
   "outputs": [
    {
     "name": "stdout",
     "output_type": "stream",
     "text": [
      "{'location': ['New York', 'LA', 'San Francisco'], 'quantity': [12327, 17129, 19923]}\n"
     ]
    }
   ],
   "source": [
    "data_dict_manual = {'location': ['New York', 'LA', 'San Francisco'], 'quantity': [12327, 17129, 19923]}\n",
    "print(data_dict_manual)"
   ]
  },
  {
   "cell_type": "markdown",
   "metadata": {},
   "source": [
    "## _Automatically_ extracting workable data from text using Regular Expressions"
   ]
  },
  {
   "cell_type": "code",
   "execution_count": 7,
   "metadata": {},
   "outputs": [],
   "source": [
    "pattern = r'(?P<quantity>\\d+(?:,\\d{3})*)[\\w\\s]+in\\s+(?P<location>([A-Z]+[a-z]+\\s?)+|[A-Z]+)'\n",
    "data_from_regex = re.finditer(pattern, text)"
   ]
  },
  {
   "cell_type": "code",
   "execution_count": 8,
   "metadata": {},
   "outputs": [
    {
     "name": "stdout",
     "output_type": "stream",
     "text": [
      "{'location': ['New York', 'LA', 'San Francisco'], 'quantity': [12327, 17129, 19923]}\n"
     ]
    }
   ],
   "source": [
    "data_dict_regex = {'location': [], 'quantity': []}\n",
    "for match in data_from_regex:\n",
    "    data_dict_regex['location'].append(match.group('location'))\n",
    "    data_dict_regex['quantity'].append(int(match.group('quantity').replace(',', '')))\n",
    "print(data_dict_regex)"
   ]
  },
  {
   "cell_type": "markdown",
   "metadata": {},
   "source": [
    "## Convert the dictionary to a DataFrame"
   ]
  },
  {
   "cell_type": "code",
   "execution_count": 9,
   "metadata": {},
   "outputs": [],
   "source": [
    "freq_dist_tbl = pd.DataFrame(data_dict_regex)\n",
    "freq_dist_tbl.set_index('location', inplace=True)"
   ]
  },
  {
   "cell_type": "markdown",
   "metadata": {},
   "source": [
    "## Exercise - Frequency distribution table"
   ]
  },
  {
   "cell_type": "code",
   "execution_count": 10,
   "metadata": {},
   "outputs": [
    {
     "name": "stdout",
     "output_type": "stream",
     "text": [
      "               quantity\n",
      "location               \n",
      "New York          12327\n",
      "LA                17129\n",
      "San Francisco     19923\n"
     ]
    }
   ],
   "source": [
    "print(freq_dist_tbl)"
   ]
  },
  {
   "cell_type": "markdown",
   "metadata": {},
   "source": [
    "## Exercise - Bar chart"
   ]
  },
  {
   "cell_type": "code",
   "execution_count": 11,
   "metadata": {},
   "outputs": [
    {
     "data": {
      "text/plain": [
       "<matplotlib.axes._subplots.AxesSubplot at 0x7fd9e68fdc18>"
      ]
     },
     "execution_count": 11,
     "metadata": {},
     "output_type": "execute_result"
    },
    {
     "data": {
      "image/png": "[encoded data removed]",
      "text/plain": [
       "<Figure size 432x288 with 1 Axes>"
      ]
     },
     "metadata": {},
     "output_type": "display_data"
    }
   ],
   "source": [
    "freq_dist_tbl.plot.bar(rot=30)"
   ]
  },
  {
   "cell_type": "markdown",
   "metadata": {},
   "source": [
    "## Exercise - Pie chart - Task 1 - Add a column for relative frequency"
   ]
  },
  {
   "cell_type": "code",
   "execution_count": 12,
   "metadata": {},
   "outputs": [],
   "source": [
    "freq_dist_tbl['relative_frequency'] = freq_dist_tbl['quantity'] / freq_dist_tbl['quantity'].sum()"
   ]
  },
  {
   "cell_type": "code",
   "execution_count": 13,
   "metadata": {},
   "outputs": [
    {
     "name": "stdout",
     "output_type": "stream",
     "text": [
      "               quantity  relative_frequency\n",
      "location                                   \n",
      "New York          12327            0.249641\n",
      "LA                17129            0.346888\n",
      "San Francisco     19923            0.403471\n"
     ]
    }
   ],
   "source": [
    "print(freq_dist_tbl)"
   ]
  },
  {
   "cell_type": "markdown",
   "metadata": {},
   "source": [
    "## Exercise - Pie chart - Task 2 - Make a pie chart"
   ]
  },
  {
   "cell_type": "code",
   "execution_count": 14,
   "metadata": {},
   "outputs": [
    {
     "data": {
      "image/png": "[encoded data removed]",
      "text/plain": [
       "<Figure size 432x288 with 1 Axes>"
      ]
     },
     "metadata": {},
     "output_type": "display_data"
    }
   ],
   "source": [
    "labels = list(freq_dist_tbl.index)\n",
    "pct_of_co_sales = list(freq_dist_tbl['relative_frequency'])\n",
    "fig2, ax1 = plt.subplots()\n",
    "ax1.pie(pct_of_co_sales, labels=labels, autopct='%1.1f%%')\n",
    "ax1.axis('equal')\n",
    "plt.show()"
   ]
  },
  {
   "cell_type": "code",
   "execution_count": null,
   "metadata": {},
   "outputs": [],
   "source": []
  }
 ],
 "metadata": {
  "kernelspec": {
   "display_name": "Python 3",
   "language": "python",
   "name": "python3"
  },
  "language_info": {
   "codemirror_mode": {
    "name": "ipython",
    "version": 3
   },
   "file_extension": ".py",
   "mimetype": "text/x-python",
   "name": "python",
   "nbconvert_exporter": "python",
   "pygments_lexer": "ipython3",
   "version": "3.6.5"
  }
 },
 "nbformat": 4,
 "nbformat_minor": 2
}
