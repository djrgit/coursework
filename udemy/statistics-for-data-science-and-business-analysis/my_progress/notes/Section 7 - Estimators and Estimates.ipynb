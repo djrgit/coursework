{
 "cells": [
  {
   "cell_type": "markdown",
   "metadata": {},
   "source": [
    "# Estimator (of a population parameter)\n",
    "   - ## An approximator depending solely on _sample_ information\n",
    "   - ## A specific value is called an _estimate_\n",
    "       - ## _Point estimates_\n",
    "           - ### Point estimate = A _single number_\n",
    "       - ## _Confidence interval estimates_\n",
    "           - ### Confidence interval = An _interval_ between two (2) numbers with a Point estimate in the middle\n",
    "------------------------------------------------------------------------------------------------------------------------"
   ]
  },
  {
   "cell_type": "markdown",
   "metadata": {},
   "source": [
    "# _Point estimators and estimates:_\n",
    "\n",
    "|Estimator       |   |Parameter        |   |Estimate       |\n",
    "|----------------|---|-----------------|---|---------------|\n",
    "|how to estimate |   |what to estimate |   |concrete result|\n",
    "|$$\\bar{x}$$     |of |$$\\mu$$          |-> |52.22          |\n",
    "|$$s^2$$         |of |$$\\sigma^2$$     |-> |1724.93        |\n",
    "\n",
    "------------------------------------------------------------------------------------------------------------------------"
   ]
  },
  {
   "cell_type": "markdown",
   "metadata": {},
   "source": [
    "## There may be many estimators for the same variable; however, they all have two (2) properties:\n",
    "- ## _Bias_\n",
    "- ## _Efficiency_\n",
    "\n",
    "## Seek _unbiased_ and _most efficient_ estimators\n",
    "- ## An _unbiased_ estimator has an expected value equal to the population parameter\n",
    "    - ## e.g. $\\bar{x}$ has an expected value of $\\mu$\n",
    "- ## The _most efficient_ estimators are the ones with the least variability of outcomes\n",
    "    - ## The most efficient estimator is the unbiased estimator with the smallest variance\n",
    "------------------------------------------------------------------------------------------------------------------------"
   ]
  },
  {
   "cell_type": "markdown",
   "metadata": {},
   "source": [
    "# _Confidence intervals_:\n",
    "   - ## A _confidence interval_ is the range within which you expect the _population parameter_ to be, and its estimation is based on the data in the _sample_\n",
    "   - ## _Confidence level_ = $1-\\alpha$,\n",
    "        - ## where $0\\leq\\alpha\\leq1$\n",
    "\n",
    "   - ## Common _confidence levels_ are:\n",
    "        - ## 90%\n",
    "        - ## 95%\n",
    "        - ## 99%\n",
    "    \n",
    "|$$\\alpha$$ |Confidence level |\n",
    "|-----------|-----------------|\n",
    "|10%        |90%              |\n",
    "|5%         |95%              |\n",
    "|1%         |99%              |\n",
    "\n",
    "-------------------------------------------------------------------------------------------------------------------------"
   ]
  },
  {
   "cell_type": "markdown",
   "metadata": {},
   "source": [
    "   - ## Formula for all Confidence intervals:\n",
    "       - ### $[PtEstimate-ReliabilityFactor*StdError,PtEstimate+ReliabiltiyFactor*StdError]$, or\n",
    "       - ### $\\bar{x}\\pm ME$, where ME is Margin of Error       "
   ]
  },
  {
   "cell_type": "markdown",
   "metadata": {},
   "source": [
    "   - ## A _more narrow_ confidence interval translates to higher _uncertainty_\n",
    "\n",
    "   - ## A _more broad_ confidence interval translates to higher _certainty_\n",
    "------------------------------------------------------------------------------------------------------------------------\n",
    "\n",
    "   - ## Two (2) main situations when we can calculate the _confidence intervals_ for a population:\n",
    "       - ## Population variance _known_\n",
    "           - ## An important assumption is that the population is _normally distributed_: $N$~$(\\mu,\\sigma^2)$\n",
    "           - ## Even if it isn't, use a large _sample_ and let the _Central Limit Theorem (CLT)_ perform the normalization\n",
    "           - ## A commonly used term for the z-statistic (z-score) is _'critical value'_\n",
    "           - ## The _z-statistic_ is related to the _Normal distribution_\n",
    "           - ## Finding the _confidence interval_ when population variance is _known_:\n",
    "               - ## $[\\bar{x}-z_{\\frac{\\alpha}{2}}\\frac{\\sigma}{\\sqrt{n}}, \\bar{x}+z_{\\frac{\\alpha}{2}}\\frac{\\sigma}{\\sqrt{n}}]$\n",
    "   \n",
    "       - ## Population variance _unknown_\n",
    "           - ## _Student's T distribution_:\n",
    "               - ## Allows inference through small samples\n",
    "               - ## With unknown population variance\n",
    "               - ## Huge real-life application\n",
    "               - ## Visually, the Student's T distribution graph generally has 'fatter' tails than a normal distribution, allowing for higher dispersion of variables\n",
    "           - ## The _t-statistic_ is related to the _Student's T distribution_:\n",
    "               - # $t_{n-1,\\alpha}=\\frac{\\bar{x}-\\mu}{\\frac{s}{\\sqrt{n}}}$\n",
    "               - ## Degrees of freedom (d.f.)\n",
    "                   - ## For a sample $n$, there are $n-1$ degrees of freedom\n",
    "               - ## The t-table:\n",
    "                   - ## After the 30th (d.f.) row:\n",
    "                       - ## The numbers don't vary that much\n",
    "                       - ## The t-statistic table becomes _almost the same_ as the z-statistic\n",
    "                   - ## As the degrees of freedom depend on the sample, in essence, the bigger the sample, the closer we get to the actual numbers\n",
    "                   - ## Common rule of thumb: for a sample containing _more than 50 observations_, we use the _z-table_ instead of the t-table\n",
    "           - ## Finding the _confidence interval_ when population variance is _unknown_:\n",
    "               - ## $[\\bar{x}-t_{n-1,\\frac{\\alpha}{2}}\\frac{s}{\\sqrt{n}}, \\bar{x}+t_{n-1,\\frac{\\alpha}{2}}\\frac{s}{\\sqrt{n}}]$\n",
    "-------------------------------------------------------------------------------------------------------------------------"
   ]
  },
  {
   "cell_type": "markdown",
   "metadata": {},
   "source": [
    "   - ## Margin of Error (ME):\n",
    "       - ## ME = $ReliabilityFactor*\\frac{Stdev}{\\sqrt{n}}$\n",
    "           - ## Smaller statistics and smaller standard deviations will reduce the margin of error\n",
    "       - ## Population variance _known_:\n",
    "           - ## Margin of error = $z_{\\frac{\\alpha}{2}}\\frac{\\sigma}{\\sqrt{n}}$\n",
    "       - ## Population variance _unknown_:\n",
    "           - ## Margin of error = $t_{n-1,\\frac{\\alpha}{2}}\\frac{s}{\\sqrt{n}}$\n",
    "       - ## A _higher_ confidence level,\n",
    "           - ## Leads to a _higher_ statistic (z or t),\n",
    "               - ## Which means a _higher_ Margin of Error,\n",
    "                   - ## Which leads to a _wider_ confidence interval (CI)                   \n",
    "       - ## If the standard deviation and the sample size are kept constant, a _lower_ confidence level will result in a _narrower_ interval\n",
    "       - ## _Higher_ / _lower_ sample sizes will _decrease_ / _increase_ the Margin of Error and _narrow_ / _widen_ the Confidence interval (CI)"
   ]
  },
  {
   "cell_type": "markdown",
   "metadata": {},
   "source": [
    "|Confidence level      |Statistic                             |Margin of Error |Confidence Interval |\n",
    "|----------------------|--------------------------------------|----------------|--------------------|\n",
    "|                      |$z_{\\frac{\\alpha}{2}}$ $\\uparrow$     |                |                    |\n",
    "|$1-\\alpha$ $\\uparrow$ |$t_{n-1,\\frac{\\alpha}{2}}$ $\\uparrow$ |$ME$ $\\uparrow$ |$CI$ $\\uparrow$     |"
   ]
  },
  {
   "cell_type": "markdown",
   "metadata": {},
   "source": []
  }
 ],
 "metadata": {
  "kernelspec": {
   "display_name": "Python 3",
   "language": "python",
   "name": "python3"
  },
  "language_info": {
   "codemirror_mode": {
    "name": "ipython",
    "version": 3
   },
   "file_extension": ".py",
   "mimetype": "text/x-python",
   "name": "python",
   "nbconvert_exporter": "python",
   "pygments_lexer": "ipython3",
   "version": "3.6.5"
  }
 },
 "nbformat": 4,
 "nbformat_minor": 2
}
