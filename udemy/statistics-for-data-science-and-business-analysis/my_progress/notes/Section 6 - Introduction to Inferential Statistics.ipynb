{
 "cells": [
  {
   "cell_type": "markdown",
   "metadata": {},
   "source": [
    "# Inferential statistics:\n",
    "   - ## Refers to methods that rely on _probability theory_ and _distributions_\n",
    "   - ## Often used to _predict population values_ based on sample data\n",
    "   \n",
    "   - # What is a _distribution_?\n",
    "       - ## A distribution is a function that shows the possible values for a variable and the frequency of their occurence.\n",
    "       - ## The distribution of an event consists not only of the input values that can be observed but is made up of all the possible values\n",
    "       - ## The distribution is defined by the underlying probabilities, _not_ its graphical/visual representation\n",
    "       - ## In inferences, _continuous_ distributions are more common than _discrete_ distributions\n",
    "       - ## In statistics, generally a _\"distribution\"_ refers to a _\"probability distribution\"_\n",
    "           - ## Distribution = _Probability distribution_\n",
    "               - ## _Normal_ (Gaussian) distribution\n",
    "                   - ## $N$~$(\\mu,\\sigma^2)$\n",
    "                   - ### _Controlling for the standard deviation_ moves the curve along the x-axis left/right\n",
    "                   - ### _Controlling for the mean_ decreases/increases the standard deviation and tightens/flattens the curve\n",
    "                   - ### Resembles a bell curve\n",
    "                   - ### Symmetrical\n",
    "                   - ### Mean = median = mode\n",
    "                   - ### Approximate a wide variety of random variables\n",
    "                   - ### Distributions of sample means with large enough sample sizes could be approximated to normal\n",
    "                   - ### All computable statistics are elegant\n",
    "                   - ### Decisions based on normal distribution insights have a good track record\n",
    "                   \n",
    "                   - ## _Standard normal distribution (z)_ is a particular case of the Normal distribution\n",
    "                       - ## Every normal distribution can be _'standardized'_\n",
    "                           - ## If you take a dataset, subtract its mean from each data point and then calculate the mean once again, you will get 0.\n",
    "                           - ## $N$~$(\\mu,\\sigma^2)$ -> standardizing function -> $N$~$(0,1)$\n",
    "                           - ## $StandardizedVariable = \\frac{OrigVariable-Mean}{Stdev}$\n",
    "                           - ## $zScore = \\frac{x-\\mu}{\\sigma}$\n",
    "               - ## _Binomial_ distribution - skewed left/right\n",
    "               - ## _Uniform_ distribution - values are all the same\n",
    "       \n",
    "   \n",
    "   - # _Point estimates_\n",
    "   \n",
    "   - # _Confidence intervals_\n",
    "   \n",
    "   - # _The Central Limit Theorem_\n",
    "       (One of the most important concepts in statistics)\n",
    "       - ## Given a dataset:\n",
    "           - ### No matter the distribution of the entire dataset,\n",
    "           - ### The more samples you extract ($k\\rightarrow\\infty$),\n",
    "           - ### The bigger the samples ($n\\rightarrow\\infty$),\n",
    "           - ### The means of the samples you took from the entire dataset will approximate a normal distribution\n",
    "\n",
    "       \n",
    "   - # _The Standard error_\n",
    "       (widely used and VERY important)\n",
    "       - ## The _standard deviation_ of the _distribution_ formed by the _sample means_\n",
    "       - ## $Stdev = \\sqrt{\\frac{\\sigma^2}{n}} = \\frac{\\sigma}{\\sqrt{n}}$\n",
    "       - ## Standard error decreases $\\frac{\\sigma}{\\sqrt{n}}\\downarrow$ when sample size $n\\uparrow$\n",
    "       - ## Bigger samples give a better approximation of the population"
   ]
  },
  {
   "cell_type": "code",
   "execution_count": null,
   "metadata": {},
   "outputs": [],
   "source": []
  }
 ],
 "metadata": {
  "kernelspec": {
   "display_name": "Python 3",
   "language": "python",
   "name": "python3"
  },
  "language_info": {
   "codemirror_mode": {
    "name": "ipython",
    "version": 3
   },
   "file_extension": ".py",
   "mimetype": "text/x-python",
   "name": "python",
   "nbconvert_exporter": "python",
   "pygments_lexer": "ipython3",
   "version": "3.6.6"
  }
 },
 "nbformat": 4,
 "nbformat_minor": 2
}
