{
 "cells": [
  {
   "cell_type": "markdown",
   "metadata": {},
   "source": [
    "# Practical Example (Column Labels and Their _Types_ of Data)\n",
    "\n",
    "   - ## Tips:\n",
    "       - ### A simple way to see if a variable is numerical or categorical is to interpret its _mean_\n",
    "       - ### The same variable can have different _levels of measurement_ even within the same database\n",
    "       - ### Variables that can only take two (2) possible values are called _binary_: (Male/Female, Yes/No, etc.)\n",
    "       - ### Should the data be classified as _Population_ or _Sample_ data?  It will determine which formulas to use\n",
    "       - ### _A correlation coefficient below 0.2 can often be disregarded_\n",
    "   \n",
    "   - ## Column Labels:\n",
    "       - ## ID - although ID may look numerical, it is _**categorical**_\n",
    "           - ### Level of measurement is _**qualitative, nominal**_\n",
    "\n",
    "       - ## Price - _**numerical**_ (can be Discrete OR Continuous)\n",
    "       (Banks and corporations consider Price continuous)\n",
    "           - ### Level of measurement is _**ratio**_\n",
    "\n",
    "       - ## Age - _**numerical**_ (can be Discrete OR Continuous)\n",
    "           - ### Level of measurement is _**quantitative, ratio**_\n",
    "\n",
    "       - ## Age Interval - _**numerical**_ (can be Discrete OR Continuous)\n",
    "           - ### Level of measurement is _**qualitative, ordinal**_\n",
    "\n",
    "       - ## Gender - _**categorical**_\n",
    "           - ### Level of measurement is _**qualitative, nominal**_\n",
    "\n",
    "       - ## State - _**categorical**_\n",
    "           - ### Level of measurement is _**qualitative, nominal**_"
   ]
  },
  {
   "cell_type": "markdown",
   "metadata": {},
   "source": [
    "# Presenting Data:\n",
    "   - ## Gender - A good way to represent this _categorical_ data is with a _Pie Chart_\n",
    "   - ## Location - Could present State data with a Bar Chart, Pie Chart, or _Pareto Diagram_\n",
    "   - ## Age Interval - _Histogram_"
   ]
  },
  {
   "cell_type": "code",
   "execution_count": null,
   "metadata": {},
   "outputs": [],
   "source": []
  }
 ],
 "metadata": {
  "kernelspec": {
   "display_name": "Python 3",
   "language": "python",
   "name": "python3"
  },
  "language_info": {
   "codemirror_mode": {
    "name": "ipython",
    "version": 3
   },
   "file_extension": ".py",
   "mimetype": "text/x-python",
   "name": "python",
   "nbconvert_exporter": "python",
   "pygments_lexer": "ipython3",
   "version": "3.6.5"
  }
 },
 "nbformat": 4,
 "nbformat_minor": 2
}
