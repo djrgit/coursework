{
 "cells": [
  {
   "cell_type": "markdown",
   "metadata": {},
   "source": [
    "# Section 4 - Measures of central tendency, asymmetry, and variability\n",
    "-------------------------------------------------------------------------------------------------------------------------"
   ]
  },
  {
   "cell_type": "markdown",
   "metadata": {},
   "source": [
    "# Univariate measures:\n",
    "# The main measures of _central tendency_ - mean, median, and mode:\n",
    "(There is no best measure between mean, median, and mode, but they should be used together rather than independently)\n",
    "\n",
    "- ## _Mean_ - a simple average, but easily affected by _outliers_ and is _not_ enough to make definite conclusions\n",
    "    - ## _Population_ mean:\n",
    "        - ## $\\mu = \\frac{\\sum_{i=1}^{N}x_i}{N}$\n",
    "    - ## _Sample_ mean:\n",
    "        - ## $\\bar{x} = \\frac{\\sum_{i=1}^{n}x_i}{n}$\n",
    "\n",
    "\n",
    "- ## _Median_ - the middle number in an ordered dataset\n",
    "    - ## $Median =$ the number at position $\\frac{n+1}{2}$ in an ordered list of $n$ observations\n",
    "\n",
    "\n",
    "- ## _Mode_ - the value that occurs most often\n",
    "    - ## Sometimes there is _no mode_\n",
    "    - ## Sometimes there may be _more than one mode_; (up to 2-3 modes are tolerable)\n",
    "-------------------------------------------------------------------------------------------------------------------------"
   ]
  },
  {
   "cell_type": "markdown",
   "metadata": {},
   "source": [
    "# Measures of _asymmetry_ - measuring _skewness_:\n",
    "\n",
    "- ## _Skewness_\n",
    "    - ## Indicates whether the data is concentrated on one side\n",
    "        - _**Positive (right) skew**_ - outliers / tail favors the right side; **median < mean**\n",
    "        - _**Zero skew**_ - the distribution is symmetrical; **mean = median = mode**\n",
    "        - _**Negative (left) skew**_ - outliers / tail favors the left side; **mean < median**\n",
    "    - ## $Sample$ $skewness = \\frac{\\frac{1}{n}\\sum_{i=1}^{n}(x_i-\\bar{x})^3}{\\sqrt{\\frac{1}{n-1}\\sum_{i=1}^{n}(x_i-\\bar{x})^2}^3}$\n",
    "-------------------------------------------------------------------------------------------------------------------------"
   ]
  },
  {
   "cell_type": "markdown",
   "metadata": {},
   "source": [
    "# Measures of _variability_ - variance, standard deviation, and coefficient of variation:\n",
    "(There are different formulas for sample and population)\n",
    "\n",
    "- ## _Variance_\n",
    "    - ## _Population_ variance:\n",
    "        - ## $\\sigma^2 = \\frac{\\sum_{i=1}^{N}(x_i-\\mu)^2}{N}$\n",
    "    - ## _Sample_ variance:\n",
    "        - ## $s^2 = \\frac{\\sum_{i=1}^{n}(x_i-\\bar{x})^2}{n-1}$\n",
    "            - ## A lower denominator (relative to the denominator in the _Population_ variance formula) yields a greater _potential_ variance due to the dataset ony being a sample from a larger population\n",
    "\n",
    "- ## _Standard deviation_ - the most common measure of variability for a _single_ dataset\n",
    "(Comparing the _**standard deviations**_ of two (2) different datasets is **meaningless**)\n",
    "    - ## _Population_ standard deviation:\n",
    "        - ## $\\sigma = \\sqrt{\\sigma^2}$\n",
    "    - ## _Sample_ standard deviation:\n",
    "        - ## $s = \\sqrt{s^2}$\n",
    "\n",
    "- ## _Coefficient of variation_ (CV) - (relative standard deviation) - does _not_ have a unit of measurement\n",
    "(Comparing the _**coefficients of variation**_ of two (2) or more different datasets **has meaning**)\n",
    "    - ## $CV = \\frac{Stdev}{mean}$\n",
    "    - ## _Population_ CV\n",
    "        - ## $c_v = \\frac{\\sigma}{\\mu}$\n",
    "    - ## _Sample_ CV\n",
    "        - ## $\\hat{c}_v = \\frac{s}{\\bar{x}}$\n",
    "-------------------------------------------------------------------------------------------------------------------------"
   ]
  },
  {
   "cell_type": "markdown",
   "metadata": {},
   "source": [
    "# Multivariate measures (measures of relationship):\n",
    "# Calculating and understanding _covariance_:\n",
    "(The main statistic to measure the correlation between two (2) variables is called _covariance_.  It can be very small (close to zero (0) or very large (in the millions, etc.))\n",
    "\n",
    "- ## _Covariance_\n",
    "    - ## Covariance may be:\n",
    "        - ## > 0\n",
    "        - ## = 0\n",
    "        - ## < 0\n",
    "    - ## _Population_ covariance\n",
    "        - ## $\\sigma_{xy} = \\frac{\\sum_{i=1}^{N}(x_i-\\mu_x)*(y_i-\\mu_y)}{N}$\n",
    "    - ## _Sample_ covariance\n",
    "        - ## $s_{xy} = \\frac{\\sum_{i=1}^{n}(x_i-\\bar{x})*(y_i-\\bar{y})}{n-1}$\n",
    "\n",
    "\n",
    "# _Correlation coefficient_:\n",
    "(Correlation adjusts covariance, so that the relationship between the two (2) variables becomes easy and intuitive to interpret.)\n",
    "\n",
    "- ## _Correlation coefficient_ - must be between -1 and 1 ( -1 $\\leq$ Correlation coefficient $\\leq$ 1 )\n",
    "    - If Correlation coeff. = 1 (_**Perfect positive correlation**_)\n",
    "    - If Correlation coeff. = 0 (_**Absolutely independent variables**_)\n",
    "    - If Correlation coeff. = -1 (_**Perfect negative correlation**_)\n",
    "    - If Correlation coeff. = [-1,0) (_**Imperfect negative correlation**_)\n",
    "\n",
    "    - ## $corrcoeff = \\frac{covariance(x,y)}{Stdev(x)*Stdev(y)}$ = $\\frac{covariance(y,x)}{Stdev(y)*Stdev(x)}$\n",
    "    - ## _Population_ correlation coefficient\n",
    "        - ## $corrcoeff_{pop} = \\frac{\\sigma_{xy}}{\\sigma_x\\sigma_y}$\n",
    "    - ## _Sample_ correlation coefficient\n",
    "        - ## $corrcoeff_{smpl} = \\frac{s_{xy}}{s_xs_y}$\n",
    "        \n",
    "# _Causality_:\n",
    "- Important to understand the direction of _**causal relationships**_\n",
    "- _Correlation_ _**does not**_ imply _causation_"
   ]
  },
  {
   "cell_type": "code",
   "execution_count": null,
   "metadata": {},
   "outputs": [],
   "source": []
  }
 ],
 "metadata": {
  "kernelspec": {
   "display_name": "Python 3",
   "language": "python",
   "name": "python3"
  },
  "language_info": {
   "codemirror_mode": {
    "name": "ipython",
    "version": 3
   },
   "file_extension": ".py",
   "mimetype": "text/x-python",
   "name": "python",
   "nbconvert_exporter": "python",
   "pygments_lexer": "ipython3",
   "version": "3.6.5"
  }
 },
 "nbformat": 4,
 "nbformat_minor": 2
}
