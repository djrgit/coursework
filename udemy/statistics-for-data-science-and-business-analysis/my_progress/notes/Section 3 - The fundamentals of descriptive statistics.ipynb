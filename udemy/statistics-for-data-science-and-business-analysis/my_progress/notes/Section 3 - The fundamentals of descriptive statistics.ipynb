{
 "cells": [
  {
   "cell_type": "markdown",
   "metadata": {},
   "source": [
    "# Section 3 - The fundamentals of descriptive statistics\n",
    "-------------------------------------------------------------------------------------------------------------------------"
   ]
  },
  {
   "cell_type": "markdown",
   "metadata": {},
   "source": [
    "# The various _types_ of data we can work with\n",
    "\n",
    "## _Types_ of data:\n",
    "\n",
    "- ### _Categorical_ describes:\n",
    "\n",
    " - _**categories / groups**_\n",
    "\n",
    " - _answers to **yes / no** questions_\n",
    "\n",
    "\n",
    "- ### _Numerical_ has two (2) subsets:\n",
    "\n",
    " - _**discrete**_\n",
    "\n",
    " - _**continuous**_\n",
    "-------------------------------------------------------------------------------------------------------------------------"
   ]
  },
  {
   "cell_type": "markdown",
   "metadata": {},
   "source": [
    "# Levels of _measurement_\n",
    "\n",
    "## _Measurement_ levels:\n",
    "\n",
    "- ### _Qualitative_:\n",
    " - _**nominal**_ - _not_ numbers and _cannot_ be put into logical order\n",
    "\n",
    " - _**ordinal**_ - _can_ be put into some logical ordering\n",
    "\n",
    "- ### _Quantitative_:\n",
    " - _**interval**_ - zero (0) is meaningless - **Ex: Temperature (&deg;C vs. &deg;F relative to &deg;K)**\n",
    " - _**ratio**_ - has a true zero (0) - **Ex: Length**\n",
    "-------------------------------------------------------------------------------------------------------------------------"
   ]
  },
  {
   "cell_type": "markdown",
   "metadata": {},
   "source": [
    "# Categorical variables.  Visualization techniques for categorical variables\n",
    "\n",
    "## _Visualizing data is the most intuitive way to interpret it_\n",
    "\n",
    "- ## The most common ways to visualize categorical data include:\n",
    "\n",
    "    - ### _Frequency distribution tables_\n",
    "\n",
    "    - ### _Bar charts_\n",
    "\n",
    "    - ### _Pie charts_\n",
    "\n",
    "    - ### _Pareto diagrams_\n",
    "-------------------------------------------------------------------------------------------------------------------------"
   ]
  },
  {
   "cell_type": "markdown",
   "metadata": {},
   "source": [
    "# Numerical variables.  Using a frequency distribution table\n",
    "\n",
    "- ## Generally, it's preferred to work with groups of data containing _between 5 to 20 intervals_\n",
    "\n",
    "    - This allows the summary to be useful, but\n",
    "\n",
    "    - It can vary from case to case\n",
    "\n",
    "- ## Relative frequency - the frequency of a given interval as a part of the total\n",
    "-------------------------------------------------------------------------------------------------------------------------"
   ]
  },
  {
   "cell_type": "markdown",
   "metadata": {},
   "source": [
    "## _Histograms_\n",
    "- The most common graph used to represent _**numerical**_ data\n",
    "-------------------------------------------------------------------------------------------------------------------------"
   ]
  },
  {
   "cell_type": "markdown",
   "metadata": {},
   "source": [
    "## Visualizing relationships between two (2) variables:\n",
    "\n",
    "- ## _Cross Tables / Contingency Tables_\n",
    "    - Used for _**categorical**_ data\n",
    "    - Side-by-side bar charts\n",
    "\n",
    "- ## _Scatter Plots_\n",
    "    - Used for two (2) _**numerical**_ sets of data\n",
    "-------------------------------------------------------------------------------------------------------------------------"
   ]
  },
  {
   "cell_type": "code",
   "execution_count": null,
   "metadata": {},
   "outputs": [],
   "source": []
  }
 ],
 "metadata": {
  "kernelspec": {
   "display_name": "Python 3",
   "language": "python",
   "name": "python3"
  },
  "language_info": {
   "codemirror_mode": {
    "name": "ipython",
    "version": 3
   },
   "file_extension": ".py",
   "mimetype": "text/x-python",
   "name": "python",
   "nbconvert_exporter": "python",
   "pygments_lexer": "ipython3",
   "version": "3.6.5"
  }
 },
 "nbformat": 4,
 "nbformat_minor": 2
}
