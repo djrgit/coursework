{
 "cells": [
  {
   "cell_type": "markdown",
   "metadata": {},
   "source": [
    "# [Numbers that are a power of their sum of digits](https://www.codewars.com/kata/numbers-that-are-a-power-of-their-sum-of-digits/train/python)"
   ]
  },
  {
   "cell_type": "code",
   "execution_count": 1,
   "metadata": {},
   "outputs": [],
   "source": [
    "import numpy as np"
   ]
  },
  {
   "cell_type": "code",
   "execution_count": 2,
   "metadata": {},
   "outputs": [],
   "source": [
    "def sum_num(num):\n",
    "    return float(sum([int(d) for d in str(num)]))"
   ]
  },
  {
   "cell_type": "code",
   "execution_count": 3,
   "metadata": {},
   "outputs": [],
   "source": [
    "def power_sumDigTerm(n):\n",
    "    \n",
    "    seq = []\n",
    "    \n",
    "    arr = np.arange(1000, dtype=object)\n",
    "    arr_exp_n = arr.copy()\n",
    "    sum_func = np.vectorize(sum_num)\n",
    "    \n",
    "    for i in range(2, 15):\n",
    "        arr_exp_n = arr_exp_n * arr\n",
    "        nums = arr_exp_n[sum_func(arr_exp_n) == arr]\n",
    "        nums = [num for num in nums if num > 1]\n",
    "        seq.extend(nums)\n",
    "    \n",
    "    seq.sort()\n",
    "    print(seq)\n",
    "\n",
    "    return seq[n-1]"
   ]
  },
  {
   "cell_type": "code",
   "execution_count": 4,
   "metadata": {},
   "outputs": [
    {
     "name": "stdout",
     "output_type": "stream",
     "text": [
      "[81, 512, 2401, 4913, 5832, 17576, 19683, 234256, 390625, 614656, 1679616, 17210368, 34012224, 52521875, 60466176, 205962976, 612220032, 8303765625, 10460353203, 24794911296, 27512614111, 52523350144, 68719476736, 271818611107, 1174711139837, 2207984167552, 6722988818432, 20047612231936, 72301961339136, 248155780267521, 3904305912313344, 45848500718449031, 81920000000000000, 150094635296999121, 13744803133596058624, 19687440434072265625, 53861511409489970176, 73742412689492826049, 179084769654285362176, 480682838924478847449, 671088640000000000000, 8007313507497959524352, 21048519522998348950643, 23316389970546096340992, 2518170116818978404827136, 14076019706120526112710656, 146853371345156431381127623, 166507350731038802170609664, 213292826014568334917410816, 240984500018808097135911707, 2017516459574609153391845376, 2670419511272061205254504361, 4491199828872408503792328704, 4946966739525117513427734375, 13695791164569918553628942336, 101472439712019470540189876224, 283956682347124706942551243009, 667840509835890864312744140625, 4219782742781494680756610809856]\n"
     ]
    },
    {
     "data": {
      "text/plain": [
       "73742412689492826049"
      ]
     },
     "execution_count": 4,
     "metadata": {},
     "output_type": "execute_result"
    }
   ],
   "source": [
    "power_sumDigTerm(38)"
   ]
  },
  {
   "cell_type": "code",
   "execution_count": null,
   "metadata": {},
   "outputs": [],
   "source": []
  }
 ],
 "metadata": {
  "kernelspec": {
   "display_name": "Python 3",
   "language": "python",
   "name": "python3"
  },
  "language_info": {
   "codemirror_mode": {
    "name": "ipython",
    "version": 3
   },
   "file_extension": ".py",
   "mimetype": "text/x-python",
   "name": "python",
   "nbconvert_exporter": "python",
   "pygments_lexer": "ipython3",
   "version": "3.8.5"
  }
 },
 "nbformat": 4,
 "nbformat_minor": 2
}
