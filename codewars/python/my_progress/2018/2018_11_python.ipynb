{
 "cells": [
  {
   "cell_type": "markdown",
   "metadata": {},
   "source": [
    "# [Tic-Tac-Toe Checker](https://www.codewars.com/kata/tic-tac-toe-checker/python)"
   ]
  },
  {
   "cell_type": "code",
   "execution_count": 1,
   "metadata": {},
   "outputs": [],
   "source": [
    "import numpy as np"
   ]
  },
  {
   "cell_type": "code",
   "execution_count": 2,
   "metadata": {},
   "outputs": [],
   "source": [
    "# Sample board layout\n",
    "board = [[0, 0, 1], [0, 1, 2], [2, 1, 0]]"
   ]
  },
  {
   "cell_type": "code",
   "execution_count": 3,
   "metadata": {},
   "outputs": [],
   "source": [
    "def isSolved(board):\n",
    "    win_check = None\n",
    "    board = np.array(board)\n",
    "    board_T = board.T\n",
    "    neg_diag = [board[i][i] for i in list(range(3))]\n",
    "    pos_diag = [board[::-1][i][i] for i in list(range(3))]\n",
    "    \n",
    "    if any(set(row) == {1} for row in board) or \\\n",
    "       any(set(col) == {1} for col in board.T) or \\\n",
    "       all(i == 1 for i in neg_diag) or \\\n",
    "       all(i == 1 for i in pos_diag):\n",
    "        win_check = 1\n",
    "    elif any(set(row) == {2} for row in board) or \\\n",
    "         any(set(col) == {2} for col in board.T) or \\\n",
    "         all(i == 2 for i in neg_diag) or \\\n",
    "         all(i == 2 for i in pos_diag):\n",
    "        win_check = 2\n",
    "    elif any(board.flatten() == 0):\n",
    "        win_check = -1\n",
    "    else:\n",
    "        win_check = 0\n",
    "        \n",
    "    return win_check"
   ]
  },
  {
   "cell_type": "code",
   "execution_count": 4,
   "metadata": {},
   "outputs": [
    {
     "data": {
      "text/plain": [
       "-1"
      ]
     },
     "execution_count": 4,
     "metadata": {},
     "output_type": "execute_result"
    }
   ],
   "source": [
    "isSolved(board)"
   ]
  },
  {
   "cell_type": "code",
   "execution_count": null,
   "metadata": {},
   "outputs": [],
   "source": []
  }
 ],
 "metadata": {
  "kernelspec": {
   "display_name": "Python 3",
   "language": "python",
   "name": "python3"
  },
  "language_info": {
   "codemirror_mode": {
    "name": "ipython",
    "version": 3
   },
   "file_extension": ".py",
   "mimetype": "text/x-python",
   "name": "python",
   "nbconvert_exporter": "python",
   "pygments_lexer": "ipython3",
   "version": "3.6.6"
  }
 },
 "nbformat": 4,
 "nbformat_minor": 2
}
