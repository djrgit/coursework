{
 "cells": [
  {
   "cell_type": "markdown",
   "metadata": {},
   "source": [
    "# [Tic-Tac-Toe Checker](https://www.codewars.com/kata/tic-tac-toe-checker/python)"
   ]
  },
  {
   "cell_type": "code",
   "execution_count": 1,
   "metadata": {},
   "outputs": [],
   "source": [
    "import numpy as np"
   ]
  },
  {
   "cell_type": "code",
   "execution_count": 2,
   "metadata": {},
   "outputs": [],
   "source": [
    "# Sample board layout\n",
    "board = [[0, 0, 1], [0, 1, 2], [2, 1, 0]]"
   ]
  },
  {
   "cell_type": "code",
   "execution_count": 3,
   "metadata": {},
   "outputs": [],
   "source": [
    "def isSolved(board):\n",
    "    win_check = None\n",
    "    board = np.array(board)\n",
    "    board_T = board.T\n",
    "    neg_diag = [board[i][i] for i in list(range(3))]\n",
    "    pos_diag = [board[::-1][i][i] for i in list(range(3))]\n",
    "    \n",
    "    if any(set(row) == {1} for row in board) or \\\n",
    "       any(set(col) == {1} for col in board.T) or \\\n",
    "       all(i == 1 for i in neg_diag) or \\\n",
    "       all(i == 1 for i in pos_diag):\n",
    "        win_check = 1\n",
    "    elif any(set(row) == {2} for row in board) or \\\n",
    "         any(set(col) == {2} for col in board.T) or \\\n",
    "         all(i == 2 for i in neg_diag) or \\\n",
    "         all(i == 2 for i in pos_diag):\n",
    "        win_check = 2\n",
    "    elif any(board.flatten() == 0):\n",
    "        win_check = -1\n",
    "    else:\n",
    "        win_check = 0\n",
    "        \n",
    "    return win_check"
   ]
  },
  {
   "cell_type": "code",
   "execution_count": 4,
   "metadata": {},
   "outputs": [
    {
     "data": {
      "text/plain": [
       "-1"
      ]
     },
     "execution_count": 4,
     "metadata": {},
     "output_type": "execute_result"
    }
   ],
   "source": [
    "isSolved(board)"
   ]
  },
  {
   "cell_type": "markdown",
   "metadata": {},
   "source": [
    "# [Are they the \"same\"?](https://www.codewars.com/kata/are-they-the-same/train/python)"
   ]
  },
  {
   "cell_type": "code",
   "execution_count": 5,
   "metadata": {},
   "outputs": [],
   "source": [
    "a = [121, 144, 19, 161, 19, 144, 19, 11]  \n",
    "b = [121, 14641, 20736, 361, 25921, 361, 20736, 361]"
   ]
  },
  {
   "cell_type": "code",
   "execution_count": 6,
   "metadata": {},
   "outputs": [],
   "source": [
    "def comp(array1, array2):\n",
    "    try:\n",
    "        return sorted(x**2 for x in array1) == sorted(array2)\n",
    "    except:\n",
    "        return False"
   ]
  },
  {
   "cell_type": "code",
   "execution_count": 7,
   "metadata": {},
   "outputs": [
    {
     "data": {
      "text/plain": [
       "True"
      ]
     },
     "execution_count": 7,
     "metadata": {},
     "output_type": "execute_result"
    }
   ],
   "source": [
    "comp(a, b)"
   ]
  },
  {
   "cell_type": "markdown",
   "metadata": {},
   "source": [
    "# [To square(root) or not to square(root)](https://www.codewars.com/kata/to-square-root-or-not-to-square-root/train/python)"
   ]
  },
  {
   "cell_type": "code",
   "execution_count": 8,
   "metadata": {},
   "outputs": [],
   "source": [
    "import numpy as np"
   ]
  },
  {
   "cell_type": "code",
   "execution_count": 9,
   "metadata": {},
   "outputs": [],
   "source": [
    "a = [4, 3, 9, 7, 2, 1 ]"
   ]
  },
  {
   "cell_type": "code",
   "execution_count": 10,
   "metadata": {},
   "outputs": [],
   "source": [
    "def square_or_square_root(arr):\n",
    "    return [int(np.sqrt(x)) if np.sqrt(x) % 1 == 0 else x ** 2 for x in arr]"
   ]
  },
  {
   "cell_type": "code",
   "execution_count": 11,
   "metadata": {},
   "outputs": [
    {
     "data": {
      "text/plain": [
       "[2, 9, 3, 49, 4, 1]"
      ]
     },
     "execution_count": 11,
     "metadata": {},
     "output_type": "execute_result"
    }
   ],
   "source": [
    "square_or_square_root(a)"
   ]
  },
  {
   "cell_type": "code",
   "execution_count": null,
   "metadata": {},
   "outputs": [],
   "source": []
  }
 ],
 "metadata": {
  "kernelspec": {
   "display_name": "Python 3",
   "language": "python",
   "name": "python3"
  },
  "language_info": {
   "codemirror_mode": {
    "name": "ipython",
    "version": 3
   },
   "file_extension": ".py",
   "mimetype": "text/x-python",
   "name": "python",
   "nbconvert_exporter": "python",
   "pygments_lexer": "ipython3",
   "version": "3.6.6"
  }
 },
 "nbformat": 4,
 "nbformat_minor": 2
}
