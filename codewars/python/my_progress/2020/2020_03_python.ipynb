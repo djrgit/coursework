{
 "cells": [
  {
   "cell_type": "markdown",
   "metadata": {},
   "source": [
    "# [Scraping: Get the Year a CodeWarrior Joined](https://www.codewars.com/kata/scraping-get-the-year-a-codewarrior-joined/train/python)"
   ]
  },
  {
   "cell_type": "code",
   "execution_count": 153,
   "metadata": {},
   "outputs": [],
   "source": [
    "import re\n",
    "import urllib.request"
   ]
  },
  {
   "cell_type": "code",
   "execution_count": 160,
   "metadata": {},
   "outputs": [],
   "source": [
    "def get_member_since(username):\n",
    "    base_url = 'https://www.codewars.com/users/'\n",
    "    combined_url = base_url + username\n",
    "    \n",
    "    response = urllib.request.urlopen(combined_url)\n",
    "    html = response.read().decode('utf-8')\n",
    "    \n",
    "    pattern = r'Member Since:.*(\\w{3,4}\\s\\d{4}).*Last Seen'\n",
    "    m = re.search(pattern, html)\n",
    "    \n",
    "    return m.groups()[0]"
   ]
  },
  {
   "cell_type": "code",
   "execution_count": 162,
   "metadata": {},
   "outputs": [
    {
     "data": {
      "text/plain": [
       "'Oct 2012'"
      ]
     },
     "execution_count": 162,
     "metadata": {},
     "output_type": "execute_result"
    }
   ],
   "source": [
    "get_member_since('jhoffner')"
   ]
  },
  {
   "cell_type": "code",
   "execution_count": null,
   "metadata": {},
   "outputs": [],
   "source": []
  }
 ],
 "metadata": {
  "kernelspec": {
   "display_name": "Python 3",
   "language": "python",
   "name": "python3"
  },
  "language_info": {
   "codemirror_mode": {
    "name": "ipython",
    "version": 3
   },
   "file_extension": ".py",
   "mimetype": "text/x-python",
   "name": "python",
   "nbconvert_exporter": "python",
   "pygments_lexer": "ipython3",
   "version": "3.6.8"
  }
 },
 "nbformat": 4,
 "nbformat_minor": 2
}
