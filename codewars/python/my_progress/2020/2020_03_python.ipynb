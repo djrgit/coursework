{
 "cells": [
  {
   "cell_type": "markdown",
   "metadata": {},
   "source": [
    "# [Scraping: Get the Year a CodeWarrior Joined](https://www.codewars.com/kata/scraping-get-the-year-a-codewarrior-joined/train/python)"
   ]
  },
  {
   "cell_type": "code",
   "execution_count": 1,
   "metadata": {},
   "outputs": [],
   "source": [
    "import re\n",
    "import urllib.request"
   ]
  },
  {
   "cell_type": "code",
   "execution_count": 2,
   "metadata": {},
   "outputs": [],
   "source": [
    "def get_member_since(username):\n",
    "    base_url = 'https://www.codewars.com/users/'\n",
    "    combined_url = base_url + username\n",
    "    \n",
    "    response = urllib.request.urlopen(combined_url)\n",
    "    html = response.read().decode('utf-8')\n",
    "    \n",
    "    pattern = r'Member Since:.*(\\w{3,4}\\s\\d{4}).*Last Seen'\n",
    "    m = re.search(pattern, html)\n",
    "    \n",
    "    return m.groups()[0]"
   ]
  },
  {
   "cell_type": "code",
   "execution_count": 3,
   "metadata": {},
   "outputs": [
    {
     "data": {
      "text/plain": [
       "'Jul 2018'"
      ]
     },
     "execution_count": 3,
     "metadata": {},
     "output_type": "execute_result"
    }
   ],
   "source": [
    "get_member_since('djrgit')"
   ]
  },
  {
   "cell_type": "code",
   "execution_count": null,
   "metadata": {},
   "outputs": [],
   "source": []
  },
  {
   "cell_type": "markdown",
   "metadata": {},
   "source": [
    "# [Following the Paths of Numbers Through Prime Factorization](https://www.codewars.com/kata/following-the-paths-of-numbers-through-prime-factorization/train/python)"
   ]
  },
  {
   "cell_type": "code",
   "execution_count": 4,
   "metadata": {},
   "outputs": [],
   "source": [
    "import functools\n",
    "\n",
    "\n",
    "def find_divisors(arr, max_div, divs):\n",
    "    new_divs = []\n",
    "    \n",
    "    if max_div in arr:\n",
    "        return max_div\n",
    "    \n",
    "    else:\n",
    "        for i in list(set(arr)):\n",
    "            if max_div % i == 0:\n",
    "                div = max_div // i\n",
    "                if max_div not in divs:\n",
    "                    new_divs.append(max_div)\n",
    "                if div not in divs:\n",
    "                    new_divs.append(div)\n",
    "        divs += new_divs\n",
    "        return divs + [find_divisors(arr, d, divs) for d in new_divs]\n",
    "\n",
    "\n",
    "def get_num(arr):\n",
    "    divisors = []\n",
    "    \n",
    "    n = functools.reduce(lambda a,b: a*b, arr)\n",
    "    \n",
    "    results = find_divisors(arr, n, divisors)\n",
    "    total_divs = len(set([d for d in results if isinstance(d, int)]))\n",
    "    \n",
    "    lo = min(arr)\n",
    "    hi = int(n // lo)\n",
    "    \n",
    "    return [n, total_divs, lo, hi]"
   ]
  },
  {
   "cell_type": "code",
   "execution_count": 5,
   "metadata": {},
   "outputs": [],
   "source": [
    "a = [2,3,5,5]\n",
    "b = [2,3,3,3,7]\n",
    "c = [3,3,3,11]\n",
    "d = [2,13,2,5,2,5,3,3]"
   ]
  },
  {
   "cell_type": "code",
   "execution_count": 6,
   "metadata": {},
   "outputs": [
    {
     "data": {
      "text/plain": [
       "[150, 11, 2, 75]"
      ]
     },
     "execution_count": 6,
     "metadata": {},
     "output_type": "execute_result"
    }
   ],
   "source": [
    "get_num(a)"
   ]
  },
  {
   "cell_type": "code",
   "execution_count": 7,
   "metadata": {},
   "outputs": [
    {
     "data": {
      "text/plain": [
       "[378, 15, 2, 189]"
      ]
     },
     "execution_count": 7,
     "metadata": {},
     "output_type": "execute_result"
    }
   ],
   "source": [
    "get_num(b)"
   ]
  },
  {
   "cell_type": "code",
   "execution_count": 8,
   "metadata": {},
   "outputs": [
    {
     "data": {
      "text/plain": [
       "[297, 7, 3, 99]"
      ]
     },
     "execution_count": 8,
     "metadata": {},
     "output_type": "execute_result"
    }
   ],
   "source": [
    "get_num(c)"
   ]
  },
  {
   "cell_type": "code",
   "execution_count": 9,
   "metadata": {},
   "outputs": [
    {
     "data": {
      "text/plain": [
       "[23400, 71, 2, 11700]"
      ]
     },
     "execution_count": 9,
     "metadata": {},
     "output_type": "execute_result"
    }
   ],
   "source": [
    "get_num(d)"
   ]
  },
  {
   "cell_type": "code",
   "execution_count": 10,
   "metadata": {
    "scrolled": true
   },
   "outputs": [
    {
     "data": {
      "text/plain": [
       "[260125687311148586308592547092538588016189523,\n",
       " 399,\n",
       " 131,\n",
       " 1985692269550752567241164481622431969589233]"
      ]
     },
     "execution_count": 10,
     "metadata": {},
     "output_type": "execute_result"
    }
   ],
   "source": [
    "get_num([131, 1297, 2689, 2689, 2689, 4057, 4057, 4057, 4057, 4129, 4129, 4129, 4129])"
   ]
  },
  {
   "cell_type": "code",
   "execution_count": null,
   "metadata": {},
   "outputs": [],
   "source": []
  }
 ],
 "metadata": {
  "kernelspec": {
   "display_name": "Python 3",
   "language": "python",
   "name": "python3"
  },
  "language_info": {
   "codemirror_mode": {
    "name": "ipython",
    "version": 3
   },
   "file_extension": ".py",
   "mimetype": "text/x-python",
   "name": "python",
   "nbconvert_exporter": "python",
   "pygments_lexer": "ipython3",
   "version": "3.8.5"
  }
 },
 "nbformat": 4,
 "nbformat_minor": 2
}
